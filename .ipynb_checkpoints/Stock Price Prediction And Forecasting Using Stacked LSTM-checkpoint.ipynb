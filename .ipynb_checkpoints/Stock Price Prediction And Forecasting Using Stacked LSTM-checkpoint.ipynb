{
 "cells": [
  {
   "cell_type": "markdown",
   "id": "a92f79b1-d9da-4516-9a7b-92b3113972f8",
   "metadata": {},
   "source": [
    "# <u>Stock Price Prediction And Forecasting Using Stacked LSTM- Deep Learning</U>"
   ]
  },
  {
   "cell_type": "code",
   "execution_count": 2,
   "id": "776ad4d4-31d3-493e-90d6-ad2eaa6b719e",
   "metadata": {
    "execution": {
     "iopub.execute_input": "2024-08-15T12:50:51.921874Z",
     "iopub.status.busy": "2024-08-15T12:50:51.921874Z",
     "iopub.status.idle": "2024-08-15T12:51:08.441059Z",
     "shell.execute_reply": "2024-08-15T12:51:08.441059Z",
     "shell.execute_reply.started": "2024-08-15T12:50:51.921874Z"
    }
   },
   "outputs": [],
   "source": [
    "import numpy as np\n",
    "import pandas as pd\n",
    "import matplotlib.pyplot as plt  # Use 'plt' as the alias for matplotlib.pyplot\n",
    "%matplotlib inline\n",
    "import seaborn as sns\n",
    "\n",
    "from warnings import simplefilter  # Use 'simplefilter' for filtering warnings\n",
    "simplefilter('ignore')  # Correct function name to 'simplefilter'"
   ]
  },
  {
   "cell_type": "code",
   "execution_count": 3,
   "id": "4feb15b6-3f54-4d88-a96f-3b910d8a5c09",
   "metadata": {
    "execution": {
     "iopub.execute_input": "2024-08-15T12:51:08.471564Z",
     "iopub.status.busy": "2024-08-15T12:51:08.471564Z",
     "iopub.status.idle": "2024-08-15T12:51:08.853665Z",
     "shell.execute_reply": "2024-08-15T12:51:08.852094Z",
     "shell.execute_reply.started": "2024-08-15T12:51:08.471564Z"
    }
   },
   "outputs": [
    {
     "data": {
      "text/html": [
       "<div>\n",
       "<style scoped>\n",
       "    .dataframe tbody tr th:only-of-type {\n",
       "        vertical-align: middle;\n",
       "    }\n",
       "\n",
       "    .dataframe tbody tr th {\n",
       "        vertical-align: top;\n",
       "    }\n",
       "\n",
       "    .dataframe thead th {\n",
       "        text-align: right;\n",
       "    }\n",
       "</style>\n",
       "<table border=\"1\" class=\"dataframe\">\n",
       "  <thead>\n",
       "    <tr style=\"text-align: right;\">\n",
       "      <th></th>\n",
       "      <th>Unnamed: 0</th>\n",
       "      <th>symbol</th>\n",
       "      <th>date</th>\n",
       "      <th>close</th>\n",
       "      <th>high</th>\n",
       "      <th>low</th>\n",
       "      <th>open</th>\n",
       "      <th>volume</th>\n",
       "      <th>adjClose</th>\n",
       "      <th>adjHigh</th>\n",
       "      <th>adjLow</th>\n",
       "      <th>adjOpen</th>\n",
       "      <th>adjVolume</th>\n",
       "      <th>divCash</th>\n",
       "      <th>splitFactor</th>\n",
       "    </tr>\n",
       "  </thead>\n",
       "  <tbody>\n",
       "    <tr>\n",
       "      <th>0</th>\n",
       "      <td>0</td>\n",
       "      <td>AAPL</td>\n",
       "      <td>2015-05-27 00:00:00+00:00</td>\n",
       "      <td>132.045</td>\n",
       "      <td>132.260</td>\n",
       "      <td>130.05</td>\n",
       "      <td>130.34</td>\n",
       "      <td>45833246</td>\n",
       "      <td>121.682558</td>\n",
       "      <td>121.880685</td>\n",
       "      <td>119.844118</td>\n",
       "      <td>120.111360</td>\n",
       "      <td>45833246</td>\n",
       "      <td>0.0</td>\n",
       "      <td>1.0</td>\n",
       "    </tr>\n",
       "    <tr>\n",
       "      <th>1</th>\n",
       "      <td>1</td>\n",
       "      <td>AAPL</td>\n",
       "      <td>2015-05-28 00:00:00+00:00</td>\n",
       "      <td>131.780</td>\n",
       "      <td>131.950</td>\n",
       "      <td>131.10</td>\n",
       "      <td>131.86</td>\n",
       "      <td>30733309</td>\n",
       "      <td>121.438354</td>\n",
       "      <td>121.595013</td>\n",
       "      <td>120.811718</td>\n",
       "      <td>121.512076</td>\n",
       "      <td>30733309</td>\n",
       "      <td>0.0</td>\n",
       "      <td>1.0</td>\n",
       "    </tr>\n",
       "    <tr>\n",
       "      <th>2</th>\n",
       "      <td>2</td>\n",
       "      <td>AAPL</td>\n",
       "      <td>2015-05-29 00:00:00+00:00</td>\n",
       "      <td>130.280</td>\n",
       "      <td>131.450</td>\n",
       "      <td>129.90</td>\n",
       "      <td>131.23</td>\n",
       "      <td>50884452</td>\n",
       "      <td>120.056069</td>\n",
       "      <td>121.134251</td>\n",
       "      <td>119.705890</td>\n",
       "      <td>120.931516</td>\n",
       "      <td>50884452</td>\n",
       "      <td>0.0</td>\n",
       "      <td>1.0</td>\n",
       "    </tr>\n",
       "    <tr>\n",
       "      <th>3</th>\n",
       "      <td>3</td>\n",
       "      <td>AAPL</td>\n",
       "      <td>2015-06-01 00:00:00+00:00</td>\n",
       "      <td>130.535</td>\n",
       "      <td>131.390</td>\n",
       "      <td>130.05</td>\n",
       "      <td>131.20</td>\n",
       "      <td>32112797</td>\n",
       "      <td>120.291057</td>\n",
       "      <td>121.078960</td>\n",
       "      <td>119.844118</td>\n",
       "      <td>120.903870</td>\n",
       "      <td>32112797</td>\n",
       "      <td>0.0</td>\n",
       "      <td>1.0</td>\n",
       "    </tr>\n",
       "    <tr>\n",
       "      <th>4</th>\n",
       "      <td>4</td>\n",
       "      <td>AAPL</td>\n",
       "      <td>2015-06-02 00:00:00+00:00</td>\n",
       "      <td>129.960</td>\n",
       "      <td>130.655</td>\n",
       "      <td>129.32</td>\n",
       "      <td>129.86</td>\n",
       "      <td>33667627</td>\n",
       "      <td>119.761181</td>\n",
       "      <td>120.401640</td>\n",
       "      <td>119.171406</td>\n",
       "      <td>119.669029</td>\n",
       "      <td>33667627</td>\n",
       "      <td>0.0</td>\n",
       "      <td>1.0</td>\n",
       "    </tr>\n",
       "  </tbody>\n",
       "</table>\n",
       "</div>"
      ],
      "text/plain": [
       "   Unnamed: 0 symbol                       date    close     high     low  \\\n",
       "0           0   AAPL  2015-05-27 00:00:00+00:00  132.045  132.260  130.05   \n",
       "1           1   AAPL  2015-05-28 00:00:00+00:00  131.780  131.950  131.10   \n",
       "2           2   AAPL  2015-05-29 00:00:00+00:00  130.280  131.450  129.90   \n",
       "3           3   AAPL  2015-06-01 00:00:00+00:00  130.535  131.390  130.05   \n",
       "4           4   AAPL  2015-06-02 00:00:00+00:00  129.960  130.655  129.32   \n",
       "\n",
       "     open    volume    adjClose     adjHigh      adjLow     adjOpen  \\\n",
       "0  130.34  45833246  121.682558  121.880685  119.844118  120.111360   \n",
       "1  131.86  30733309  121.438354  121.595013  120.811718  121.512076   \n",
       "2  131.23  50884452  120.056069  121.134251  119.705890  120.931516   \n",
       "3  131.20  32112797  120.291057  121.078960  119.844118  120.903870   \n",
       "4  129.86  33667627  119.761181  120.401640  119.171406  119.669029   \n",
       "\n",
       "   adjVolume  divCash  splitFactor  \n",
       "0   45833246      0.0          1.0  \n",
       "1   30733309      0.0          1.0  \n",
       "2   50884452      0.0          1.0  \n",
       "3   32112797      0.0          1.0  \n",
       "4   33667627      0.0          1.0  "
      ]
     },
     "execution_count": 3,
     "metadata": {},
     "output_type": "execute_result"
    }
   ],
   "source": [
    "## Data Collection\n",
    "df=pd.read_csv(r\"C:\\Users\\ajitm\\Data Science Cources\\Deep Learning Projects\\Stock-Price-Prediction-And-Forecasting-Using-Stacked-LSTM--Deep-Learning\\AAPL.csv\")\n",
    "df.head()"
   ]
  },
  {
   "cell_type": "code",
   "execution_count": 4,
   "id": "6402262a-35ba-427f-a77e-323d3b296f0c",
   "metadata": {
    "execution": {
     "iopub.execute_input": "2024-08-15T12:51:08.861665Z",
     "iopub.status.busy": "2024-08-15T12:51:08.861665Z",
     "iopub.status.idle": "2024-08-15T12:51:08.905306Z",
     "shell.execute_reply": "2024-08-15T12:51:08.905306Z",
     "shell.execute_reply.started": "2024-08-15T12:51:08.861665Z"
    }
   },
   "outputs": [
    {
     "data": {
      "text/html": [
       "<div>\n",
       "<style scoped>\n",
       "    .dataframe tbody tr th:only-of-type {\n",
       "        vertical-align: middle;\n",
       "    }\n",
       "\n",
       "    .dataframe tbody tr th {\n",
       "        vertical-align: top;\n",
       "    }\n",
       "\n",
       "    .dataframe thead th {\n",
       "        text-align: right;\n",
       "    }\n",
       "</style>\n",
       "<table border=\"1\" class=\"dataframe\">\n",
       "  <thead>\n",
       "    <tr style=\"text-align: right;\">\n",
       "      <th></th>\n",
       "      <th>Unnamed: 0</th>\n",
       "      <th>symbol</th>\n",
       "      <th>date</th>\n",
       "      <th>close</th>\n",
       "      <th>high</th>\n",
       "      <th>low</th>\n",
       "      <th>open</th>\n",
       "      <th>volume</th>\n",
       "      <th>adjClose</th>\n",
       "      <th>adjHigh</th>\n",
       "      <th>adjLow</th>\n",
       "      <th>adjOpen</th>\n",
       "      <th>adjVolume</th>\n",
       "      <th>divCash</th>\n",
       "      <th>splitFactor</th>\n",
       "    </tr>\n",
       "  </thead>\n",
       "  <tbody>\n",
       "    <tr>\n",
       "      <th>1253</th>\n",
       "      <td>1253</td>\n",
       "      <td>AAPL</td>\n",
       "      <td>2020-05-18 00:00:00+00:00</td>\n",
       "      <td>314.96</td>\n",
       "      <td>316.50</td>\n",
       "      <td>310.3241</td>\n",
       "      <td>313.17</td>\n",
       "      <td>33843125</td>\n",
       "      <td>314.96</td>\n",
       "      <td>316.50</td>\n",
       "      <td>310.3241</td>\n",
       "      <td>313.17</td>\n",
       "      <td>33843125</td>\n",
       "      <td>0.0</td>\n",
       "      <td>1.0</td>\n",
       "    </tr>\n",
       "    <tr>\n",
       "      <th>1254</th>\n",
       "      <td>1254</td>\n",
       "      <td>AAPL</td>\n",
       "      <td>2020-05-19 00:00:00+00:00</td>\n",
       "      <td>313.14</td>\n",
       "      <td>318.52</td>\n",
       "      <td>313.0100</td>\n",
       "      <td>315.03</td>\n",
       "      <td>25432385</td>\n",
       "      <td>313.14</td>\n",
       "      <td>318.52</td>\n",
       "      <td>313.0100</td>\n",
       "      <td>315.03</td>\n",
       "      <td>25432385</td>\n",
       "      <td>0.0</td>\n",
       "      <td>1.0</td>\n",
       "    </tr>\n",
       "    <tr>\n",
       "      <th>1255</th>\n",
       "      <td>1255</td>\n",
       "      <td>AAPL</td>\n",
       "      <td>2020-05-20 00:00:00+00:00</td>\n",
       "      <td>319.23</td>\n",
       "      <td>319.52</td>\n",
       "      <td>316.2000</td>\n",
       "      <td>316.68</td>\n",
       "      <td>27876215</td>\n",
       "      <td>319.23</td>\n",
       "      <td>319.52</td>\n",
       "      <td>316.2000</td>\n",
       "      <td>316.68</td>\n",
       "      <td>27876215</td>\n",
       "      <td>0.0</td>\n",
       "      <td>1.0</td>\n",
       "    </tr>\n",
       "    <tr>\n",
       "      <th>1256</th>\n",
       "      <td>1256</td>\n",
       "      <td>AAPL</td>\n",
       "      <td>2020-05-21 00:00:00+00:00</td>\n",
       "      <td>316.85</td>\n",
       "      <td>320.89</td>\n",
       "      <td>315.8700</td>\n",
       "      <td>318.66</td>\n",
       "      <td>25672211</td>\n",
       "      <td>316.85</td>\n",
       "      <td>320.89</td>\n",
       "      <td>315.8700</td>\n",
       "      <td>318.66</td>\n",
       "      <td>25672211</td>\n",
       "      <td>0.0</td>\n",
       "      <td>1.0</td>\n",
       "    </tr>\n",
       "    <tr>\n",
       "      <th>1257</th>\n",
       "      <td>1257</td>\n",
       "      <td>AAPL</td>\n",
       "      <td>2020-05-22 00:00:00+00:00</td>\n",
       "      <td>318.89</td>\n",
       "      <td>319.23</td>\n",
       "      <td>315.3500</td>\n",
       "      <td>315.77</td>\n",
       "      <td>20450754</td>\n",
       "      <td>318.89</td>\n",
       "      <td>319.23</td>\n",
       "      <td>315.3500</td>\n",
       "      <td>315.77</td>\n",
       "      <td>20450754</td>\n",
       "      <td>0.0</td>\n",
       "      <td>1.0</td>\n",
       "    </tr>\n",
       "  </tbody>\n",
       "</table>\n",
       "</div>"
      ],
      "text/plain": [
       "      Unnamed: 0 symbol                       date   close    high       low  \\\n",
       "1253        1253   AAPL  2020-05-18 00:00:00+00:00  314.96  316.50  310.3241   \n",
       "1254        1254   AAPL  2020-05-19 00:00:00+00:00  313.14  318.52  313.0100   \n",
       "1255        1255   AAPL  2020-05-20 00:00:00+00:00  319.23  319.52  316.2000   \n",
       "1256        1256   AAPL  2020-05-21 00:00:00+00:00  316.85  320.89  315.8700   \n",
       "1257        1257   AAPL  2020-05-22 00:00:00+00:00  318.89  319.23  315.3500   \n",
       "\n",
       "        open    volume  adjClose  adjHigh    adjLow  adjOpen  adjVolume  \\\n",
       "1253  313.17  33843125    314.96   316.50  310.3241   313.17   33843125   \n",
       "1254  315.03  25432385    313.14   318.52  313.0100   315.03   25432385   \n",
       "1255  316.68  27876215    319.23   319.52  316.2000   316.68   27876215   \n",
       "1256  318.66  25672211    316.85   320.89  315.8700   318.66   25672211   \n",
       "1257  315.77  20450754    318.89   319.23  315.3500   315.77   20450754   \n",
       "\n",
       "      divCash  splitFactor  \n",
       "1253      0.0          1.0  \n",
       "1254      0.0          1.0  \n",
       "1255      0.0          1.0  \n",
       "1256      0.0          1.0  \n",
       "1257      0.0          1.0  "
      ]
     },
     "execution_count": 4,
     "metadata": {},
     "output_type": "execute_result"
    }
   ],
   "source": [
    "df.tail()"
   ]
  },
  {
   "cell_type": "code",
   "execution_count": 5,
   "id": "716b0d91-0645-4d88-afdb-b56d0857a1f3",
   "metadata": {
    "execution": {
     "iopub.execute_input": "2024-08-15T12:51:08.913312Z",
     "iopub.status.busy": "2024-08-15T12:51:08.913312Z",
     "iopub.status.idle": "2024-08-15T12:51:09.092276Z",
     "shell.execute_reply": "2024-08-15T12:51:09.092276Z",
     "shell.execute_reply.started": "2024-08-15T12:51:08.913312Z"
    }
   },
   "outputs": [],
   "source": [
    "## Using 'close' for forecasting stock price\n",
    "df1=df.reset_index()['close']"
   ]
  },
  {
   "cell_type": "code",
   "execution_count": 6,
   "id": "f48ea321-4b74-4f92-a175-6f41420b85bd",
   "metadata": {
    "execution": {
     "iopub.execute_input": "2024-08-15T12:51:09.108825Z",
     "iopub.status.busy": "2024-08-15T12:51:09.108825Z",
     "iopub.status.idle": "2024-08-15T12:51:09.291610Z",
     "shell.execute_reply": "2024-08-15T12:51:09.291610Z",
     "shell.execute_reply.started": "2024-08-15T12:51:09.108825Z"
    }
   },
   "outputs": [
    {
     "data": {
      "text/plain": [
       "0    132.045\n",
       "1    131.780\n",
       "2    130.280\n",
       "3    130.535\n",
       "4    129.960\n",
       "Name: close, dtype: float64"
      ]
     },
     "execution_count": 6,
     "metadata": {},
     "output_type": "execute_result"
    }
   ],
   "source": [
    "df1.head()"
   ]
  },
  {
   "cell_type": "code",
   "execution_count": 7,
   "id": "a46719cf-2049-4877-a5ff-e948e2477c25",
   "metadata": {
    "execution": {
     "iopub.execute_input": "2024-08-15T12:51:09.311451Z",
     "iopub.status.busy": "2024-08-15T12:51:09.311451Z",
     "iopub.status.idle": "2024-08-15T12:51:09.433858Z",
     "shell.execute_reply": "2024-08-15T12:51:09.433858Z",
     "shell.execute_reply.started": "2024-08-15T12:51:09.311451Z"
    }
   },
   "outputs": [
    {
     "data": {
      "text/plain": [
       "1000    190.08\n",
       "1001    189.00\n",
       "1002    183.09\n",
       "1003    186.60\n",
       "1004    182.78\n",
       "         ...  \n",
       "1253    314.96\n",
       "1254    313.14\n",
       "1255    319.23\n",
       "1256    316.85\n",
       "1257    318.89\n",
       "Name: close, Length: 258, dtype: float64"
      ]
     },
     "execution_count": 7,
     "metadata": {},
     "output_type": "execute_result"
    }
   ],
   "source": [
    "df1[1000:]"
   ]
  },
  {
   "cell_type": "code",
   "execution_count": 8,
   "id": "1bbb10e5-e184-4593-ba7f-0aea3881e3c6",
   "metadata": {
    "execution": {
     "iopub.execute_input": "2024-08-15T12:51:09.453222Z",
     "iopub.status.busy": "2024-08-15T12:51:09.453222Z",
     "iopub.status.idle": "2024-08-15T12:51:10.526124Z",
     "shell.execute_reply": "2024-08-15T12:51:10.526124Z",
     "shell.execute_reply.started": "2024-08-15T12:51:09.453222Z"
    }
   },
   "outputs": [
    {
     "data": {
      "text/plain": [
       "<Axes: ylabel='close'>"
      ]
     },
     "execution_count": 8,
     "metadata": {},
     "output_type": "execute_result"
    },
    {
     "data": {
      "image/png": "[encoded data removed]",
      "text/plain": [
       "<Figure size 1000x500 with 1 Axes>"
      ]
     },
     "metadata": {},
     "output_type": "display_data"
    }
   ],
   "source": [
    "# Plooting graph \n",
    "plt.figure(figsize=(10,5))\n",
    "sns.lineplot(df1)"
   ]
  },
  {
   "cell_type": "markdown",
   "id": "1119d1d9-d881-48d2-a07f-73f5da41b034",
   "metadata": {
    "execution": {
     "iopub.execute_input": "2024-08-14T15:27:26.212976Z",
     "iopub.status.busy": "2024-08-14T15:27:26.211976Z",
     "iopub.status.idle": "2024-08-14T15:27:26.943581Z",
     "shell.execute_reply": "2024-08-14T15:27:26.942577Z",
     "shell.execute_reply.started": "2024-08-14T15:27:26.212976Z"
    }
   },
   "source": [
    "- LSTM are sensitive to the scale of the data. so we apply MinMax scaler."
   ]
  },
  {
   "cell_type": "code",
   "execution_count": 10,
   "id": "bec0e43e-d4ef-451d-a277-6ddfc315ac85",
   "metadata": {
    "execution": {
     "iopub.execute_input": "2024-08-15T12:51:10.630313Z",
     "iopub.status.busy": "2024-08-15T12:51:10.630313Z",
     "iopub.status.idle": "2024-08-15T12:51:11.301598Z",
     "shell.execute_reply": "2024-08-15T12:51:11.301598Z",
     "shell.execute_reply.started": "2024-08-15T12:51:10.630313Z"
    }
   },
   "outputs": [],
   "source": [
    "from sklearn.preprocessing import MinMaxScaler\n",
    "scaler=MinMaxScaler(feature_range=(0,1))\n",
    "df1=scaler.fit_transform(np.array(df1).reshape(-1,1))"
   ]
  },
  {
   "cell_type": "code",
   "execution_count": 11,
   "id": "e0a046dd-4e02-4bb9-9f93-c8eb2e807a7e",
   "metadata": {
    "execution": {
     "iopub.execute_input": "2024-08-15T12:51:11.317814Z",
     "iopub.status.busy": "2024-08-15T12:51:11.317814Z",
     "iopub.status.idle": "2024-08-15T12:51:11.339964Z",
     "shell.execute_reply": "2024-08-15T12:51:11.339964Z",
     "shell.execute_reply.started": "2024-08-15T12:51:11.317814Z"
    }
   },
   "outputs": [
    {
     "data": {
      "text/plain": [
       "(1258, 1)"
      ]
     },
     "execution_count": 11,
     "metadata": {},
     "output_type": "execute_result"
    }
   ],
   "source": [
    "df1.shape"
   ]
  },
  {
   "cell_type": "code",
   "execution_count": 12,
   "id": "7e4cfe0e-a3e9-442d-ace8-696f748e2bea",
   "metadata": {
    "execution": {
     "iopub.execute_input": "2024-08-15T12:51:11.359107Z",
     "iopub.status.busy": "2024-08-15T12:51:11.351106Z",
     "iopub.status.idle": "2024-08-15T12:51:11.524245Z",
     "shell.execute_reply": "2024-08-15T12:51:11.524245Z",
     "shell.execute_reply.started": "2024-08-15T12:51:11.359107Z"
    }
   },
   "outputs": [
    {
     "data": {
      "text/plain": [
       "array([[0.17607447],\n",
       "       [0.17495567],\n",
       "       [0.16862282],\n",
       "       ...,\n",
       "       [0.96635143],\n",
       "       [0.9563033 ],\n",
       "       [0.96491598]])"
      ]
     },
     "execution_count": 12,
     "metadata": {},
     "output_type": "execute_result"
    }
   ],
   "source": [
    "df1"
   ]
  },
  {
   "cell_type": "code",
   "execution_count": 13,
   "id": "9d0b3c2c-b76c-4c6e-a204-04f4642ccb7d",
   "metadata": {
    "execution": {
     "iopub.execute_input": "2024-08-15T12:51:11.541245Z",
     "iopub.status.busy": "2024-08-15T12:51:11.534292Z",
     "iopub.status.idle": "2024-08-15T12:51:11.697196Z",
     "shell.execute_reply": "2024-08-15T12:51:11.697196Z",
     "shell.execute_reply.started": "2024-08-15T12:51:11.541245Z"
    }
   },
   "outputs": [],
   "source": [
    "## Splitting dataset into traning and test \n",
    "training_size=int(len(df)*0.65)\n",
    "test_size=len(df1)-training_size\n",
    "train_data, test_data=df1[0:training_size,:], df1[training_size:,:]"
   ]
  },
  {
   "cell_type": "code",
   "execution_count": 14,
   "id": "20b887da-a0da-4ccb-97da-c216f7a34114",
   "metadata": {
    "execution": {
     "iopub.execute_input": "2024-08-15T12:51:11.712825Z",
     "iopub.status.busy": "2024-08-15T12:51:11.697196Z",
     "iopub.status.idle": "2024-08-15T12:51:11.893026Z",
     "shell.execute_reply": "2024-08-15T12:51:11.893026Z",
     "shell.execute_reply.started": "2024-08-15T12:51:11.712825Z"
    }
   },
   "outputs": [
    {
     "data": {
      "text/plain": [
       "(817, 441)"
      ]
     },
     "execution_count": 14,
     "metadata": {},
     "output_type": "execute_result"
    }
   ],
   "source": [
    "training_size, test_size"
   ]
  },
  {
   "cell_type": "code",
   "execution_count": 15,
   "id": "a6fa3bd8-0368-4697-be1c-07d71e780009",
   "metadata": {
    "execution": {
     "iopub.execute_input": "2024-08-15T12:51:11.909042Z",
     "iopub.status.busy": "2024-08-15T12:51:11.900869Z",
     "iopub.status.idle": "2024-08-15T12:51:12.014101Z",
     "shell.execute_reply": "2024-08-15T12:51:12.014101Z",
     "shell.execute_reply.started": "2024-08-15T12:51:11.909042Z"
    }
   },
   "outputs": [
    {
     "data": {
      "text/plain": [
       "array([[0.17607447],\n",
       "       [0.17495567],\n",
       "       [0.16862282],\n",
       "       [0.1696994 ],\n",
       "       [0.16727181],\n",
       "       [0.16794731],\n",
       "       [0.16473866],\n",
       "       [0.16174111],\n",
       "       [0.1581525 ],\n",
       "       [0.15654817]])"
      ]
     },
     "execution_count": 15,
     "metadata": {},
     "output_type": "execute_result"
    }
   ],
   "source": [
    "train_data[:10]"
   ]
  },
  {
   "cell_type": "code",
   "execution_count": 16,
   "id": "4acbe077-84f2-4966-94a1-438ec9d6b2e0",
   "metadata": {
    "execution": {
     "iopub.execute_input": "2024-08-15T12:51:12.055043Z",
     "iopub.status.busy": "2024-08-15T12:51:12.055043Z",
     "iopub.status.idle": "2024-08-15T12:51:12.141911Z",
     "shell.execute_reply": "2024-08-15T12:51:12.141911Z",
     "shell.execute_reply.started": "2024-08-15T12:51:12.055043Z"
    }
   },
   "outputs": [
    {
     "data": {
      "text/plain": [
       "array([[0.52651355],\n",
       "       [0.52837119],\n",
       "       [0.53119986],\n",
       "       [0.53871485],\n",
       "       [0.5461454 ],\n",
       "       [0.55999324],\n",
       "       [0.56864815],\n",
       "       [0.57962509],\n",
       "       [0.58270708],\n",
       "       [0.57641645]])"
      ]
     },
     "execution_count": 16,
     "metadata": {},
     "output_type": "execute_result"
    }
   ],
   "source": [
    "test_data[:10]"
   ]
  },
  {
   "cell_type": "code",
   "execution_count": 17,
   "id": "2b2aee20-a442-4f48-8308-b3d9d7636fa9",
   "metadata": {
    "execution": {
     "iopub.execute_input": "2024-08-15T12:51:12.158407Z",
     "iopub.status.busy": "2024-08-15T12:51:12.150405Z",
     "iopub.status.idle": "2024-08-15T12:51:12.309072Z",
     "shell.execute_reply": "2024-08-15T12:51:12.309072Z",
     "shell.execute_reply.started": "2024-08-15T12:51:12.158407Z"
    }
   },
   "outputs": [
    {
     "data": {
      "text/plain": [
       "441"
      ]
     },
     "execution_count": 17,
     "metadata": {},
     "output_type": "execute_result"
    }
   ],
   "source": [
    "len(test_data)"
   ]
  },
  {
   "cell_type": "code",
   "execution_count": 18,
   "id": "24ca3a49-50eb-417d-b8b1-03a64780362a",
   "metadata": {
    "execution": {
     "iopub.execute_input": "2024-08-15T12:51:12.318687Z",
     "iopub.status.busy": "2024-08-15T12:51:12.318687Z",
     "iopub.status.idle": "2024-08-15T12:51:12.429210Z",
     "shell.execute_reply": "2024-08-15T12:51:12.429210Z",
     "shell.execute_reply.started": "2024-08-15T12:51:12.318687Z"
    }
   },
   "outputs": [
    {
     "data": {
      "text/plain": [
       "817"
      ]
     },
     "execution_count": 18,
     "metadata": {},
     "output_type": "execute_result"
    }
   ],
   "source": [
    "len(train_data)"
   ]
  },
  {
   "cell_type": "code",
   "execution_count": 19,
   "id": "079cef68-b748-47b6-b5e9-432fa6aee144",
   "metadata": {
    "execution": {
     "iopub.execute_input": "2024-08-15T12:51:12.441658Z",
     "iopub.status.busy": "2024-08-15T12:51:12.441658Z",
     "iopub.status.idle": "2024-08-15T12:51:12.709224Z",
     "shell.execute_reply": "2024-08-15T12:51:12.709224Z",
     "shell.execute_reply.started": "2024-08-15T12:51:12.441658Z"
    }
   },
   "outputs": [],
   "source": [
    "## Converting an array of values into a datasetabs\n",
    "def create_dataset(dataset, time_step=1):\n",
    "    '''Function will convert timeseries into input and output'''\n",
    "    dataX, dataY = [], []\n",
    "    for i in range(len(dataset)-time_step-1):\n",
    "        a=dataset[i:(i+time_step),0]\n",
    "        dataX.append(a)\n",
    "        dataY.append(dataset[i+time_step,0])\n",
    "    return np.array(dataX), np.array(dataY)"
   ]
  },
  {
   "cell_type": "code",
   "execution_count": 20,
   "id": "5aaf3d2e-fa18-4e29-a946-2002dd55fd1d",
   "metadata": {
    "execution": {
     "iopub.execute_input": "2024-08-15T12:51:12.719993Z",
     "iopub.status.busy": "2024-08-15T12:51:12.719993Z",
     "iopub.status.idle": "2024-08-15T12:51:12.841402Z",
     "shell.execute_reply": "2024-08-15T12:51:12.841402Z",
     "shell.execute_reply.started": "2024-08-15T12:51:12.719993Z"
    }
   },
   "outputs": [],
   "source": [
    "# Reshaping dataset into X= t, t+1, t+2, t+3 and Y= t+4\n",
    "time_step=100\n",
    "X_train, y_train=create_dataset(train_data, time_step)\n",
    "X_test, y_test=create_dataset(test_data,  time_step)"
   ]
  },
  {
   "cell_type": "code",
   "execution_count": 21,
   "id": "eb9a4dec-044d-4078-abb5-238e4aae4db2",
   "metadata": {
    "execution": {
     "iopub.execute_input": "2024-08-15T12:51:12.861425Z",
     "iopub.status.busy": "2024-08-15T12:51:12.857909Z",
     "iopub.status.idle": "2024-08-15T12:51:12.983306Z",
     "shell.execute_reply": "2024-08-15T12:51:12.983306Z",
     "shell.execute_reply.started": "2024-08-15T12:51:12.861425Z"
    }
   },
   "outputs": [
    {
     "name": "stdout",
     "output_type": "stream",
     "text": [
      "(716, 100)\n",
      "(340, 100)\n"
     ]
    },
    {
     "data": {
      "text/plain": [
       "(None, None)"
      ]
     },
     "execution_count": 21,
     "metadata": {},
     "output_type": "execute_result"
    }
   ],
   "source": [
    "print(X_train.shape), print(X_test.shape)"
   ]
  },
  {
   "cell_type": "code",
   "execution_count": 22,
   "id": "362e1668-4d91-477e-a154-d773936936c1",
   "metadata": {
    "execution": {
     "iopub.execute_input": "2024-08-15T12:51:12.999567Z",
     "iopub.status.busy": "2024-08-15T12:51:12.999567Z",
     "iopub.status.idle": "2024-08-15T12:51:13.099790Z",
     "shell.execute_reply": "2024-08-15T12:51:13.097033Z",
     "shell.execute_reply.started": "2024-08-15T12:51:12.999567Z"
    }
   },
   "outputs": [
    {
     "name": "stdout",
     "output_type": "stream",
     "text": [
      "(716,)\n",
      "(340,)\n"
     ]
    },
    {
     "data": {
      "text/plain": [
       "(None, None)"
      ]
     },
     "execution_count": 22,
     "metadata": {},
     "output_type": "execute_result"
    }
   ],
   "source": [
    "print(y_train.shape), print(y_test.shape)"
   ]
  },
  {
   "cell_type": "code",
   "execution_count": 23,
   "id": "2141ba06-24b2-40e0-a8f7-38750d00950a",
   "metadata": {
    "execution": {
     "iopub.execute_input": "2024-08-15T12:51:13.116738Z",
     "iopub.status.busy": "2024-08-15T12:51:13.116738Z",
     "iopub.status.idle": "2024-08-15T12:51:13.273790Z",
     "shell.execute_reply": "2024-08-15T12:51:13.273790Z",
     "shell.execute_reply.started": "2024-08-15T12:51:13.116738Z"
    }
   },
   "outputs": [],
   "source": [
    "## Reshape input in 3 dimension for LSTM\n",
    "X_train=X_train.reshape(X_train.shape[0], X_train.shape[1], 1)\n",
    "X_test=X_test.reshape(X_test.shape[0], X_test.shape[1], 1)"
   ]
  },
  {
   "cell_type": "code",
   "execution_count": 24,
   "id": "a0df8c3a-b111-4e5c-a98c-d41b497f6179",
   "metadata": {
    "execution": {
     "iopub.execute_input": "2024-08-15T12:51:13.290504Z",
     "iopub.status.busy": "2024-08-15T12:51:13.282504Z",
     "iopub.status.idle": "2024-08-15T12:51:21.792611Z",
     "shell.execute_reply": "2024-08-15T12:51:21.792611Z",
     "shell.execute_reply.started": "2024-08-15T12:51:13.290504Z"
    }
   },
   "outputs": [],
   "source": [
    "## Create stacked LSTM Model\n",
    "from tensorflow.keras.models import Sequential\n",
    "from tensorflow.keras.layers import LSTM\n",
    "from tensorflow.keras.layers import Dense"
   ]
  },
  {
   "cell_type": "code",
   "execution_count": 25,
   "id": "83c52a67-a9c0-44a2-8349-f63ce9180f33",
   "metadata": {
    "execution": {
     "iopub.execute_input": "2024-08-15T12:51:21.815737Z",
     "iopub.status.busy": "2024-08-15T12:51:21.815737Z",
     "iopub.status.idle": "2024-08-15T12:51:22.087842Z",
     "shell.execute_reply": "2024-08-15T12:51:22.087842Z",
     "shell.execute_reply.started": "2024-08-15T12:51:21.815737Z"
    }
   },
   "outputs": [],
   "source": [
    "model = Sequential()\n",
    "model.add(LSTM(50, return_sequences=True, input_shape=(100, 1)))  # Corrected spelling here\n",
    "model.add(LSTM(50, return_sequences=True))\n",
    "model.add(LSTM(50))\n",
    "model.add(Dense(1))\n",
    "model.compile(loss='mean_squared_error', optimizer='adam')"
   ]
  },
  {
   "cell_type": "code",
   "execution_count": 26,
   "id": "07e182af-7747-46c9-898f-014a282999a1",
   "metadata": {
    "execution": {
     "iopub.execute_input": "2024-08-15T12:51:22.103473Z",
     "iopub.status.busy": "2024-08-15T12:51:22.087842Z",
     "iopub.status.idle": "2024-08-15T12:51:22.359227Z",
     "shell.execute_reply": "2024-08-15T12:51:22.357183Z",
     "shell.execute_reply.started": "2024-08-15T12:51:22.103473Z"
    }
   },
   "outputs": [
    {
     "data": {
      "text/html": [
       "<pre style=\"white-space:pre;overflow-x:auto;line-height:normal;font-family:Menlo,'DejaVu Sans Mono',consolas,'Courier New',monospace\"><span style=\"font-weight: bold\">Model: \"sequential\"</span>\n",
       "</pre>\n"
      ],
      "text/plain": [
       "\u001b[1mModel: \"sequential\"\u001b[0m\n"
      ]
     },
     "metadata": {},
     "output_type": "display_data"
    },
    {
     "data": {
      "text/html": [
       "<pre style=\"white-space:pre;overflow-x:auto;line-height:normal;font-family:Menlo,'DejaVu Sans Mono',consolas,'Courier New',monospace\">┏━━━━━━━━━━━━━━━━━━━━━━━━━━━━━━━━━┳━━━━━━━━━━━━━━━━━━━━━━━━┳━━━━━━━━━━━━━━━┓\n",
       "┃<span style=\"font-weight: bold\"> Layer (type)                    </span>┃<span style=\"font-weight: bold\"> Output Shape           </span>┃<span style=\"font-weight: bold\">       Param # </span>┃\n",
       "┡━━━━━━━━━━━━━━━━━━━━━━━━━━━━━━━━━╇━━━━━━━━━━━━━━━━━━━━━━━━╇━━━━━━━━━━━━━━━┩\n",
       "│ lstm (<span style=\"color: #0087ff; text-decoration-color: #0087ff\">LSTM</span>)                     │ (<span style=\"color: #00d7ff; text-decoration-color: #00d7ff\">None</span>, <span style=\"color: #00af00; text-decoration-color: #00af00\">100</span>, <span style=\"color: #00af00; text-decoration-color: #00af00\">50</span>)        │        <span style=\"color: #00af00; text-decoration-color: #00af00\">10,400</span> │\n",
       "├─────────────────────────────────┼────────────────────────┼───────────────┤\n",
       "│ lstm_1 (<span style=\"color: #0087ff; text-decoration-color: #0087ff\">LSTM</span>)                   │ (<span style=\"color: #00d7ff; text-decoration-color: #00d7ff\">None</span>, <span style=\"color: #00af00; text-decoration-color: #00af00\">100</span>, <span style=\"color: #00af00; text-decoration-color: #00af00\">50</span>)        │        <span style=\"color: #00af00; text-decoration-color: #00af00\">20,200</span> │\n",
       "├─────────────────────────────────┼────────────────────────┼───────────────┤\n",
       "│ lstm_2 (<span style=\"color: #0087ff; text-decoration-color: #0087ff\">LSTM</span>)                   │ (<span style=\"color: #00d7ff; text-decoration-color: #00d7ff\">None</span>, <span style=\"color: #00af00; text-decoration-color: #00af00\">50</span>)             │        <span style=\"color: #00af00; text-decoration-color: #00af00\">20,200</span> │\n",
       "├─────────────────────────────────┼────────────────────────┼───────────────┤\n",
       "│ dense (<span style=\"color: #0087ff; text-decoration-color: #0087ff\">Dense</span>)                   │ (<span style=\"color: #00d7ff; text-decoration-color: #00d7ff\">None</span>, <span style=\"color: #00af00; text-decoration-color: #00af00\">1</span>)              │            <span style=\"color: #00af00; text-decoration-color: #00af00\">51</span> │\n",
       "└─────────────────────────────────┴────────────────────────┴───────────────┘\n",
       "</pre>\n"
      ],
      "text/plain": [
       "┏━━━━━━━━━━━━━━━━━━━━━━━━━━━━━━━━━┳━━━━━━━━━━━━━━━━━━━━━━━━┳━━━━━━━━━━━━━━━┓\n",
       "┃\u001b[1m \u001b[0m\u001b[1mLayer (type)                   \u001b[0m\u001b[1m \u001b[0m┃\u001b[1m \u001b[0m\u001b[1mOutput Shape          \u001b[0m\u001b[1m \u001b[0m┃\u001b[1m \u001b[0m\u001b[1m      Param #\u001b[0m\u001b[1m \u001b[0m┃\n",
       "┡━━━━━━━━━━━━━━━━━━━━━━━━━━━━━━━━━╇━━━━━━━━━━━━━━━━━━━━━━━━╇━━━━━━━━━━━━━━━┩\n",
       "│ lstm (\u001b[38;5;33mLSTM\u001b[0m)                     │ (\u001b[38;5;45mNone\u001b[0m, \u001b[38;5;34m100\u001b[0m, \u001b[38;5;34m50\u001b[0m)        │        \u001b[38;5;34m10,400\u001b[0m │\n",
       "├─────────────────────────────────┼────────────────────────┼───────────────┤\n",
       "│ lstm_1 (\u001b[38;5;33mLSTM\u001b[0m)                   │ (\u001b[38;5;45mNone\u001b[0m, \u001b[38;5;34m100\u001b[0m, \u001b[38;5;34m50\u001b[0m)        │        \u001b[38;5;34m20,200\u001b[0m │\n",
       "├─────────────────────────────────┼────────────────────────┼───────────────┤\n",
       "│ lstm_2 (\u001b[38;5;33mLSTM\u001b[0m)                   │ (\u001b[38;5;45mNone\u001b[0m, \u001b[38;5;34m50\u001b[0m)             │        \u001b[38;5;34m20,200\u001b[0m │\n",
       "├─────────────────────────────────┼────────────────────────┼───────────────┤\n",
       "│ dense (\u001b[38;5;33mDense\u001b[0m)                   │ (\u001b[38;5;45mNone\u001b[0m, \u001b[38;5;34m1\u001b[0m)              │            \u001b[38;5;34m51\u001b[0m │\n",
       "└─────────────────────────────────┴────────────────────────┴───────────────┘\n"
      ]
     },
     "metadata": {},
     "output_type": "display_data"
    },
    {
     "data": {
      "text/html": [
       "<pre style=\"white-space:pre;overflow-x:auto;line-height:normal;font-family:Menlo,'DejaVu Sans Mono',consolas,'Courier New',monospace\"><span style=\"font-weight: bold\"> Total params: </span><span style=\"color: #00af00; text-decoration-color: #00af00\">50,851</span> (198.64 KB)\n",
       "</pre>\n"
      ],
      "text/plain": [
       "\u001b[1m Total params: \u001b[0m\u001b[38;5;34m50,851\u001b[0m (198.64 KB)\n"
      ]
     },
     "metadata": {},
     "output_type": "display_data"
    },
    {
     "data": {
      "text/html": [
       "<pre style=\"white-space:pre;overflow-x:auto;line-height:normal;font-family:Menlo,'DejaVu Sans Mono',consolas,'Courier New',monospace\"><span style=\"font-weight: bold\"> Trainable params: </span><span style=\"color: #00af00; text-decoration-color: #00af00\">50,851</span> (198.64 KB)\n",
       "</pre>\n"
      ],
      "text/plain": [
       "\u001b[1m Trainable params: \u001b[0m\u001b[38;5;34m50,851\u001b[0m (198.64 KB)\n"
      ]
     },
     "metadata": {},
     "output_type": "display_data"
    },
    {
     "data": {
      "text/html": [
       "<pre style=\"white-space:pre;overflow-x:auto;line-height:normal;font-family:Menlo,'DejaVu Sans Mono',consolas,'Courier New',monospace\"><span style=\"font-weight: bold\"> Non-trainable params: </span><span style=\"color: #00af00; text-decoration-color: #00af00\">0</span> (0.00 B)\n",
       "</pre>\n"
      ],
      "text/plain": [
       "\u001b[1m Non-trainable params: \u001b[0m\u001b[38;5;34m0\u001b[0m (0.00 B)\n"
      ]
     },
     "metadata": {},
     "output_type": "display_data"
    }
   ],
   "source": [
    "model.summary()"
   ]
  },
  {
   "cell_type": "code",
   "execution_count": 27,
   "id": "58ed99d7-4fe8-46b5-9fbb-6052bf37ec85",
   "metadata": {
    "execution": {
     "iopub.execute_input": "2024-08-15T12:51:22.373605Z",
     "iopub.status.busy": "2024-08-15T12:51:22.368077Z",
     "iopub.status.idle": "2024-08-15T12:56:16.266332Z",
     "shell.execute_reply": "2024-08-15T12:56:16.266332Z",
     "shell.execute_reply.started": "2024-08-15T12:51:22.373605Z"
    }
   },
   "outputs": [
    {
     "name": "stdout",
     "output_type": "stream",
     "text": [
      "Epoch 1/100\n",
      "\u001b[1m12/12\u001b[0m \u001b[32m━━━━━━━━━━━━━━━━━━━━\u001b[0m\u001b[37m\u001b[0m \u001b[1m15s\u001b[0m 340ms/step - loss: 0.0306 - val_loss: 0.0556\n",
      "Epoch 2/100\n",
      "\u001b[1m12/12\u001b[0m \u001b[32m━━━━━━━━━━━━━━━━━━━━\u001b[0m\u001b[37m\u001b[0m \u001b[1m4s\u001b[0m 202ms/step - loss: 0.0053 - val_loss: 0.0043\n",
      "Epoch 3/100\n",
      "\u001b[1m12/12\u001b[0m \u001b[32m━━━━━━━━━━━━━━━━━━━━\u001b[0m\u001b[37m\u001b[0m \u001b[1m2s\u001b[0m 186ms/step - loss: 0.0015 - val_loss: 0.0041\n",
      "Epoch 4/100\n",
      "\u001b[1m12/12\u001b[0m \u001b[32m━━━━━━━━━━━━━━━━━━━━\u001b[0m\u001b[37m\u001b[0m \u001b[1m2s\u001b[0m 190ms/step - loss: 7.1649e-04 - val_loss: 0.0045\n",
      "Epoch 5/100\n",
      "\u001b[1m12/12\u001b[0m \u001b[32m━━━━━━━━━━━━━━━━━━━━\u001b[0m\u001b[37m\u001b[0m \u001b[1m2s\u001b[0m 191ms/step - loss: 6.5711e-04 - val_loss: 0.0048\n",
      "Epoch 6/100\n",
      "\u001b[1m12/12\u001b[0m \u001b[32m━━━━━━━━━━━━━━━━━━━━\u001b[0m\u001b[37m\u001b[0m \u001b[1m3s\u001b[0m 231ms/step - loss: 5.8253e-04 - val_loss: 0.0040\n",
      "Epoch 7/100\n",
      "\u001b[1m12/12\u001b[0m \u001b[32m━━━━━━━━━━━━━━━━━━━━\u001b[0m\u001b[37m\u001b[0m \u001b[1m2s\u001b[0m 204ms/step - loss: 6.1887e-04 - val_loss: 0.0036\n",
      "Epoch 8/100\n",
      "\u001b[1m12/12\u001b[0m \u001b[32m━━━━━━━━━━━━━━━━━━━━\u001b[0m\u001b[37m\u001b[0m \u001b[1m2s\u001b[0m 200ms/step - loss: 5.7827e-04 - val_loss: 0.0039\n",
      "Epoch 9/100\n",
      "\u001b[1m12/12\u001b[0m \u001b[32m━━━━━━━━━━━━━━━━━━━━\u001b[0m\u001b[37m\u001b[0m \u001b[1m2s\u001b[0m 192ms/step - loss: 6.0229e-04 - val_loss: 0.0038\n",
      "Epoch 10/100\n",
      "\u001b[1m12/12\u001b[0m \u001b[32m━━━━━━━━━━━━━━━━━━━━\u001b[0m\u001b[37m\u001b[0m \u001b[1m2s\u001b[0m 195ms/step - loss: 5.9187e-04 - val_loss: 0.0037\n",
      "Epoch 11/100\n",
      "\u001b[1m12/12\u001b[0m \u001b[32m━━━━━━━━━━━━━━━━━━━━\u001b[0m\u001b[37m\u001b[0m \u001b[1m3s\u001b[0m 208ms/step - loss: 5.3947e-04 - val_loss: 0.0033\n",
      "Epoch 12/100\n",
      "\u001b[1m12/12\u001b[0m \u001b[32m━━━━━━━━━━━━━━━━━━━━\u001b[0m\u001b[37m\u001b[0m \u001b[1m2s\u001b[0m 191ms/step - loss: 5.4028e-04 - val_loss: 0.0033\n",
      "Epoch 13/100\n",
      "\u001b[1m12/12\u001b[0m \u001b[32m━━━━━━━━━━━━━━━━━━━━\u001b[0m\u001b[37m\u001b[0m \u001b[1m2s\u001b[0m 196ms/step - loss: 5.8891e-04 - val_loss: 0.0032\n",
      "Epoch 14/100\n",
      "\u001b[1m12/12\u001b[0m \u001b[32m━━━━━━━━━━━━━━━━━━━━\u001b[0m\u001b[37m\u001b[0m \u001b[1m2s\u001b[0m 195ms/step - loss: 6.0873e-04 - val_loss: 0.0039\n",
      "Epoch 15/100\n",
      "\u001b[1m12/12\u001b[0m \u001b[32m━━━━━━━━━━━━━━━━━━━━\u001b[0m\u001b[37m\u001b[0m \u001b[1m2s\u001b[0m 189ms/step - loss: 5.4329e-04 - val_loss: 0.0032\n",
      "Epoch 16/100\n",
      "\u001b[1m12/12\u001b[0m \u001b[32m━━━━━━━━━━━━━━━━━━━━\u001b[0m\u001b[37m\u001b[0m \u001b[1m2s\u001b[0m 194ms/step - loss: 5.3579e-04 - val_loss: 0.0032\n",
      "Epoch 17/100\n",
      "\u001b[1m12/12\u001b[0m \u001b[32m━━━━━━━━━━━━━━━━━━━━\u001b[0m\u001b[37m\u001b[0m \u001b[1m2s\u001b[0m 187ms/step - loss: 5.1089e-04 - val_loss: 0.0035\n",
      "Epoch 18/100\n",
      "\u001b[1m12/12\u001b[0m \u001b[32m━━━━━━━━━━━━━━━━━━━━\u001b[0m\u001b[37m\u001b[0m \u001b[1m2s\u001b[0m 188ms/step - loss: 5.8107e-04 - val_loss: 0.0029\n",
      "Epoch 19/100\n",
      "\u001b[1m12/12\u001b[0m \u001b[32m━━━━━━━━━━━━━━━━━━━━\u001b[0m\u001b[37m\u001b[0m \u001b[1m3s\u001b[0m 209ms/step - loss: 5.4718e-04 - val_loss: 0.0028\n",
      "Epoch 20/100\n",
      "\u001b[1m12/12\u001b[0m \u001b[32m━━━━━━━━━━━━━━━━━━━━\u001b[0m\u001b[37m\u001b[0m \u001b[1m3s\u001b[0m 219ms/step - loss: 5.0114e-04 - val_loss: 0.0032\n",
      "Epoch 21/100\n",
      "\u001b[1m12/12\u001b[0m \u001b[32m━━━━━━━━━━━━━━━━━━━━\u001b[0m\u001b[37m\u001b[0m \u001b[1m5s\u001b[0m 181ms/step - loss: 5.3959e-04 - val_loss: 0.0033\n",
      "Epoch 22/100\n",
      "\u001b[1m12/12\u001b[0m \u001b[32m━━━━━━━━━━━━━━━━━━━━\u001b[0m\u001b[37m\u001b[0m \u001b[1m2s\u001b[0m 187ms/step - loss: 5.1942e-04 - val_loss: 0.0027\n",
      "Epoch 23/100\n",
      "\u001b[1m12/12\u001b[0m \u001b[32m━━━━━━━━━━━━━━━━━━━━\u001b[0m\u001b[37m\u001b[0m \u001b[1m3s\u001b[0m 242ms/step - loss: 4.9253e-04 - val_loss: 0.0030\n",
      "Epoch 24/100\n",
      "\u001b[1m12/12\u001b[0m \u001b[32m━━━━━━━━━━━━━━━━━━━━\u001b[0m\u001b[37m\u001b[0m \u001b[1m2s\u001b[0m 199ms/step - loss: 4.8686e-04 - val_loss: 0.0026\n",
      "Epoch 25/100\n",
      "\u001b[1m12/12\u001b[0m \u001b[32m━━━━━━━━━━━━━━━━━━━━\u001b[0m\u001b[37m\u001b[0m \u001b[1m3s\u001b[0m 200ms/step - loss: 4.4810e-04 - val_loss: 0.0024\n",
      "Epoch 26/100\n",
      "\u001b[1m12/12\u001b[0m \u001b[32m━━━━━━━━━━━━━━━━━━━━\u001b[0m\u001b[37m\u001b[0m \u001b[1m3s\u001b[0m 214ms/step - loss: 5.3642e-04 - val_loss: 0.0023\n",
      "Epoch 27/100\n",
      "\u001b[1m12/12\u001b[0m \u001b[32m━━━━━━━━━━━━━━━━━━━━\u001b[0m\u001b[37m\u001b[0m \u001b[1m3s\u001b[0m 207ms/step - loss: 4.6498e-04 - val_loss: 0.0027\n",
      "Epoch 28/100\n",
      "\u001b[1m12/12\u001b[0m \u001b[32m━━━━━━━━━━━━━━━━━━━━\u001b[0m\u001b[37m\u001b[0m \u001b[1m2s\u001b[0m 198ms/step - loss: 5.4052e-04 - val_loss: 0.0023\n",
      "Epoch 29/100\n",
      "\u001b[1m12/12\u001b[0m \u001b[32m━━━━━━━━━━━━━━━━━━━━\u001b[0m\u001b[37m\u001b[0m \u001b[1m2s\u001b[0m 185ms/step - loss: 4.8956e-04 - val_loss: 0.0022\n",
      "Epoch 30/100\n",
      "\u001b[1m12/12\u001b[0m \u001b[32m━━━━━━━━━━━━━━━━━━━━\u001b[0m\u001b[37m\u001b[0m \u001b[1m2s\u001b[0m 183ms/step - loss: 4.4803e-04 - val_loss: 0.0024\n",
      "Epoch 31/100\n",
      "\u001b[1m12/12\u001b[0m \u001b[32m━━━━━━━━━━━━━━━━━━━━\u001b[0m\u001b[37m\u001b[0m \u001b[1m2s\u001b[0m 181ms/step - loss: 4.5224e-04 - val_loss: 0.0027\n",
      "Epoch 32/100\n",
      "\u001b[1m12/12\u001b[0m \u001b[32m━━━━━━━━━━━━━━━━━━━━\u001b[0m\u001b[37m\u001b[0m \u001b[1m2s\u001b[0m 181ms/step - loss: 4.5769e-04 - val_loss: 0.0021\n",
      "Epoch 33/100\n",
      "\u001b[1m12/12\u001b[0m \u001b[32m━━━━━━━━━━━━━━━━━━━━\u001b[0m\u001b[37m\u001b[0m \u001b[1m2s\u001b[0m 184ms/step - loss: 4.1268e-04 - val_loss: 0.0019\n",
      "Epoch 34/100\n",
      "\u001b[1m12/12\u001b[0m \u001b[32m━━━━━━━━━━━━━━━━━━━━\u001b[0m\u001b[37m\u001b[0m \u001b[1m3s\u001b[0m 254ms/step - loss: 4.1105e-04 - val_loss: 0.0026\n",
      "Epoch 35/100\n",
      "\u001b[1m12/12\u001b[0m \u001b[32m━━━━━━━━━━━━━━━━━━━━\u001b[0m\u001b[37m\u001b[0m \u001b[1m2s\u001b[0m 179ms/step - loss: 4.2434e-04 - val_loss: 0.0019\n",
      "Epoch 36/100\n",
      "\u001b[1m12/12\u001b[0m \u001b[32m━━━━━━━━━━━━━━━━━━━━\u001b[0m\u001b[37m\u001b[0m \u001b[1m3s\u001b[0m 261ms/step - loss: 4.1314e-04 - val_loss: 0.0032\n",
      "Epoch 37/100\n",
      "\u001b[1m12/12\u001b[0m \u001b[32m━━━━━━━━━━━━━━━━━━━━\u001b[0m\u001b[37m\u001b[0m \u001b[1m3s\u001b[0m 215ms/step - loss: 4.7087e-04 - val_loss: 0.0019\n",
      "Epoch 38/100\n",
      "\u001b[1m12/12\u001b[0m \u001b[32m━━━━━━━━━━━━━━━━━━━━\u001b[0m\u001b[37m\u001b[0m \u001b[1m3s\u001b[0m 270ms/step - loss: 5.6837e-04 - val_loss: 0.0021\n",
      "Epoch 39/100\n",
      "\u001b[1m12/12\u001b[0m \u001b[32m━━━━━━━━━━━━━━━━━━━━\u001b[0m\u001b[37m\u001b[0m \u001b[1m4s\u001b[0m 190ms/step - loss: 4.3962e-04 - val_loss: 0.0032\n",
      "Epoch 40/100\n",
      "\u001b[1m12/12\u001b[0m \u001b[32m━━━━━━━━━━━━━━━━━━━━\u001b[0m\u001b[37m\u001b[0m \u001b[1m3s\u001b[0m 188ms/step - loss: 4.4465e-04 - val_loss: 0.0017\n",
      "Epoch 41/100\n",
      "\u001b[1m12/12\u001b[0m \u001b[32m━━━━━━━━━━━━━━━━━━━━\u001b[0m\u001b[37m\u001b[0m \u001b[1m2s\u001b[0m 193ms/step - loss: 4.0770e-04 - val_loss: 0.0023\n",
      "Epoch 42/100\n",
      "\u001b[1m12/12\u001b[0m \u001b[32m━━━━━━━━━━━━━━━━━━━━\u001b[0m\u001b[37m\u001b[0m \u001b[1m2s\u001b[0m 200ms/step - loss: 4.0053e-04 - val_loss: 0.0017\n",
      "Epoch 43/100\n",
      "\u001b[1m12/12\u001b[0m \u001b[32m━━━━━━━━━━━━━━━━━━━━\u001b[0m\u001b[37m\u001b[0m \u001b[1m2s\u001b[0m 193ms/step - loss: 3.4789e-04 - val_loss: 0.0015\n",
      "Epoch 44/100\n",
      "\u001b[1m12/12\u001b[0m \u001b[32m━━━━━━━━━━━━━━━━━━━━\u001b[0m\u001b[37m\u001b[0m \u001b[1m2s\u001b[0m 183ms/step - loss: 3.9057e-04 - val_loss: 0.0033\n",
      "Epoch 45/100\n",
      "\u001b[1m12/12\u001b[0m \u001b[32m━━━━━━━━━━━━━━━━━━━━\u001b[0m\u001b[37m\u001b[0m \u001b[1m2s\u001b[0m 203ms/step - loss: 4.5585e-04 - val_loss: 0.0017\n",
      "Epoch 46/100\n",
      "\u001b[1m12/12\u001b[0m \u001b[32m━━━━━━━━━━━━━━━━━━━━\u001b[0m\u001b[37m\u001b[0m \u001b[1m2s\u001b[0m 193ms/step - loss: 4.3708e-04 - val_loss: 0.0015\n",
      "Epoch 47/100\n",
      "\u001b[1m12/12\u001b[0m \u001b[32m━━━━━━━━━━━━━━━━━━━━\u001b[0m\u001b[37m\u001b[0m \u001b[1m2s\u001b[0m 185ms/step - loss: 3.4641e-04 - val_loss: 0.0021\n",
      "Epoch 48/100\n",
      "\u001b[1m12/12\u001b[0m \u001b[32m━━━━━━━━━━━━━━━━━━━━\u001b[0m\u001b[37m\u001b[0m \u001b[1m2s\u001b[0m 182ms/step - loss: 3.3862e-04 - val_loss: 0.0028\n",
      "Epoch 49/100\n",
      "\u001b[1m12/12\u001b[0m \u001b[32m━━━━━━━━━━━━━━━━━━━━\u001b[0m\u001b[37m\u001b[0m \u001b[1m2s\u001b[0m 181ms/step - loss: 3.5219e-04 - val_loss: 0.0015\n",
      "Epoch 50/100\n",
      "\u001b[1m12/12\u001b[0m \u001b[32m━━━━━━━━━━━━━━━━━━━━\u001b[0m\u001b[37m\u001b[0m \u001b[1m3s\u001b[0m 215ms/step - loss: 3.7374e-04 - val_loss: 0.0015\n",
      "Epoch 51/100\n",
      "\u001b[1m12/12\u001b[0m \u001b[32m━━━━━━━━━━━━━━━━━━━━\u001b[0m\u001b[37m\u001b[0m \u001b[1m2s\u001b[0m 186ms/step - loss: 3.2627e-04 - val_loss: 0.0017\n",
      "Epoch 52/100\n",
      "\u001b[1m12/12\u001b[0m \u001b[32m━━━━━━━━━━━━━━━━━━━━\u001b[0m\u001b[37m\u001b[0m \u001b[1m2s\u001b[0m 183ms/step - loss: 3.0029e-04 - val_loss: 0.0015\n",
      "Epoch 53/100\n",
      "\u001b[1m12/12\u001b[0m \u001b[32m━━━━━━━━━━━━━━━━━━━━\u001b[0m\u001b[37m\u001b[0m \u001b[1m2s\u001b[0m 191ms/step - loss: 2.9198e-04 - val_loss: 0.0019\n",
      "Epoch 54/100\n",
      "\u001b[1m12/12\u001b[0m \u001b[32m━━━━━━━━━━━━━━━━━━━━\u001b[0m\u001b[37m\u001b[0m \u001b[1m2s\u001b[0m 192ms/step - loss: 2.9984e-04 - val_loss: 0.0016\n",
      "Epoch 55/100\n",
      "\u001b[1m12/12\u001b[0m \u001b[32m━━━━━━━━━━━━━━━━━━━━\u001b[0m\u001b[37m\u001b[0m \u001b[1m2s\u001b[0m 194ms/step - loss: 3.1790e-04 - val_loss: 0.0015\n",
      "Epoch 56/100\n",
      "\u001b[1m12/12\u001b[0m \u001b[32m━━━━━━━━━━━━━━━━━━━━\u001b[0m\u001b[37m\u001b[0m \u001b[1m2s\u001b[0m 190ms/step - loss: 2.9732e-04 - val_loss: 0.0014\n",
      "Epoch 57/100\n",
      "\u001b[1m12/12\u001b[0m \u001b[32m━━━━━━━━━━━━━━━━━━━━\u001b[0m\u001b[37m\u001b[0m \u001b[1m2s\u001b[0m 197ms/step - loss: 2.8077e-04 - val_loss: 0.0020\n",
      "Epoch 58/100\n",
      "\u001b[1m12/12\u001b[0m \u001b[32m━━━━━━━━━━━━━━━━━━━━\u001b[0m\u001b[37m\u001b[0m \u001b[1m2s\u001b[0m 201ms/step - loss: 2.8502e-04 - val_loss: 0.0014\n",
      "Epoch 59/100\n",
      "\u001b[1m12/12\u001b[0m \u001b[32m━━━━━━━━━━━━━━━━━━━━\u001b[0m\u001b[37m\u001b[0m \u001b[1m2s\u001b[0m 185ms/step - loss: 2.9384e-04 - val_loss: 0.0020\n",
      "Epoch 60/100\n",
      "\u001b[1m12/12\u001b[0m \u001b[32m━━━━━━━━━━━━━━━━━━━━\u001b[0m\u001b[37m\u001b[0m \u001b[1m2s\u001b[0m 190ms/step - loss: 2.8754e-04 - val_loss: 0.0014\n",
      "Epoch 61/100\n",
      "\u001b[1m12/12\u001b[0m \u001b[32m━━━━━━━━━━━━━━━━━━━━\u001b[0m\u001b[37m\u001b[0m \u001b[1m2s\u001b[0m 191ms/step - loss: 2.8104e-04 - val_loss: 0.0022\n",
      "Epoch 62/100\n",
      "\u001b[1m12/12\u001b[0m \u001b[32m━━━━━━━━━━━━━━━━━━━━\u001b[0m\u001b[37m\u001b[0m \u001b[1m2s\u001b[0m 190ms/step - loss: 2.9554e-04 - val_loss: 0.0015\n",
      "Epoch 63/100\n",
      "\u001b[1m12/12\u001b[0m \u001b[32m━━━━━━━━━━━━━━━━━━━━\u001b[0m\u001b[37m\u001b[0m \u001b[1m3s\u001b[0m 206ms/step - loss: 2.8947e-04 - val_loss: 0.0014\n",
      "Epoch 64/100\n",
      "\u001b[1m12/12\u001b[0m \u001b[32m━━━━━━━━━━━━━━━━━━━━\u001b[0m\u001b[37m\u001b[0m \u001b[1m3s\u001b[0m 277ms/step - loss: 2.4782e-04 - val_loss: 0.0015\n",
      "Epoch 65/100\n",
      "\u001b[1m12/12\u001b[0m \u001b[32m━━━━━━━━━━━━━━━━━━━━\u001b[0m\u001b[37m\u001b[0m \u001b[1m2s\u001b[0m 195ms/step - loss: 2.8360e-04 - val_loss: 0.0020\n",
      "Epoch 66/100\n",
      "\u001b[1m12/12\u001b[0m \u001b[32m━━━━━━━━━━━━━━━━━━━━\u001b[0m\u001b[37m\u001b[0m \u001b[1m3s\u001b[0m 224ms/step - loss: 2.3961e-04 - val_loss: 0.0016\n",
      "Epoch 67/100\n",
      "\u001b[1m12/12\u001b[0m \u001b[32m━━━━━━━━━━━━━━━━━━━━\u001b[0m\u001b[37m\u001b[0m \u001b[1m5s\u001b[0m 206ms/step - loss: 2.4765e-04 - val_loss: 0.0015\n",
      "Epoch 68/100\n",
      "\u001b[1m12/12\u001b[0m \u001b[32m━━━━━━━━━━━━━━━━━━━━\u001b[0m\u001b[37m\u001b[0m \u001b[1m3s\u001b[0m 220ms/step - loss: 2.6335e-04 - val_loss: 0.0014\n",
      "Epoch 69/100\n",
      "\u001b[1m12/12\u001b[0m \u001b[32m━━━━━━━━━━━━━━━━━━━━\u001b[0m\u001b[37m\u001b[0m \u001b[1m2s\u001b[0m 186ms/step - loss: 2.5276e-04 - val_loss: 0.0013\n",
      "Epoch 70/100\n",
      "\u001b[1m12/12\u001b[0m \u001b[32m━━━━━━━━━━━━━━━━━━━━\u001b[0m\u001b[37m\u001b[0m \u001b[1m2s\u001b[0m 186ms/step - loss: 3.4716e-04 - val_loss: 0.0020\n",
      "Epoch 71/100\n",
      "\u001b[1m12/12\u001b[0m \u001b[32m━━━━━━━━━━━━━━━━━━━━\u001b[0m\u001b[37m\u001b[0m \u001b[1m2s\u001b[0m 181ms/step - loss: 2.5885e-04 - val_loss: 0.0014\n",
      "Epoch 72/100\n",
      "\u001b[1m12/12\u001b[0m \u001b[32m━━━━━━━━━━━━━━━━━━━━\u001b[0m\u001b[37m\u001b[0m \u001b[1m2s\u001b[0m 186ms/step - loss: 2.6155e-04 - val_loss: 0.0014\n",
      "Epoch 73/100\n",
      "\u001b[1m12/12\u001b[0m \u001b[32m━━━━━━━━━━━━━━━━━━━━\u001b[0m\u001b[37m\u001b[0m \u001b[1m2s\u001b[0m 185ms/step - loss: 2.8806e-04 - val_loss: 0.0017\n",
      "Epoch 74/100\n",
      "\u001b[1m12/12\u001b[0m \u001b[32m━━━━━━━━━━━━━━━━━━━━\u001b[0m\u001b[37m\u001b[0m \u001b[1m2s\u001b[0m 188ms/step - loss: 2.2781e-04 - val_loss: 0.0013\n",
      "Epoch 75/100\n",
      "\u001b[1m12/12\u001b[0m \u001b[32m━━━━━━━━━━━━━━━━━━━━\u001b[0m\u001b[37m\u001b[0m \u001b[1m2s\u001b[0m 183ms/step - loss: 2.3735e-04 - val_loss: 0.0014\n",
      "Epoch 76/100\n",
      "\u001b[1m12/12\u001b[0m \u001b[32m━━━━━━━━━━━━━━━━━━━━\u001b[0m\u001b[37m\u001b[0m \u001b[1m2s\u001b[0m 185ms/step - loss: 2.2416e-04 - val_loss: 0.0014\n",
      "Epoch 77/100\n",
      "\u001b[1m12/12\u001b[0m \u001b[32m━━━━━━━━━━━━━━━━━━━━\u001b[0m\u001b[37m\u001b[0m \u001b[1m2s\u001b[0m 184ms/step - loss: 2.2389e-04 - val_loss: 0.0012\n",
      "Epoch 78/100\n",
      "\u001b[1m12/12\u001b[0m \u001b[32m━━━━━━━━━━━━━━━━━━━━\u001b[0m\u001b[37m\u001b[0m \u001b[1m3s\u001b[0m 217ms/step - loss: 2.3935e-04 - val_loss: 0.0012\n",
      "Epoch 79/100\n",
      "\u001b[1m12/12\u001b[0m \u001b[32m━━━━━━━━━━━━━━━━━━━━\u001b[0m\u001b[37m\u001b[0m \u001b[1m2s\u001b[0m 182ms/step - loss: 2.5465e-04 - val_loss: 0.0012\n",
      "Epoch 80/100\n",
      "\u001b[1m12/12\u001b[0m \u001b[32m━━━━━━━━━━━━━━━━━━━━\u001b[0m\u001b[37m\u001b[0m \u001b[1m2s\u001b[0m 184ms/step - loss: 2.8666e-04 - val_loss: 0.0016\n",
      "Epoch 81/100\n",
      "\u001b[1m12/12\u001b[0m \u001b[32m━━━━━━━━━━━━━━━━━━━━\u001b[0m\u001b[37m\u001b[0m \u001b[1m3s\u001b[0m 220ms/step - loss: 2.2046e-04 - val_loss: 0.0012\n",
      "Epoch 82/100\n",
      "\u001b[1m12/12\u001b[0m \u001b[32m━━━━━━━━━━━━━━━━━━━━\u001b[0m\u001b[37m\u001b[0m \u001b[1m5s\u001b[0m 218ms/step - loss: 2.2366e-04 - val_loss: 0.0013\n",
      "Epoch 83/100\n",
      "\u001b[1m12/12\u001b[0m \u001b[32m━━━━━━━━━━━━━━━━━━━━\u001b[0m\u001b[37m\u001b[0m \u001b[1m2s\u001b[0m 187ms/step - loss: 1.8071e-04 - val_loss: 0.0011\n",
      "Epoch 84/100\n",
      "\u001b[1m12/12\u001b[0m \u001b[32m━━━━━━━━━━━━━━━━━━━━\u001b[0m\u001b[37m\u001b[0m \u001b[1m2s\u001b[0m 189ms/step - loss: 2.1572e-04 - val_loss: 0.0019\n",
      "Epoch 85/100\n",
      "\u001b[1m12/12\u001b[0m \u001b[32m━━━━━━━━━━━━━━━━━━━━\u001b[0m\u001b[37m\u001b[0m \u001b[1m3s\u001b[0m 285ms/step - loss: 2.1914e-04 - val_loss: 0.0012\n",
      "Epoch 86/100\n",
      "\u001b[1m12/12\u001b[0m \u001b[32m━━━━━━━━━━━━━━━━━━━━\u001b[0m\u001b[37m\u001b[0m \u001b[1m4s\u001b[0m 341ms/step - loss: 2.3375e-04 - val_loss: 0.0027\n",
      "Epoch 87/100\n",
      "\u001b[1m12/12\u001b[0m \u001b[32m━━━━━━━━━━━━━━━━━━━━\u001b[0m\u001b[37m\u001b[0m \u001b[1m3s\u001b[0m 260ms/step - loss: 2.7389e-04 - val_loss: 0.0012\n",
      "Epoch 88/100\n",
      "\u001b[1m12/12\u001b[0m \u001b[32m━━━━━━━━━━━━━━━━━━━━\u001b[0m\u001b[37m\u001b[0m \u001b[1m5s\u001b[0m 277ms/step - loss: 1.8263e-04 - val_loss: 0.0012\n",
      "Epoch 89/100\n",
      "\u001b[1m12/12\u001b[0m \u001b[32m━━━━━━━━━━━━━━━━━━━━\u001b[0m\u001b[37m\u001b[0m \u001b[1m4s\u001b[0m 339ms/step - loss: 1.9467e-04 - val_loss: 0.0013\n",
      "Epoch 90/100\n",
      "\u001b[1m12/12\u001b[0m \u001b[32m━━━━━━━━━━━━━━━━━━━━\u001b[0m\u001b[37m\u001b[0m \u001b[1m4s\u001b[0m 319ms/step - loss: 2.0238e-04 - val_loss: 0.0017\n",
      "Epoch 91/100\n",
      "\u001b[1m12/12\u001b[0m \u001b[32m━━━━━━━━━━━━━━━━━━━━\u001b[0m\u001b[37m\u001b[0m \u001b[1m2s\u001b[0m 195ms/step - loss: 2.6857e-04 - val_loss: 0.0016\n",
      "Epoch 92/100\n",
      "\u001b[1m12/12\u001b[0m \u001b[32m━━━━━━━━━━━━━━━━━━━━\u001b[0m\u001b[37m\u001b[0m \u001b[1m4s\u001b[0m 309ms/step - loss: 1.8769e-04 - val_loss: 0.0011\n",
      "Epoch 93/100\n",
      "\u001b[1m12/12\u001b[0m \u001b[32m━━━━━━━━━━━━━━━━━━━━\u001b[0m\u001b[37m\u001b[0m \u001b[1m6s\u001b[0m 353ms/step - loss: 1.8642e-04 - val_loss: 0.0013\n",
      "Epoch 94/100\n",
      "\u001b[1m12/12\u001b[0m \u001b[32m━━━━━━━━━━━━━━━━━━━━\u001b[0m\u001b[37m\u001b[0m \u001b[1m4s\u001b[0m 218ms/step - loss: 1.8778e-04 - val_loss: 0.0014\n",
      "Epoch 95/100\n",
      "\u001b[1m12/12\u001b[0m \u001b[32m━━━━━━━━━━━━━━━━━━━━\u001b[0m\u001b[37m\u001b[0m \u001b[1m4s\u001b[0m 375ms/step - loss: 2.4242e-04 - val_loss: 0.0015\n",
      "Epoch 96/100\n",
      "\u001b[1m12/12\u001b[0m \u001b[32m━━━━━━━━━━━━━━━━━━━━\u001b[0m\u001b[37m\u001b[0m \u001b[1m5s\u001b[0m 397ms/step - loss: 1.8496e-04 - val_loss: 0.0010\n",
      "Epoch 97/100\n",
      "\u001b[1m12/12\u001b[0m \u001b[32m━━━━━━━━━━━━━━━━━━━━\u001b[0m\u001b[37m\u001b[0m \u001b[1m6s\u001b[0m 481ms/step - loss: 1.8978e-04 - val_loss: 9.9432e-04\n",
      "Epoch 98/100\n",
      "\u001b[1m12/12\u001b[0m \u001b[32m━━━━━━━━━━━━━━━━━━━━\u001b[0m\u001b[37m\u001b[0m \u001b[1m8s\u001b[0m 234ms/step - loss: 1.7959e-04 - val_loss: 0.0011\n",
      "Epoch 99/100\n",
      "\u001b[1m12/12\u001b[0m \u001b[32m━━━━━━━━━━━━━━━━━━━━\u001b[0m\u001b[37m\u001b[0m \u001b[1m3s\u001b[0m 241ms/step - loss: 1.5300e-04 - val_loss: 0.0010\n",
      "Epoch 100/100\n",
      "\u001b[1m12/12\u001b[0m \u001b[32m━━━━━━━━━━━━━━━━━━━━\u001b[0m\u001b[37m\u001b[0m \u001b[1m3s\u001b[0m 261ms/step - loss: 1.7417e-04 - val_loss: 0.0013\n"
     ]
    },
    {
     "data": {
      "text/plain": [
       "<keras.src.callbacks.history.History at 0x208863d5790>"
      ]
     },
     "execution_count": 27,
     "metadata": {},
     "output_type": "execute_result"
    }
   ],
   "source": [
    "# Fit the model\n",
    "model.fit(X_train, y_train, validation_data=(X_test, y_test), epochs=100, batch_size=64, verbose=1)"
   ]
  },
  {
   "cell_type": "code",
   "execution_count": 28,
   "id": "d47c9935-eaf3-4101-8bfe-451c55837a69",
   "metadata": {
    "execution": {
     "iopub.execute_input": "2024-08-15T12:56:16.280489Z",
     "iopub.status.busy": "2024-08-15T12:56:16.277945Z",
     "iopub.status.idle": "2024-08-15T12:56:20.615795Z",
     "shell.execute_reply": "2024-08-15T12:56:20.613454Z",
     "shell.execute_reply.started": "2024-08-15T12:56:16.280489Z"
    }
   },
   "outputs": [
    {
     "name": "stdout",
     "output_type": "stream",
     "text": [
      "\u001b[1m23/23\u001b[0m \u001b[32m━━━━━━━━━━━━━━━━━━━━\u001b[0m\u001b[37m\u001b[0m \u001b[1m3s\u001b[0m 96ms/step\n",
      "\u001b[1m11/11\u001b[0m \u001b[32m━━━━━━━━━━━━━━━━━━━━\u001b[0m\u001b[37m\u001b[0m \u001b[1m1s\u001b[0m 66ms/step\n"
     ]
    }
   ],
   "source": [
    "## Prediction\n",
    "train_predict=model.predict(X_train)\n",
    "test_predict=model.predict(X_test)"
   ]
  },
  {
   "cell_type": "code",
   "execution_count": 29,
   "id": "1f544727-6c0f-49a8-95b8-b22ac89e0bc7",
   "metadata": {
    "execution": {
     "iopub.execute_input": "2024-08-15T12:56:20.631195Z",
     "iopub.status.busy": "2024-08-15T12:56:20.631195Z",
     "iopub.status.idle": "2024-08-15T12:56:20.649376Z",
     "shell.execute_reply": "2024-08-15T12:56:20.649376Z",
     "shell.execute_reply.started": "2024-08-15T12:56:20.631195Z"
    }
   },
   "outputs": [
    {
     "data": {
      "text/plain": [
       "array([[0.09462716],\n",
       "       [0.09468442],\n",
       "       [0.09462479],\n",
       "       [0.09551112],\n",
       "       [0.09731187],\n",
       "       [0.10034494],\n",
       "       [0.10566819],\n",
       "       [0.11067042],\n",
       "       [0.1137239 ],\n",
       "       [0.11671254]], dtype=float32)"
      ]
     },
     "execution_count": 29,
     "metadata": {},
     "output_type": "execute_result"
    }
   ],
   "source": [
    "train_predict[:10]"
   ]
  },
  {
   "cell_type": "code",
   "execution_count": 30,
   "id": "186d4b3b-53ac-4553-af5f-3f99fbcdc0ea",
   "metadata": {
    "execution": {
     "iopub.execute_input": "2024-08-15T12:56:20.653850Z",
     "iopub.status.busy": "2024-08-15T12:56:20.653850Z",
     "iopub.status.idle": "2024-08-15T12:56:20.909113Z",
     "shell.execute_reply": "2024-08-15T12:56:20.909113Z",
     "shell.execute_reply.started": "2024-08-15T12:56:20.653850Z"
    }
   },
   "outputs": [
    {
     "data": {
      "text/plain": [
       "array([[0.27861202],\n",
       "       [0.28140163],\n",
       "       [0.28491777],\n",
       "       [0.28902203],\n",
       "       [0.2905972 ],\n",
       "       [0.28972486],\n",
       "       [0.28651437],\n",
       "       [0.2853441 ],\n",
       "       [0.28589115],\n",
       "       [0.28641468]], dtype=float32)"
      ]
     },
     "execution_count": 30,
     "metadata": {},
     "output_type": "execute_result"
    }
   ],
   "source": [
    "test_predict[:10]"
   ]
  },
  {
   "cell_type": "code",
   "execution_count": 31,
   "id": "8c9d2ff0-2a86-42fd-9c52-e4b2acf53bda",
   "metadata": {
    "execution": {
     "iopub.execute_input": "2024-08-15T12:56:20.917126Z",
     "iopub.status.busy": "2024-08-15T12:56:20.917126Z",
     "iopub.status.idle": "2024-08-15T12:56:21.047079Z",
     "shell.execute_reply": "2024-08-15T12:56:21.047079Z",
     "shell.execute_reply.started": "2024-08-15T12:56:20.917126Z"
    }
   },
   "outputs": [],
   "source": [
    "## Transform back to original form by inverse scalling\n",
    "train_predict=scaler.inverse_transform(train_predict)\n",
    "test_predict=scaler.inverse_transform(test_predict)"
   ]
  },
  {
   "cell_type": "code",
   "execution_count": 32,
   "id": "e11058a0-3d6b-4559-b59a-95f34605e411",
   "metadata": {
    "execution": {
     "iopub.execute_input": "2024-08-15T12:56:21.047079Z",
     "iopub.status.busy": "2024-08-15T12:56:21.047079Z",
     "iopub.status.idle": "2024-08-15T12:56:21.233186Z",
     "shell.execute_reply": "2024-08-15T12:56:21.232612Z",
     "shell.execute_reply.started": "2024-08-15T12:56:21.047079Z"
    }
   },
   "outputs": [
    {
     "data": {
      "text/plain": [
       "143.81116442880335"
      ]
     },
     "execution_count": 32,
     "metadata": {},
     "output_type": "execute_result"
    }
   ],
   "source": [
    "## calculate RMSE\n",
    "import math\n",
    "from sklearn.metrics import mean_squared_error\n",
    "\n",
    "math.sqrt(mean_squared_error(y_train, train_predict))"
   ]
  },
  {
   "cell_type": "code",
   "execution_count": 33,
   "id": "0c24ef2d-7d09-49e6-9655-1bbcc97e2211",
   "metadata": {
    "execution": {
     "iopub.execute_input": "2024-08-15T12:56:21.247915Z",
     "iopub.status.busy": "2024-08-15T12:56:21.233186Z",
     "iopub.status.idle": "2024-08-15T12:56:21.275060Z",
     "shell.execute_reply": "2024-08-15T12:56:21.275060Z",
     "shell.execute_reply.started": "2024-08-15T12:56:21.247915Z"
    }
   },
   "outputs": [
    {
     "data": {
      "text/plain": [
       "242.3049765989976"
      ]
     },
     "execution_count": 33,
     "metadata": {},
     "output_type": "execute_result"
    }
   ],
   "source": [
    "## Test Dataset RMSE\n",
    "math.sqrt(mean_squared_error(y_test, test_predict))"
   ]
  },
  {
   "cell_type": "code",
   "execution_count": 34,
   "id": "c2413280-eaef-4cf0-b624-ddbb9b041007",
   "metadata": {
    "execution": {
     "iopub.execute_input": "2024-08-15T12:56:21.287151Z",
     "iopub.status.busy": "2024-08-15T12:56:21.281050Z",
     "iopub.status.idle": "2024-08-15T12:56:21.685381Z",
     "shell.execute_reply": "2024-08-15T12:56:21.685381Z",
     "shell.execute_reply.started": "2024-08-15T12:56:21.287151Z"
    }
   },
   "outputs": [
    {
     "data": {
      "image/png": "[encoded data removed]",
      "text/plain": [
       "<Figure size 1000x500 with 1 Axes>"
      ]
     },
     "metadata": {},
     "output_type": "display_data"
    }
   ],
   "source": [
    "# Plotting \n",
    "look_back = 100\n",
    "\n",
    "# Shift train predictions for plotting\n",
    "trainPredictPlot = np.empty_like(df1)\n",
    "trainPredictPlot[:, :] = np.nan\n",
    "trainPredictPlot[look_back:len(train_predict)+look_back, :] = train_predict\n",
    "\n",
    "# Shift test predictions for plotting\n",
    "testPredictPlot = np.empty_like(df1)\n",
    "testPredictPlot[:, :] = np.nan\n",
    "testPredictPlot[len(train_predict)+(look_back*2)+1:len(df1)-1, :] = test_predict\n",
    "\n",
    "# Plot baseline and predictions\n",
    "plt.figure(figsize=(10, 5))\n",
    "plt.plot(scaler.inverse_transform(df1), label='Actual Data')\n",
    "plt.plot(trainPredictPlot, label='Train Predictions')\n",
    "plt.plot(testPredictPlot, label='Test Predictions')\n",
    "\n",
    "# Add legend\n",
    "plt.legend()\n",
    "\n",
    "# Show plot\n",
    "plt.show()"
   ]
  },
  {
   "cell_type": "markdown",
   "id": "373c833c-5a34-4a53-aeee-4e6a01064198",
   "metadata": {},
   "source": [
    "#### Predict next 30 days stock price"
   ]
  },
  {
   "cell_type": "code",
   "execution_count": 36,
   "id": "f4acf22e-0fb5-499f-9e51-40c49cfbf50b",
   "metadata": {
    "execution": {
     "iopub.execute_input": "2024-08-15T12:56:21.750713Z",
     "iopub.status.busy": "2024-08-15T12:56:21.750713Z",
     "iopub.status.idle": "2024-08-15T12:56:21.923899Z",
     "shell.execute_reply": "2024-08-15T12:56:21.923899Z",
     "shell.execute_reply.started": "2024-08-15T12:56:21.750713Z"
    }
   },
   "outputs": [
    {
     "data": {
      "text/plain": [
       "441"
      ]
     },
     "execution_count": 36,
     "metadata": {},
     "output_type": "execute_result"
    }
   ],
   "source": [
    "len(test_data)"
   ]
  },
  {
   "cell_type": "code",
   "execution_count": 37,
   "id": "b3867a81-c261-46a4-8d68-018328aa85a9",
   "metadata": {
    "execution": {
     "iopub.execute_input": "2024-08-15T12:56:21.930044Z",
     "iopub.status.busy": "2024-08-15T12:56:21.923899Z",
     "iopub.status.idle": "2024-08-15T12:56:22.068666Z",
     "shell.execute_reply": "2024-08-15T12:56:22.068666Z",
     "shell.execute_reply.started": "2024-08-15T12:56:21.930044Z"
    }
   },
   "outputs": [
    {
     "data": {
      "text/plain": [
       "(1, 100)"
      ]
     },
     "execution_count": 37,
     "metadata": {},
     "output_type": "execute_result"
    }
   ],
   "source": [
    "## Taking moset recent last (back 100) stock price input to make prediction \n",
    "x_input=test_data[341:].reshape(1,-1)\n",
    "x_input.shape"
   ]
  },
  {
   "cell_type": "code",
   "execution_count": 38,
   "id": "ccf2daa0-7f7d-4390-af70-73064eef5e08",
   "metadata": {
    "execution": {
     "iopub.execute_input": "2024-08-15T12:56:22.076613Z",
     "iopub.status.busy": "2024-08-15T12:56:22.068666Z",
     "iopub.status.idle": "2024-08-15T12:56:22.172444Z",
     "shell.execute_reply": "2024-08-15T12:56:22.171425Z",
     "shell.execute_reply.started": "2024-08-15T12:56:22.076613Z"
    }
   },
   "outputs": [
    {
     "name": "stdout",
     "output_type": "stream",
     "text": [
      "[array([0.85835515, 0.8866419 , 0.87431394, 0.88431985, 0.87836697,\n",
      "       0.8986321 , 0.92582116, 0.92877649, 0.95676771, 0.93869797,\n",
      "       0.93304061, 0.94950604, 0.96424048, 0.95512117, 0.95989192,\n",
      "       0.96635143, 0.96246728, 0.92295027, 0.9598497 , 0.98792536,\n",
      "       0.98594106, 0.92531453, 0.92172591, 0.96474711, 0.97572406,\n",
      "       0.99159841, 0.96972895, 0.97614625, 0.96795575, 1.        ,\n",
      "       0.99016297, 0.99050072, 0.96538039, 0.98488559, 0.97086887,\n",
      "       0.94026007, 0.87748037, 0.83483915, 0.85413324, 0.77336823,\n",
      "       0.77269273, 0.88014017, 0.84007431, 0.89673225, 0.85527316,\n",
      "       0.83884995, 0.74233725, 0.82327113, 0.78143207, 0.6665963 ,\n",
      "       0.7921557 , 0.64118044, 0.68614371, 0.66001013, 0.65203074,\n",
      "       0.58642236, 0.56586169, 0.66089673, 0.65515494, 0.70970193,\n",
      "       0.66452757, 0.69437642, 0.69218104, 0.63569197, 0.65266402,\n",
      "       0.63780292, 0.7267162 , 0.71388162, 0.74191506, 0.75002111,\n",
      "       0.77222832, 0.83049059, 0.8194292 , 0.8289707 , 0.8125475 ,\n",
      "       0.78776492, 0.75162543, 0.78426074, 0.77974331, 0.81326522,\n",
      "       0.8141096 , 0.79473106, 0.83336148, 0.85898843, 0.83901883,\n",
      "       0.85628641, 0.87486279, 0.88782403, 0.90095415, 0.92793211,\n",
      "       0.948535  , 0.93333615, 0.91746179, 0.92544119, 0.91771511,\n",
      "       0.9483239 , 0.94064004, 0.96635143, 0.9563033 , 0.96491598])]\n"
     ]
    }
   ],
   "source": [
    "temp_input=list(x_input)\n",
    "print(temp_input)"
   ]
  },
  {
   "cell_type": "code",
   "execution_count": 39,
   "id": "8ee12fe8-d577-4843-b3d0-b9c4bfe56c0c",
   "metadata": {
    "execution": {
     "iopub.execute_input": "2024-08-15T12:56:22.172444Z",
     "iopub.status.busy": "2024-08-15T12:56:22.172444Z",
     "iopub.status.idle": "2024-08-15T12:56:22.291391Z",
     "shell.execute_reply": "2024-08-15T12:56:22.291391Z",
     "shell.execute_reply.started": "2024-08-15T12:56:22.172444Z"
    }
   },
   "outputs": [
    {
     "name": "stdout",
     "output_type": "stream",
     "text": [
      "[0.8583551465000423, 0.8866418981676942, 0.8743139407244789, 0.8843198513890065, 0.8783669678290975, 0.8986321033521913, 0.925821160179009, 0.9287764924427933, 0.9567677108840666, 0.9386979650426415, 0.933040614709111, 0.9495060373216249, 0.9642404796082076, 0.9551211686228154, 0.9598919192772104, 0.9663514312251966, 0.9624672802499368, 0.9229502659799038, 0.9598497002448705, 0.9879253567508233, 0.985941062230854, 0.9253145317909315, 0.9217259140420504, 0.964747107996285, 0.9757240564046274, 0.9915984125643842, 0.9697289538123788, 0.9761462467280253, 0.9679557544541082, 1.0000000000000002, 0.9901629654648318, 0.9905007177235499, 0.9653803934813816, 0.9848855864223593, 0.9708688676855528, 0.9402600692392133, 0.8774803681499621, 0.8348391454867856, 0.8541332432660644, 0.7733682344000676, 0.7726927298826314, 0.8801401671873683, 0.8400743054969182, 0.8967322468969012, 0.8552731571392387, 0.8388499535590646, 0.7423372456303303, 0.8232711306256861, 0.7814320695769654, 0.6665963016127672, 0.7921557037912694, 0.6411804441442204, 0.6861437135860848, 0.6600101325677616, 0.6520307354555435, 0.5864223591995272, 0.5658616904500551, 0.660896732246897, 0.6551549438486872, 0.7097019336316812, 0.664527569028118, 0.6943764248923416, 0.692181035210673, 0.6356919699400492, 0.6526640209406402, 0.637802921557038, 0.7267162036646122, 0.7138816178333194, 0.7419150553069325, 0.7500211095161702, 0.7722283205268936, 0.8304905851557884, 0.8194291986827664, 0.8289706999915563, 0.8125474964113824, 0.7877649244279323, 0.7516254327450818, 0.7842607447437306, 0.7797433082833742, 0.8132652199611587, 0.8141096006079542, 0.7947310647639958, 0.8333614793548934, 0.8589884319851391, 0.8390188296884238, 0.8562864139153934, 0.8748627881448958, 0.887824031073208, 0.9009541501308793, 0.9279321117959978, 0.9485349995778098, 0.9333361479354896, 0.9174617917757326, 0.925441188887951, 0.9177151059697712, 0.9483239044161109, 0.9406400405302711, 0.9663514312251966, 0.9563033015283293, 0.964915984125644]\n"
     ]
    }
   ],
   "source": [
    "temp_input=temp_input[0].tolist()\n",
    "print(temp_input)"
   ]
  },
  {
   "cell_type": "code",
   "execution_count": 40,
   "id": "530c2487-1cf2-44eb-850e-96d908fc2df2",
   "metadata": {
    "execution": {
     "iopub.execute_input": "2024-08-15T12:56:22.296778Z",
     "iopub.status.busy": "2024-08-15T12:56:22.296778Z",
     "iopub.status.idle": "2024-08-15T12:56:28.884798Z",
     "shell.execute_reply": "2024-08-15T12:56:28.884798Z",
     "shell.execute_reply.started": "2024-08-15T12:56:22.296778Z"
    }
   },
   "outputs": [
    {
     "name": "stdout",
     "output_type": "stream",
     "text": [
      "[0.98011017]\n",
      "101\n",
      "1 day input [0.8866419  0.87431394 0.88431985 0.87836697 0.8986321  0.92582116\n",
      " 0.92877649 0.95676771 0.93869797 0.93304061 0.94950604 0.96424048\n",
      " 0.95512117 0.95989192 0.96635143 0.96246728 0.92295027 0.9598497\n",
      " 0.98792536 0.98594106 0.92531453 0.92172591 0.96474711 0.97572406\n",
      " 0.99159841 0.96972895 0.97614625 0.96795575 1.         0.99016297\n",
      " 0.99050072 0.96538039 0.98488559 0.97086887 0.94026007 0.87748037\n",
      " 0.83483915 0.85413324 0.77336823 0.77269273 0.88014017 0.84007431\n",
      " 0.89673225 0.85527316 0.83884995 0.74233725 0.82327113 0.78143207\n",
      " 0.6665963  0.7921557  0.64118044 0.68614371 0.66001013 0.65203074\n",
      " 0.58642236 0.56586169 0.66089673 0.65515494 0.70970193 0.66452757\n",
      " 0.69437642 0.69218104 0.63569197 0.65266402 0.63780292 0.7267162\n",
      " 0.71388162 0.74191506 0.75002111 0.77222832 0.83049059 0.8194292\n",
      " 0.8289707  0.8125475  0.78776492 0.75162543 0.78426074 0.77974331\n",
      " 0.81326522 0.8141096  0.79473106 0.83336148 0.85898843 0.83901883\n",
      " 0.85628641 0.87486279 0.88782403 0.90095415 0.92793211 0.948535\n",
      " 0.93333615 0.91746179 0.92544119 0.91771511 0.9483239  0.94064004\n",
      " 0.96635143 0.9563033  0.96491598 0.98011017]\n",
      "1 day output [[0.9879359]]\n",
      "2 day input [0.87431394 0.88431985 0.87836697 0.8986321  0.92582116 0.92877649\n",
      " 0.95676771 0.93869797 0.93304061 0.94950604 0.96424048 0.95512117\n",
      " 0.95989192 0.96635143 0.96246728 0.92295027 0.9598497  0.98792536\n",
      " 0.98594106 0.92531453 0.92172591 0.96474711 0.97572406 0.99159841\n",
      " 0.96972895 0.97614625 0.96795575 1.         0.99016297 0.99050072\n",
      " 0.96538039 0.98488559 0.97086887 0.94026007 0.87748037 0.83483915\n",
      " 0.85413324 0.77336823 0.77269273 0.88014017 0.84007431 0.89673225\n",
      " 0.85527316 0.83884995 0.74233725 0.82327113 0.78143207 0.6665963\n",
      " 0.7921557  0.64118044 0.68614371 0.66001013 0.65203074 0.58642236\n",
      " 0.56586169 0.66089673 0.65515494 0.70970193 0.66452757 0.69437642\n",
      " 0.69218104 0.63569197 0.65266402 0.63780292 0.7267162  0.71388162\n",
      " 0.74191506 0.75002111 0.77222832 0.83049059 0.8194292  0.8289707\n",
      " 0.8125475  0.78776492 0.75162543 0.78426074 0.77974331 0.81326522\n",
      " 0.8141096  0.79473106 0.83336148 0.85898843 0.83901883 0.85628641\n",
      " 0.87486279 0.88782403 0.90095415 0.92793211 0.948535   0.93333615\n",
      " 0.91746179 0.92544119 0.91771511 0.9483239  0.94064004 0.96635143\n",
      " 0.9563033  0.96491598 0.98011017 0.9879359 ]\n",
      "2 day output [[0.99513936]]\n",
      "3 day input [0.88431985 0.87836697 0.8986321  0.92582116 0.92877649 0.95676771\n",
      " 0.93869797 0.93304061 0.94950604 0.96424048 0.95512117 0.95989192\n",
      " 0.96635143 0.96246728 0.92295027 0.9598497  0.98792536 0.98594106\n",
      " 0.92531453 0.92172591 0.96474711 0.97572406 0.99159841 0.96972895\n",
      " 0.97614625 0.96795575 1.         0.99016297 0.99050072 0.96538039\n",
      " 0.98488559 0.97086887 0.94026007 0.87748037 0.83483915 0.85413324\n",
      " 0.77336823 0.77269273 0.88014017 0.84007431 0.89673225 0.85527316\n",
      " 0.83884995 0.74233725 0.82327113 0.78143207 0.6665963  0.7921557\n",
      " 0.64118044 0.68614371 0.66001013 0.65203074 0.58642236 0.56586169\n",
      " 0.66089673 0.65515494 0.70970193 0.66452757 0.69437642 0.69218104\n",
      " 0.63569197 0.65266402 0.63780292 0.7267162  0.71388162 0.74191506\n",
      " 0.75002111 0.77222832 0.83049059 0.8194292  0.8289707  0.8125475\n",
      " 0.78776492 0.75162543 0.78426074 0.77974331 0.81326522 0.8141096\n",
      " 0.79473106 0.83336148 0.85898843 0.83901883 0.85628641 0.87486279\n",
      " 0.88782403 0.90095415 0.92793211 0.948535   0.93333615 0.91746179\n",
      " 0.92544119 0.91771511 0.9483239  0.94064004 0.96635143 0.9563033\n",
      " 0.96491598 0.98011017 0.9879359  0.99513936]\n",
      "3 day output [[1.0017594]]\n",
      "4 day input [0.87836697 0.8986321  0.92582116 0.92877649 0.95676771 0.93869797\n",
      " 0.93304061 0.94950604 0.96424048 0.95512117 0.95989192 0.96635143\n",
      " 0.96246728 0.92295027 0.9598497  0.98792536 0.98594106 0.92531453\n",
      " 0.92172591 0.96474711 0.97572406 0.99159841 0.96972895 0.97614625\n",
      " 0.96795575 1.         0.99016297 0.99050072 0.96538039 0.98488559\n",
      " 0.97086887 0.94026007 0.87748037 0.83483915 0.85413324 0.77336823\n",
      " 0.77269273 0.88014017 0.84007431 0.89673225 0.85527316 0.83884995\n",
      " 0.74233725 0.82327113 0.78143207 0.6665963  0.7921557  0.64118044\n",
      " 0.68614371 0.66001013 0.65203074 0.58642236 0.56586169 0.66089673\n",
      " 0.65515494 0.70970193 0.66452757 0.69437642 0.69218104 0.63569197\n",
      " 0.65266402 0.63780292 0.7267162  0.71388162 0.74191506 0.75002111\n",
      " 0.77222832 0.83049059 0.8194292  0.8289707  0.8125475  0.78776492\n",
      " 0.75162543 0.78426074 0.77974331 0.81326522 0.8141096  0.79473106\n",
      " 0.83336148 0.85898843 0.83901883 0.85628641 0.87486279 0.88782403\n",
      " 0.90095415 0.92793211 0.948535   0.93333615 0.91746179 0.92544119\n",
      " 0.91771511 0.9483239  0.94064004 0.96635143 0.9563033  0.96491598\n",
      " 0.98011017 0.9879359  0.99513936 1.00175941]\n",
      "4 day output [[1.0076779]]\n",
      "5 day input [0.8986321  0.92582116 0.92877649 0.95676771 0.93869797 0.93304061\n",
      " 0.94950604 0.96424048 0.95512117 0.95989192 0.96635143 0.96246728\n",
      " 0.92295027 0.9598497  0.98792536 0.98594106 0.92531453 0.92172591\n",
      " 0.96474711 0.97572406 0.99159841 0.96972895 0.97614625 0.96795575\n",
      " 1.         0.99016297 0.99050072 0.96538039 0.98488559 0.97086887\n",
      " 0.94026007 0.87748037 0.83483915 0.85413324 0.77336823 0.77269273\n",
      " 0.88014017 0.84007431 0.89673225 0.85527316 0.83884995 0.74233725\n",
      " 0.82327113 0.78143207 0.6665963  0.7921557  0.64118044 0.68614371\n",
      " 0.66001013 0.65203074 0.58642236 0.56586169 0.66089673 0.65515494\n",
      " 0.70970193 0.66452757 0.69437642 0.69218104 0.63569197 0.65266402\n",
      " 0.63780292 0.7267162  0.71388162 0.74191506 0.75002111 0.77222832\n",
      " 0.83049059 0.8194292  0.8289707  0.8125475  0.78776492 0.75162543\n",
      " 0.78426074 0.77974331 0.81326522 0.8141096  0.79473106 0.83336148\n",
      " 0.85898843 0.83901883 0.85628641 0.87486279 0.88782403 0.90095415\n",
      " 0.92793211 0.948535   0.93333615 0.91746179 0.92544119 0.91771511\n",
      " 0.9483239  0.94064004 0.96635143 0.9563033  0.96491598 0.98011017\n",
      " 0.9879359  0.99513936 1.00175941 1.00767791]\n",
      "5 day output [[1.0128957]]\n",
      "6 day input [0.92582116 0.92877649 0.95676771 0.93869797 0.93304061 0.94950604\n",
      " 0.96424048 0.95512117 0.95989192 0.96635143 0.96246728 0.92295027\n",
      " 0.9598497  0.98792536 0.98594106 0.92531453 0.92172591 0.96474711\n",
      " 0.97572406 0.99159841 0.96972895 0.97614625 0.96795575 1.\n",
      " 0.99016297 0.99050072 0.96538039 0.98488559 0.97086887 0.94026007\n",
      " 0.87748037 0.83483915 0.85413324 0.77336823 0.77269273 0.88014017\n",
      " 0.84007431 0.89673225 0.85527316 0.83884995 0.74233725 0.82327113\n",
      " 0.78143207 0.6665963  0.7921557  0.64118044 0.68614371 0.66001013\n",
      " 0.65203074 0.58642236 0.56586169 0.66089673 0.65515494 0.70970193\n",
      " 0.66452757 0.69437642 0.69218104 0.63569197 0.65266402 0.63780292\n",
      " 0.7267162  0.71388162 0.74191506 0.75002111 0.77222832 0.83049059\n",
      " 0.8194292  0.8289707  0.8125475  0.78776492 0.75162543 0.78426074\n",
      " 0.77974331 0.81326522 0.8141096  0.79473106 0.83336148 0.85898843\n",
      " 0.83901883 0.85628641 0.87486279 0.88782403 0.90095415 0.92793211\n",
      " 0.948535   0.93333615 0.91746179 0.92544119 0.91771511 0.9483239\n",
      " 0.94064004 0.96635143 0.9563033  0.96491598 0.98011017 0.9879359\n",
      " 0.99513936 1.00175941 1.00767791 1.0128957 ]\n",
      "6 day output [[1.0175649]]\n",
      "7 day input [0.92877649 0.95676771 0.93869797 0.93304061 0.94950604 0.96424048\n",
      " 0.95512117 0.95989192 0.96635143 0.96246728 0.92295027 0.9598497\n",
      " 0.98792536 0.98594106 0.92531453 0.92172591 0.96474711 0.97572406\n",
      " 0.99159841 0.96972895 0.97614625 0.96795575 1.         0.99016297\n",
      " 0.99050072 0.96538039 0.98488559 0.97086887 0.94026007 0.87748037\n",
      " 0.83483915 0.85413324 0.77336823 0.77269273 0.88014017 0.84007431\n",
      " 0.89673225 0.85527316 0.83884995 0.74233725 0.82327113 0.78143207\n",
      " 0.6665963  0.7921557  0.64118044 0.68614371 0.66001013 0.65203074\n",
      " 0.58642236 0.56586169 0.66089673 0.65515494 0.70970193 0.66452757\n",
      " 0.69437642 0.69218104 0.63569197 0.65266402 0.63780292 0.7267162\n",
      " 0.71388162 0.74191506 0.75002111 0.77222832 0.83049059 0.8194292\n",
      " 0.8289707  0.8125475  0.78776492 0.75162543 0.78426074 0.77974331\n",
      " 0.81326522 0.8141096  0.79473106 0.83336148 0.85898843 0.83901883\n",
      " 0.85628641 0.87486279 0.88782403 0.90095415 0.92793211 0.948535\n",
      " 0.93333615 0.91746179 0.92544119 0.91771511 0.9483239  0.94064004\n",
      " 0.96635143 0.9563033  0.96491598 0.98011017 0.9879359  0.99513936\n",
      " 1.00175941 1.00767791 1.0128957  1.01756489]\n",
      "7 day output [[1.0219226]]\n",
      "8 day input [0.95676771 0.93869797 0.93304061 0.94950604 0.96424048 0.95512117\n",
      " 0.95989192 0.96635143 0.96246728 0.92295027 0.9598497  0.98792536\n",
      " 0.98594106 0.92531453 0.92172591 0.96474711 0.97572406 0.99159841\n",
      " 0.96972895 0.97614625 0.96795575 1.         0.99016297 0.99050072\n",
      " 0.96538039 0.98488559 0.97086887 0.94026007 0.87748037 0.83483915\n",
      " 0.85413324 0.77336823 0.77269273 0.88014017 0.84007431 0.89673225\n",
      " 0.85527316 0.83884995 0.74233725 0.82327113 0.78143207 0.6665963\n",
      " 0.7921557  0.64118044 0.68614371 0.66001013 0.65203074 0.58642236\n",
      " 0.56586169 0.66089673 0.65515494 0.70970193 0.66452757 0.69437642\n",
      " 0.69218104 0.63569197 0.65266402 0.63780292 0.7267162  0.71388162\n",
      " 0.74191506 0.75002111 0.77222832 0.83049059 0.8194292  0.8289707\n",
      " 0.8125475  0.78776492 0.75162543 0.78426074 0.77974331 0.81326522\n",
      " 0.8141096  0.79473106 0.83336148 0.85898843 0.83901883 0.85628641\n",
      " 0.87486279 0.88782403 0.90095415 0.92793211 0.948535   0.93333615\n",
      " 0.91746179 0.92544119 0.91771511 0.9483239  0.94064004 0.96635143\n",
      " 0.9563033  0.96491598 0.98011017 0.9879359  0.99513936 1.00175941\n",
      " 1.00767791 1.0128957  1.01756489 1.02192259]\n",
      "8 day output [[1.0262215]]\n",
      "9 day input [0.93869797 0.93304061 0.94950604 0.96424048 0.95512117 0.95989192\n",
      " 0.96635143 0.96246728 0.92295027 0.9598497  0.98792536 0.98594106\n",
      " 0.92531453 0.92172591 0.96474711 0.97572406 0.99159841 0.96972895\n",
      " 0.97614625 0.96795575 1.         0.99016297 0.99050072 0.96538039\n",
      " 0.98488559 0.97086887 0.94026007 0.87748037 0.83483915 0.85413324\n",
      " 0.77336823 0.77269273 0.88014017 0.84007431 0.89673225 0.85527316\n",
      " 0.83884995 0.74233725 0.82327113 0.78143207 0.6665963  0.7921557\n",
      " 0.64118044 0.68614371 0.66001013 0.65203074 0.58642236 0.56586169\n",
      " 0.66089673 0.65515494 0.70970193 0.66452757 0.69437642 0.69218104\n",
      " 0.63569197 0.65266402 0.63780292 0.7267162  0.71388162 0.74191506\n",
      " 0.75002111 0.77222832 0.83049059 0.8194292  0.8289707  0.8125475\n",
      " 0.78776492 0.75162543 0.78426074 0.77974331 0.81326522 0.8141096\n",
      " 0.79473106 0.83336148 0.85898843 0.83901883 0.85628641 0.87486279\n",
      " 0.88782403 0.90095415 0.92793211 0.948535   0.93333615 0.91746179\n",
      " 0.92544119 0.91771511 0.9483239  0.94064004 0.96635143 0.9563033\n",
      " 0.96491598 0.98011017 0.9879359  0.99513936 1.00175941 1.00767791\n",
      " 1.0128957  1.01756489 1.02192259 1.02622151]\n",
      "9 day output [[1.0306752]]\n",
      "10 day input [0.93304061 0.94950604 0.96424048 0.95512117 0.95989192 0.96635143\n",
      " 0.96246728 0.92295027 0.9598497  0.98792536 0.98594106 0.92531453\n",
      " 0.92172591 0.96474711 0.97572406 0.99159841 0.96972895 0.97614625\n",
      " 0.96795575 1.         0.99016297 0.99050072 0.96538039 0.98488559\n",
      " 0.97086887 0.94026007 0.87748037 0.83483915 0.85413324 0.77336823\n",
      " 0.77269273 0.88014017 0.84007431 0.89673225 0.85527316 0.83884995\n",
      " 0.74233725 0.82327113 0.78143207 0.6665963  0.7921557  0.64118044\n",
      " 0.68614371 0.66001013 0.65203074 0.58642236 0.56586169 0.66089673\n",
      " 0.65515494 0.70970193 0.66452757 0.69437642 0.69218104 0.63569197\n",
      " 0.65266402 0.63780292 0.7267162  0.71388162 0.74191506 0.75002111\n",
      " 0.77222832 0.83049059 0.8194292  0.8289707  0.8125475  0.78776492\n",
      " 0.75162543 0.78426074 0.77974331 0.81326522 0.8141096  0.79473106\n",
      " 0.83336148 0.85898843 0.83901883 0.85628641 0.87486279 0.88782403\n",
      " 0.90095415 0.92793211 0.948535   0.93333615 0.91746179 0.92544119\n",
      " 0.91771511 0.9483239  0.94064004 0.96635143 0.9563033  0.96491598\n",
      " 0.98011017 0.9879359  0.99513936 1.00175941 1.00767791 1.0128957\n",
      " 1.01756489 1.02192259 1.02622151 1.03067517]\n",
      "10 day output [[1.035431]]\n",
      "11 day input [0.94950604 0.96424048 0.95512117 0.95989192 0.96635143 0.96246728\n",
      " 0.92295027 0.9598497  0.98792536 0.98594106 0.92531453 0.92172591\n",
      " 0.96474711 0.97572406 0.99159841 0.96972895 0.97614625 0.96795575\n",
      " 1.         0.99016297 0.99050072 0.96538039 0.98488559 0.97086887\n",
      " 0.94026007 0.87748037 0.83483915 0.85413324 0.77336823 0.77269273\n",
      " 0.88014017 0.84007431 0.89673225 0.85527316 0.83884995 0.74233725\n",
      " 0.82327113 0.78143207 0.6665963  0.7921557  0.64118044 0.68614371\n",
      " 0.66001013 0.65203074 0.58642236 0.56586169 0.66089673 0.65515494\n",
      " 0.70970193 0.66452757 0.69437642 0.69218104 0.63569197 0.65266402\n",
      " 0.63780292 0.7267162  0.71388162 0.74191506 0.75002111 0.77222832\n",
      " 0.83049059 0.8194292  0.8289707  0.8125475  0.78776492 0.75162543\n",
      " 0.78426074 0.77974331 0.81326522 0.8141096  0.79473106 0.83336148\n",
      " 0.85898843 0.83901883 0.85628641 0.87486279 0.88782403 0.90095415\n",
      " 0.92793211 0.948535   0.93333615 0.91746179 0.92544119 0.91771511\n",
      " 0.9483239  0.94064004 0.96635143 0.9563033  0.96491598 0.98011017\n",
      " 0.9879359  0.99513936 1.00175941 1.00767791 1.0128957  1.01756489\n",
      " 1.02192259 1.02622151 1.03067517 1.03543103]\n",
      "11 day output [[1.0405568]]\n",
      "12 day input [0.96424048 0.95512117 0.95989192 0.96635143 0.96246728 0.92295027\n",
      " 0.9598497  0.98792536 0.98594106 0.92531453 0.92172591 0.96474711\n",
      " 0.97572406 0.99159841 0.96972895 0.97614625 0.96795575 1.\n",
      " 0.99016297 0.99050072 0.96538039 0.98488559 0.97086887 0.94026007\n",
      " 0.87748037 0.83483915 0.85413324 0.77336823 0.77269273 0.88014017\n",
      " 0.84007431 0.89673225 0.85527316 0.83884995 0.74233725 0.82327113\n",
      " 0.78143207 0.6665963  0.7921557  0.64118044 0.68614371 0.66001013\n",
      " 0.65203074 0.58642236 0.56586169 0.66089673 0.65515494 0.70970193\n",
      " 0.66452757 0.69437642 0.69218104 0.63569197 0.65266402 0.63780292\n",
      " 0.7267162  0.71388162 0.74191506 0.75002111 0.77222832 0.83049059\n",
      " 0.8194292  0.8289707  0.8125475  0.78776492 0.75162543 0.78426074\n",
      " 0.77974331 0.81326522 0.8141096  0.79473106 0.83336148 0.85898843\n",
      " 0.83901883 0.85628641 0.87486279 0.88782403 0.90095415 0.92793211\n",
      " 0.948535   0.93333615 0.91746179 0.92544119 0.91771511 0.9483239\n",
      " 0.94064004 0.96635143 0.9563033  0.96491598 0.98011017 0.9879359\n",
      " 0.99513936 1.00175941 1.00767791 1.0128957  1.01756489 1.02192259\n",
      " 1.02622151 1.03067517 1.03543103 1.04055679]\n",
      "12 day output [[1.0460442]]\n",
      "13 day input [0.95512117 0.95989192 0.96635143 0.96246728 0.92295027 0.9598497\n",
      " 0.98792536 0.98594106 0.92531453 0.92172591 0.96474711 0.97572406\n",
      " 0.99159841 0.96972895 0.97614625 0.96795575 1.         0.99016297\n",
      " 0.99050072 0.96538039 0.98488559 0.97086887 0.94026007 0.87748037\n",
      " 0.83483915 0.85413324 0.77336823 0.77269273 0.88014017 0.84007431\n",
      " 0.89673225 0.85527316 0.83884995 0.74233725 0.82327113 0.78143207\n",
      " 0.6665963  0.7921557  0.64118044 0.68614371 0.66001013 0.65203074\n",
      " 0.58642236 0.56586169 0.66089673 0.65515494 0.70970193 0.66452757\n",
      " 0.69437642 0.69218104 0.63569197 0.65266402 0.63780292 0.7267162\n",
      " 0.71388162 0.74191506 0.75002111 0.77222832 0.83049059 0.8194292\n",
      " 0.8289707  0.8125475  0.78776492 0.75162543 0.78426074 0.77974331\n",
      " 0.81326522 0.8141096  0.79473106 0.83336148 0.85898843 0.83901883\n",
      " 0.85628641 0.87486279 0.88782403 0.90095415 0.92793211 0.948535\n",
      " 0.93333615 0.91746179 0.92544119 0.91771511 0.9483239  0.94064004\n",
      " 0.96635143 0.9563033  0.96491598 0.98011017 0.9879359  0.99513936\n",
      " 1.00175941 1.00767791 1.0128957  1.01756489 1.02192259 1.02622151\n",
      " 1.03067517 1.03543103 1.04055679 1.04604423]\n",
      "13 day output [[1.0518212]]\n",
      "14 day input [0.95989192 0.96635143 0.96246728 0.92295027 0.9598497  0.98792536\n",
      " 0.98594106 0.92531453 0.92172591 0.96474711 0.97572406 0.99159841\n",
      " 0.96972895 0.97614625 0.96795575 1.         0.99016297 0.99050072\n",
      " 0.96538039 0.98488559 0.97086887 0.94026007 0.87748037 0.83483915\n",
      " 0.85413324 0.77336823 0.77269273 0.88014017 0.84007431 0.89673225\n",
      " 0.85527316 0.83884995 0.74233725 0.82327113 0.78143207 0.6665963\n",
      " 0.7921557  0.64118044 0.68614371 0.66001013 0.65203074 0.58642236\n",
      " 0.56586169 0.66089673 0.65515494 0.70970193 0.66452757 0.69437642\n",
      " 0.69218104 0.63569197 0.65266402 0.63780292 0.7267162  0.71388162\n",
      " 0.74191506 0.75002111 0.77222832 0.83049059 0.8194292  0.8289707\n",
      " 0.8125475  0.78776492 0.75162543 0.78426074 0.77974331 0.81326522\n",
      " 0.8141096  0.79473106 0.83336148 0.85898843 0.83901883 0.85628641\n",
      " 0.87486279 0.88782403 0.90095415 0.92793211 0.948535   0.93333615\n",
      " 0.91746179 0.92544119 0.91771511 0.9483239  0.94064004 0.96635143\n",
      " 0.9563033  0.96491598 0.98011017 0.9879359  0.99513936 1.00175941\n",
      " 1.00767791 1.0128957  1.01756489 1.02192259 1.02622151 1.03067517\n",
      " 1.03543103 1.04055679 1.04604423 1.05182123]\n",
      "14 day output [[1.0577735]]\n",
      "15 day input [0.96635143 0.96246728 0.92295027 0.9598497  0.98792536 0.98594106\n",
      " 0.92531453 0.92172591 0.96474711 0.97572406 0.99159841 0.96972895\n",
      " 0.97614625 0.96795575 1.         0.99016297 0.99050072 0.96538039\n",
      " 0.98488559 0.97086887 0.94026007 0.87748037 0.83483915 0.85413324\n",
      " 0.77336823 0.77269273 0.88014017 0.84007431 0.89673225 0.85527316\n",
      " 0.83884995 0.74233725 0.82327113 0.78143207 0.6665963  0.7921557\n",
      " 0.64118044 0.68614371 0.66001013 0.65203074 0.58642236 0.56586169\n",
      " 0.66089673 0.65515494 0.70970193 0.66452757 0.69437642 0.69218104\n",
      " 0.63569197 0.65266402 0.63780292 0.7267162  0.71388162 0.74191506\n",
      " 0.75002111 0.77222832 0.83049059 0.8194292  0.8289707  0.8125475\n",
      " 0.78776492 0.75162543 0.78426074 0.77974331 0.81326522 0.8141096\n",
      " 0.79473106 0.83336148 0.85898843 0.83901883 0.85628641 0.87486279\n",
      " 0.88782403 0.90095415 0.92793211 0.948535   0.93333615 0.91746179\n",
      " 0.92544119 0.91771511 0.9483239  0.94064004 0.96635143 0.9563033\n",
      " 0.96491598 0.98011017 0.9879359  0.99513936 1.00175941 1.00767791\n",
      " 1.0128957  1.01756489 1.02192259 1.02622151 1.03067517 1.03543103\n",
      " 1.04055679 1.04604423 1.05182123 1.05777347]\n",
      "15 day output [[1.0637671]]\n",
      "16 day input [0.96246728 0.92295027 0.9598497  0.98792536 0.98594106 0.92531453\n",
      " 0.92172591 0.96474711 0.97572406 0.99159841 0.96972895 0.97614625\n",
      " 0.96795575 1.         0.99016297 0.99050072 0.96538039 0.98488559\n",
      " 0.97086887 0.94026007 0.87748037 0.83483915 0.85413324 0.77336823\n",
      " 0.77269273 0.88014017 0.84007431 0.89673225 0.85527316 0.83884995\n",
      " 0.74233725 0.82327113 0.78143207 0.6665963  0.7921557  0.64118044\n",
      " 0.68614371 0.66001013 0.65203074 0.58642236 0.56586169 0.66089673\n",
      " 0.65515494 0.70970193 0.66452757 0.69437642 0.69218104 0.63569197\n",
      " 0.65266402 0.63780292 0.7267162  0.71388162 0.74191506 0.75002111\n",
      " 0.77222832 0.83049059 0.8194292  0.8289707  0.8125475  0.78776492\n",
      " 0.75162543 0.78426074 0.77974331 0.81326522 0.8141096  0.79473106\n",
      " 0.83336148 0.85898843 0.83901883 0.85628641 0.87486279 0.88782403\n",
      " 0.90095415 0.92793211 0.948535   0.93333615 0.91746179 0.92544119\n",
      " 0.91771511 0.9483239  0.94064004 0.96635143 0.9563033  0.96491598\n",
      " 0.98011017 0.9879359  0.99513936 1.00175941 1.00767791 1.0128957\n",
      " 1.01756489 1.02192259 1.02622151 1.03067517 1.03543103 1.04055679\n",
      " 1.04604423 1.05182123 1.05777347 1.06376708]\n",
      "16 day output [[1.0696712]]\n",
      "17 day input [0.92295027 0.9598497  0.98792536 0.98594106 0.92531453 0.92172591\n",
      " 0.96474711 0.97572406 0.99159841 0.96972895 0.97614625 0.96795575\n",
      " 1.         0.99016297 0.99050072 0.96538039 0.98488559 0.97086887\n",
      " 0.94026007 0.87748037 0.83483915 0.85413324 0.77336823 0.77269273\n",
      " 0.88014017 0.84007431 0.89673225 0.85527316 0.83884995 0.74233725\n",
      " 0.82327113 0.78143207 0.6665963  0.7921557  0.64118044 0.68614371\n",
      " 0.66001013 0.65203074 0.58642236 0.56586169 0.66089673 0.65515494\n",
      " 0.70970193 0.66452757 0.69437642 0.69218104 0.63569197 0.65266402\n",
      " 0.63780292 0.7267162  0.71388162 0.74191506 0.75002111 0.77222832\n",
      " 0.83049059 0.8194292  0.8289707  0.8125475  0.78776492 0.75162543\n",
      " 0.78426074 0.77974331 0.81326522 0.8141096  0.79473106 0.83336148\n",
      " 0.85898843 0.83901883 0.85628641 0.87486279 0.88782403 0.90095415\n",
      " 0.92793211 0.948535   0.93333615 0.91746179 0.92544119 0.91771511\n",
      " 0.9483239  0.94064004 0.96635143 0.9563033  0.96491598 0.98011017\n",
      " 0.9879359  0.99513936 1.00175941 1.00767791 1.0128957  1.01756489\n",
      " 1.02192259 1.02622151 1.03067517 1.03543103 1.04055679 1.04604423\n",
      " 1.05182123 1.05777347 1.06376708 1.06967115]\n",
      "17 day output [[1.075379]]\n",
      "18 day input [0.9598497  0.98792536 0.98594106 0.92531453 0.92172591 0.96474711\n",
      " 0.97572406 0.99159841 0.96972895 0.97614625 0.96795575 1.\n",
      " 0.99016297 0.99050072 0.96538039 0.98488559 0.97086887 0.94026007\n",
      " 0.87748037 0.83483915 0.85413324 0.77336823 0.77269273 0.88014017\n",
      " 0.84007431 0.89673225 0.85527316 0.83884995 0.74233725 0.82327113\n",
      " 0.78143207 0.6665963  0.7921557  0.64118044 0.68614371 0.66001013\n",
      " 0.65203074 0.58642236 0.56586169 0.66089673 0.65515494 0.70970193\n",
      " 0.66452757 0.69437642 0.69218104 0.63569197 0.65266402 0.63780292\n",
      " 0.7267162  0.71388162 0.74191506 0.75002111 0.77222832 0.83049059\n",
      " 0.8194292  0.8289707  0.8125475  0.78776492 0.75162543 0.78426074\n",
      " 0.77974331 0.81326522 0.8141096  0.79473106 0.83336148 0.85898843\n",
      " 0.83901883 0.85628641 0.87486279 0.88782403 0.90095415 0.92793211\n",
      " 0.948535   0.93333615 0.91746179 0.92544119 0.91771511 0.9483239\n",
      " 0.94064004 0.96635143 0.9563033  0.96491598 0.98011017 0.9879359\n",
      " 0.99513936 1.00175941 1.00767791 1.0128957  1.01756489 1.02192259\n",
      " 1.02622151 1.03067517 1.03543103 1.04055679 1.04604423 1.05182123\n",
      " 1.05777347 1.06376708 1.06967115 1.07537901]\n",
      "18 day output [[1.0808184]]\n",
      "19 day input [0.98792536 0.98594106 0.92531453 0.92172591 0.96474711 0.97572406\n",
      " 0.99159841 0.96972895 0.97614625 0.96795575 1.         0.99016297\n",
      " 0.99050072 0.96538039 0.98488559 0.97086887 0.94026007 0.87748037\n",
      " 0.83483915 0.85413324 0.77336823 0.77269273 0.88014017 0.84007431\n",
      " 0.89673225 0.85527316 0.83884995 0.74233725 0.82327113 0.78143207\n",
      " 0.6665963  0.7921557  0.64118044 0.68614371 0.66001013 0.65203074\n",
      " 0.58642236 0.56586169 0.66089673 0.65515494 0.70970193 0.66452757\n",
      " 0.69437642 0.69218104 0.63569197 0.65266402 0.63780292 0.7267162\n",
      " 0.71388162 0.74191506 0.75002111 0.77222832 0.83049059 0.8194292\n",
      " 0.8289707  0.8125475  0.78776492 0.75162543 0.78426074 0.77974331\n",
      " 0.81326522 0.8141096  0.79473106 0.83336148 0.85898843 0.83901883\n",
      " 0.85628641 0.87486279 0.88782403 0.90095415 0.92793211 0.948535\n",
      " 0.93333615 0.91746179 0.92544119 0.91771511 0.9483239  0.94064004\n",
      " 0.96635143 0.9563033  0.96491598 0.98011017 0.9879359  0.99513936\n",
      " 1.00175941 1.00767791 1.0128957  1.01756489 1.02192259 1.02622151\n",
      " 1.03067517 1.03543103 1.04055679 1.04604423 1.05182123 1.05777347\n",
      " 1.06376708 1.06967115 1.07537901 1.08081841]\n",
      "19 day output [[1.0859588]]\n",
      "20 day input [0.98594106 0.92531453 0.92172591 0.96474711 0.97572406 0.99159841\n",
      " 0.96972895 0.97614625 0.96795575 1.         0.99016297 0.99050072\n",
      " 0.96538039 0.98488559 0.97086887 0.94026007 0.87748037 0.83483915\n",
      " 0.85413324 0.77336823 0.77269273 0.88014017 0.84007431 0.89673225\n",
      " 0.85527316 0.83884995 0.74233725 0.82327113 0.78143207 0.6665963\n",
      " 0.7921557  0.64118044 0.68614371 0.66001013 0.65203074 0.58642236\n",
      " 0.56586169 0.66089673 0.65515494 0.70970193 0.66452757 0.69437642\n",
      " 0.69218104 0.63569197 0.65266402 0.63780292 0.7267162  0.71388162\n",
      " 0.74191506 0.75002111 0.77222832 0.83049059 0.8194292  0.8289707\n",
      " 0.8125475  0.78776492 0.75162543 0.78426074 0.77974331 0.81326522\n",
      " 0.8141096  0.79473106 0.83336148 0.85898843 0.83901883 0.85628641\n",
      " 0.87486279 0.88782403 0.90095415 0.92793211 0.948535   0.93333615\n",
      " 0.91746179 0.92544119 0.91771511 0.9483239  0.94064004 0.96635143\n",
      " 0.9563033  0.96491598 0.98011017 0.9879359  0.99513936 1.00175941\n",
      " 1.00767791 1.0128957  1.01756489 1.02192259 1.02622151 1.03067517\n",
      " 1.03543103 1.04055679 1.04604423 1.05182123 1.05777347 1.06376708\n",
      " 1.06967115 1.07537901 1.08081841 1.08595884]\n",
      "20 day output [[1.0908104]]\n",
      "21 day input [0.92531453 0.92172591 0.96474711 0.97572406 0.99159841 0.96972895\n",
      " 0.97614625 0.96795575 1.         0.99016297 0.99050072 0.96538039\n",
      " 0.98488559 0.97086887 0.94026007 0.87748037 0.83483915 0.85413324\n",
      " 0.77336823 0.77269273 0.88014017 0.84007431 0.89673225 0.85527316\n",
      " 0.83884995 0.74233725 0.82327113 0.78143207 0.6665963  0.7921557\n",
      " 0.64118044 0.68614371 0.66001013 0.65203074 0.58642236 0.56586169\n",
      " 0.66089673 0.65515494 0.70970193 0.66452757 0.69437642 0.69218104\n",
      " 0.63569197 0.65266402 0.63780292 0.7267162  0.71388162 0.74191506\n",
      " 0.75002111 0.77222832 0.83049059 0.8194292  0.8289707  0.8125475\n",
      " 0.78776492 0.75162543 0.78426074 0.77974331 0.81326522 0.8141096\n",
      " 0.79473106 0.83336148 0.85898843 0.83901883 0.85628641 0.87486279\n",
      " 0.88782403 0.90095415 0.92793211 0.948535   0.93333615 0.91746179\n",
      " 0.92544119 0.91771511 0.9483239  0.94064004 0.96635143 0.9563033\n",
      " 0.96491598 0.98011017 0.9879359  0.99513936 1.00175941 1.00767791\n",
      " 1.0128957  1.01756489 1.02192259 1.02622151 1.03067517 1.03543103\n",
      " 1.04055679 1.04604423 1.05182123 1.05777347 1.06376708 1.06967115\n",
      " 1.07537901 1.08081841 1.08595884 1.09081042]\n",
      "21 day output [[1.0954145]]\n",
      "22 day input [0.92172591 0.96474711 0.97572406 0.99159841 0.96972895 0.97614625\n",
      " 0.96795575 1.         0.99016297 0.99050072 0.96538039 0.98488559\n",
      " 0.97086887 0.94026007 0.87748037 0.83483915 0.85413324 0.77336823\n",
      " 0.77269273 0.88014017 0.84007431 0.89673225 0.85527316 0.83884995\n",
      " 0.74233725 0.82327113 0.78143207 0.6665963  0.7921557  0.64118044\n",
      " 0.68614371 0.66001013 0.65203074 0.58642236 0.56586169 0.66089673\n",
      " 0.65515494 0.70970193 0.66452757 0.69437642 0.69218104 0.63569197\n",
      " 0.65266402 0.63780292 0.7267162  0.71388162 0.74191506 0.75002111\n",
      " 0.77222832 0.83049059 0.8194292  0.8289707  0.8125475  0.78776492\n",
      " 0.75162543 0.78426074 0.77974331 0.81326522 0.8141096  0.79473106\n",
      " 0.83336148 0.85898843 0.83901883 0.85628641 0.87486279 0.88782403\n",
      " 0.90095415 0.92793211 0.948535   0.93333615 0.91746179 0.92544119\n",
      " 0.91771511 0.9483239  0.94064004 0.96635143 0.9563033  0.96491598\n",
      " 0.98011017 0.9879359  0.99513936 1.00175941 1.00767791 1.0128957\n",
      " 1.01756489 1.02192259 1.02622151 1.03067517 1.03543103 1.04055679\n",
      " 1.04604423 1.05182123 1.05777347 1.06376708 1.06967115 1.07537901\n",
      " 1.08081841 1.08595884 1.09081042 1.09541452]\n",
      "22 day output [[1.0998344]]\n",
      "23 day input [0.96474711 0.97572406 0.99159841 0.96972895 0.97614625 0.96795575\n",
      " 1.         0.99016297 0.99050072 0.96538039 0.98488559 0.97086887\n",
      " 0.94026007 0.87748037 0.83483915 0.85413324 0.77336823 0.77269273\n",
      " 0.88014017 0.84007431 0.89673225 0.85527316 0.83884995 0.74233725\n",
      " 0.82327113 0.78143207 0.6665963  0.7921557  0.64118044 0.68614371\n",
      " 0.66001013 0.65203074 0.58642236 0.56586169 0.66089673 0.65515494\n",
      " 0.70970193 0.66452757 0.69437642 0.69218104 0.63569197 0.65266402\n",
      " 0.63780292 0.7267162  0.71388162 0.74191506 0.75002111 0.77222832\n",
      " 0.83049059 0.8194292  0.8289707  0.8125475  0.78776492 0.75162543\n",
      " 0.78426074 0.77974331 0.81326522 0.8141096  0.79473106 0.83336148\n",
      " 0.85898843 0.83901883 0.85628641 0.87486279 0.88782403 0.90095415\n",
      " 0.92793211 0.948535   0.93333615 0.91746179 0.92544119 0.91771511\n",
      " 0.9483239  0.94064004 0.96635143 0.9563033  0.96491598 0.98011017\n",
      " 0.9879359  0.99513936 1.00175941 1.00767791 1.0128957  1.01756489\n",
      " 1.02192259 1.02622151 1.03067517 1.03543103 1.04055679 1.04604423\n",
      " 1.05182123 1.05777347 1.06376708 1.06967115 1.07537901 1.08081841\n",
      " 1.08595884 1.09081042 1.09541452 1.09983444]\n",
      "23 day output [[1.10414]]\n",
      "24 day input [0.97572406 0.99159841 0.96972895 0.97614625 0.96795575 1.\n",
      " 0.99016297 0.99050072 0.96538039 0.98488559 0.97086887 0.94026007\n",
      " 0.87748037 0.83483915 0.85413324 0.77336823 0.77269273 0.88014017\n",
      " 0.84007431 0.89673225 0.85527316 0.83884995 0.74233725 0.82327113\n",
      " 0.78143207 0.6665963  0.7921557  0.64118044 0.68614371 0.66001013\n",
      " 0.65203074 0.58642236 0.56586169 0.66089673 0.65515494 0.70970193\n",
      " 0.66452757 0.69437642 0.69218104 0.63569197 0.65266402 0.63780292\n",
      " 0.7267162  0.71388162 0.74191506 0.75002111 0.77222832 0.83049059\n",
      " 0.8194292  0.8289707  0.8125475  0.78776492 0.75162543 0.78426074\n",
      " 0.77974331 0.81326522 0.8141096  0.79473106 0.83336148 0.85898843\n",
      " 0.83901883 0.85628641 0.87486279 0.88782403 0.90095415 0.92793211\n",
      " 0.948535   0.93333615 0.91746179 0.92544119 0.91771511 0.9483239\n",
      " 0.94064004 0.96635143 0.9563033  0.96491598 0.98011017 0.9879359\n",
      " 0.99513936 1.00175941 1.00767791 1.0128957  1.01756489 1.02192259\n",
      " 1.02622151 1.03067517 1.03543103 1.04055679 1.04604423 1.05182123\n",
      " 1.05777347 1.06376708 1.06967115 1.07537901 1.08081841 1.08595884\n",
      " 1.09081042 1.09541452 1.09983444 1.10414004]\n",
      "24 day output [[1.1083968]]\n",
      "25 day input [0.99159841 0.96972895 0.97614625 0.96795575 1.         0.99016297\n",
      " 0.99050072 0.96538039 0.98488559 0.97086887 0.94026007 0.87748037\n",
      " 0.83483915 0.85413324 0.77336823 0.77269273 0.88014017 0.84007431\n",
      " 0.89673225 0.85527316 0.83884995 0.74233725 0.82327113 0.78143207\n",
      " 0.6665963  0.7921557  0.64118044 0.68614371 0.66001013 0.65203074\n",
      " 0.58642236 0.56586169 0.66089673 0.65515494 0.70970193 0.66452757\n",
      " 0.69437642 0.69218104 0.63569197 0.65266402 0.63780292 0.7267162\n",
      " 0.71388162 0.74191506 0.75002111 0.77222832 0.83049059 0.8194292\n",
      " 0.8289707  0.8125475  0.78776492 0.75162543 0.78426074 0.77974331\n",
      " 0.81326522 0.8141096  0.79473106 0.83336148 0.85898843 0.83901883\n",
      " 0.85628641 0.87486279 0.88782403 0.90095415 0.92793211 0.948535\n",
      " 0.93333615 0.91746179 0.92544119 0.91771511 0.9483239  0.94064004\n",
      " 0.96635143 0.9563033  0.96491598 0.98011017 0.9879359  0.99513936\n",
      " 1.00175941 1.00767791 1.0128957  1.01756489 1.02192259 1.02622151\n",
      " 1.03067517 1.03543103 1.04055679 1.04604423 1.05182123 1.05777347\n",
      " 1.06376708 1.06967115 1.07537901 1.08081841 1.08595884 1.09081042\n",
      " 1.09541452 1.09983444 1.10414004 1.10839677]\n",
      "25 day output [[1.1126562]]\n",
      "26 day input [0.96972895 0.97614625 0.96795575 1.         0.99016297 0.99050072\n",
      " 0.96538039 0.98488559 0.97086887 0.94026007 0.87748037 0.83483915\n",
      " 0.85413324 0.77336823 0.77269273 0.88014017 0.84007431 0.89673225\n",
      " 0.85527316 0.83884995 0.74233725 0.82327113 0.78143207 0.6665963\n",
      " 0.7921557  0.64118044 0.68614371 0.66001013 0.65203074 0.58642236\n",
      " 0.56586169 0.66089673 0.65515494 0.70970193 0.66452757 0.69437642\n",
      " 0.69218104 0.63569197 0.65266402 0.63780292 0.7267162  0.71388162\n",
      " 0.74191506 0.75002111 0.77222832 0.83049059 0.8194292  0.8289707\n",
      " 0.8125475  0.78776492 0.75162543 0.78426074 0.77974331 0.81326522\n",
      " 0.8141096  0.79473106 0.83336148 0.85898843 0.83901883 0.85628641\n",
      " 0.87486279 0.88782403 0.90095415 0.92793211 0.948535   0.93333615\n",
      " 0.91746179 0.92544119 0.91771511 0.9483239  0.94064004 0.96635143\n",
      " 0.9563033  0.96491598 0.98011017 0.9879359  0.99513936 1.00175941\n",
      " 1.00767791 1.0128957  1.01756489 1.02192259 1.02622151 1.03067517\n",
      " 1.03543103 1.04055679 1.04604423 1.05182123 1.05777347 1.06376708\n",
      " 1.06967115 1.07537901 1.08081841 1.08595884 1.09081042 1.09541452\n",
      " 1.09983444 1.10414004 1.10839677 1.11265624]\n",
      "26 day output [[1.1169494]]\n",
      "27 day input [0.97614625 0.96795575 1.         0.99016297 0.99050072 0.96538039\n",
      " 0.98488559 0.97086887 0.94026007 0.87748037 0.83483915 0.85413324\n",
      " 0.77336823 0.77269273 0.88014017 0.84007431 0.89673225 0.85527316\n",
      " 0.83884995 0.74233725 0.82327113 0.78143207 0.6665963  0.7921557\n",
      " 0.64118044 0.68614371 0.66001013 0.65203074 0.58642236 0.56586169\n",
      " 0.66089673 0.65515494 0.70970193 0.66452757 0.69437642 0.69218104\n",
      " 0.63569197 0.65266402 0.63780292 0.7267162  0.71388162 0.74191506\n",
      " 0.75002111 0.77222832 0.83049059 0.8194292  0.8289707  0.8125475\n",
      " 0.78776492 0.75162543 0.78426074 0.77974331 0.81326522 0.8141096\n",
      " 0.79473106 0.83336148 0.85898843 0.83901883 0.85628641 0.87486279\n",
      " 0.88782403 0.90095415 0.92793211 0.948535   0.93333615 0.91746179\n",
      " 0.92544119 0.91771511 0.9483239  0.94064004 0.96635143 0.9563033\n",
      " 0.96491598 0.98011017 0.9879359  0.99513936 1.00175941 1.00767791\n",
      " 1.0128957  1.01756489 1.02192259 1.02622151 1.03067517 1.03543103\n",
      " 1.04055679 1.04604423 1.05182123 1.05777347 1.06376708 1.06967115\n",
      " 1.07537901 1.08081841 1.08595884 1.09081042 1.09541452 1.09983444\n",
      " 1.10414004 1.10839677 1.11265624 1.11694944]\n",
      "27 day output [[1.1212856]]\n",
      "28 day input [0.96795575 1.         0.99016297 0.99050072 0.96538039 0.98488559\n",
      " 0.97086887 0.94026007 0.87748037 0.83483915 0.85413324 0.77336823\n",
      " 0.77269273 0.88014017 0.84007431 0.89673225 0.85527316 0.83884995\n",
      " 0.74233725 0.82327113 0.78143207 0.6665963  0.7921557  0.64118044\n",
      " 0.68614371 0.66001013 0.65203074 0.58642236 0.56586169 0.66089673\n",
      " 0.65515494 0.70970193 0.66452757 0.69437642 0.69218104 0.63569197\n",
      " 0.65266402 0.63780292 0.7267162  0.71388162 0.74191506 0.75002111\n",
      " 0.77222832 0.83049059 0.8194292  0.8289707  0.8125475  0.78776492\n",
      " 0.75162543 0.78426074 0.77974331 0.81326522 0.8141096  0.79473106\n",
      " 0.83336148 0.85898843 0.83901883 0.85628641 0.87486279 0.88782403\n",
      " 0.90095415 0.92793211 0.948535   0.93333615 0.91746179 0.92544119\n",
      " 0.91771511 0.9483239  0.94064004 0.96635143 0.9563033  0.96491598\n",
      " 0.98011017 0.9879359  0.99513936 1.00175941 1.00767791 1.0128957\n",
      " 1.01756489 1.02192259 1.02622151 1.03067517 1.03543103 1.04055679\n",
      " 1.04604423 1.05182123 1.05777347 1.06376708 1.06967115 1.07537901\n",
      " 1.08081841 1.08595884 1.09081042 1.09541452 1.09983444 1.10414004\n",
      " 1.10839677 1.11265624 1.11694944 1.12128556]\n",
      "28 day output [[1.1256523]]\n",
      "29 day input [1.         0.99016297 0.99050072 0.96538039 0.98488559 0.97086887\n",
      " 0.94026007 0.87748037 0.83483915 0.85413324 0.77336823 0.77269273\n",
      " 0.88014017 0.84007431 0.89673225 0.85527316 0.83884995 0.74233725\n",
      " 0.82327113 0.78143207 0.6665963  0.7921557  0.64118044 0.68614371\n",
      " 0.66001013 0.65203074 0.58642236 0.56586169 0.66089673 0.65515494\n",
      " 0.70970193 0.66452757 0.69437642 0.69218104 0.63569197 0.65266402\n",
      " 0.63780292 0.7267162  0.71388162 0.74191506 0.75002111 0.77222832\n",
      " 0.83049059 0.8194292  0.8289707  0.8125475  0.78776492 0.75162543\n",
      " 0.78426074 0.77974331 0.81326522 0.8141096  0.79473106 0.83336148\n",
      " 0.85898843 0.83901883 0.85628641 0.87486279 0.88782403 0.90095415\n",
      " 0.92793211 0.948535   0.93333615 0.91746179 0.92544119 0.91771511\n",
      " 0.9483239  0.94064004 0.96635143 0.9563033  0.96491598 0.98011017\n",
      " 0.9879359  0.99513936 1.00175941 1.00767791 1.0128957  1.01756489\n",
      " 1.02192259 1.02622151 1.03067517 1.03543103 1.04055679 1.04604423\n",
      " 1.05182123 1.05777347 1.06376708 1.06967115 1.07537901 1.08081841\n",
      " 1.08595884 1.09081042 1.09541452 1.09983444 1.10414004 1.10839677\n",
      " 1.11265624 1.11694944 1.12128556 1.12565231]\n",
      "29 day output [[1.1300235]]\n",
      "[[0.9801101684570312], [0.9879359006881714], [0.9951393604278564], [1.00175940990448], [1.0076779127120972], [1.0128957033157349], [1.0175648927688599], [1.0219225883483887], [1.026221513748169], [1.0306751728057861], [1.0354310274124146], [1.040556788444519], [1.0460442304611206], [1.051821231842041], [1.057773470878601], [1.0637670755386353], [1.0696711540222168], [1.0753790140151978], [1.0808184146881104], [1.0859588384628296], [1.0908104181289673], [1.0954145193099976], [1.0998344421386719], [1.104140043258667], [1.1083967685699463], [1.1126562356948853], [1.116949439048767], [1.1212855577468872], [1.1256523132324219], [1.13002347946167]]\n"
     ]
    }
   ],
   "source": [
    "from numpy import array\n",
    "\n",
    "# Initialize an empty list to store the predicted outputs\n",
    "lst_output = []\n",
    "\n",
    "# Number of time steps the model looks back to make a prediction\n",
    "n_steps = 100\n",
    "\n",
    "# Counter to track the number of predictions (days)\n",
    "i = 0\n",
    "\n",
    "# Loop to generate predictions for the next 30 days\n",
    "while(i < 30):\n",
    "    \n",
    "    # If the input list has more than 100 elements\n",
    "    if(len(temp_input) > 100):\n",
    "        # Convert the list to a numpy array, removing the first element to keep the length 100\n",
    "        x_input = np.array(temp_input[1:])\n",
    "        print(\"{} day input {}\".format(i, x_input))  # Print the input for the current day\n",
    "        \n",
    "        # Reshape the input to match the model's expected input shape\n",
    "        x_input = x_input.reshape(1, -1)\n",
    "        x_input = x_input.reshape((1, n_steps, 1))\n",
    "        \n",
    "        # Predict the next value using the model\n",
    "        yhat = model.predict(x_input, verbose=0)\n",
    "        print(\"{} day output {}\".format(i, yhat))  # Print the output for the current day\n",
    "        \n",
    "        # Add the predicted value to the input list to use it for the next prediction\n",
    "        temp_input.extend(yhat[0].tolist())\n",
    "        \n",
    "        # Keep the input list length at 100 by removing the first element\n",
    "        temp_input = temp_input[1:]\n",
    "        \n",
    "        # Store the predicted value in the output list\n",
    "        lst_output.extend(yhat.tolist())\n",
    "        \n",
    "        # Increment the counter to move to the next day\n",
    "        i = i + 1\n",
    "    \n",
    "    else:\n",
    "        # If the input list has exactly 100 elements\n",
    "        x_input = x_input.reshape((1, n_steps, 1))\n",
    "        \n",
    "        # Predict the next value using the model\n",
    "        yhat = model.predict(x_input, verbose=0)\n",
    "        print(yhat[0])  # Print the output for the current day\n",
    "        \n",
    "        # Add the predicted value to the input list to use it for the next prediction\n",
    "        temp_input.extend(yhat[0].tolist())\n",
    "        print(len(temp_input))  # Print the current length of the input list\n",
    "        \n",
    "        # Store the predicted value in the output list\n",
    "        lst_output.extend(yhat.tolist())\n",
    "        \n",
    "        # Increment the counter to move to the next day\n",
    "        i = i + 1\n",
    "\n",
    "# Print the final list of predictions for the next 30 days\n",
    "print(lst_output)"
   ]
  },
  {
   "cell_type": "code",
   "execution_count": 71,
   "id": "9c92b639-7391-49be-a28b-9b57f9926009",
   "metadata": {
    "execution": {
     "iopub.execute_input": "2024-08-15T12:58:24.551518Z",
     "iopub.status.busy": "2024-08-15T12:58:24.551518Z",
     "iopub.status.idle": "2024-08-15T12:58:24.562527Z",
     "shell.execute_reply": "2024-08-15T12:58:24.562527Z",
     "shell.execute_reply.started": "2024-08-15T12:58:24.551518Z"
    }
   },
   "outputs": [
    {
     "name": "stdout",
     "output_type": "stream",
     "text": [
      "1258\n"
     ]
    }
   ],
   "source": [
    "print(len(df1))"
   ]
  },
  {
   "cell_type": "code",
   "execution_count": 103,
   "id": "1ffc5e9a-20a2-4f52-a95e-66e437aa5f28",
   "metadata": {
    "execution": {
     "iopub.execute_input": "2024-08-15T13:15:32.287868Z",
     "iopub.status.busy": "2024-08-15T13:15:32.287868Z",
     "iopub.status.idle": "2024-08-15T13:15:32.857776Z",
     "shell.execute_reply": "2024-08-15T13:15:32.857776Z",
     "shell.execute_reply.started": "2024-08-15T13:15:32.287868Z"
    }
   },
   "outputs": [
    {
     "data": {
      "image/png": "[encoded data removed]",
      "text/plain": [
       "<Figure size 1200x600 with 1 Axes>"
      ]
     },
     "metadata": {},
     "output_type": "display_data"
    }
   ],
   "source": [
    "# Create arrays for plotting for x_axis days\n",
    "day_new = np.arange(1, 101)\n",
    "day_pred = np.arange(101, 131)\n",
    "\n",
    "# Plot the historical data\n",
    "plt.figure(figsize=(12, 6)) \n",
    "plt.plot(day_new, scaler.inverse_transform(df1[1158:]), label='Historical Stock Price')\n",
    "\n",
    "# Plot the predicted data\n",
    "plt.plot(day_pred, scaler.inverse_transform(lst_output), label='Predicted Stock Price')\n",
    "\n",
    "# Add labels and title\n",
    "plt.xlabel('Days')\n",
    "plt.ylabel('Stock Price')\n",
    "plt.title('Historical vs Predicted Stock Price')\n",
    "plt.legend()  \n",
    "\n",
    "# Show the plot\n",
    "plt.grid(True)\n",
    "plt.show()"
   ]
  },
  {
   "cell_type": "code",
   "execution_count": 105,
   "id": "b85a86d7-da84-480f-a66e-49bde9e399b9",
   "metadata": {
    "execution": {
     "iopub.execute_input": "2024-08-15T13:15:39.064577Z",
     "iopub.status.busy": "2024-08-15T13:15:39.064577Z",
     "iopub.status.idle": "2024-08-15T13:15:39.557402Z",
     "shell.execute_reply": "2024-08-15T13:15:39.557402Z",
     "shell.execute_reply.started": "2024-08-15T13:15:39.064577Z"
    }
   },
   "outputs": [
    {
     "data": {
      "image/png": "[encoded data removed]",
      "text/plain": [
       "<Figure size 1200x600 with 1 Axes>"
      ]
     },
     "metadata": {},
     "output_type": "display_data"
    }
   ],
   "source": [
    "# Convert df1 to a list and extend it with lst_output\n",
    "df3 = df1.tolist()\n",
    "df3.extend(lst_output)\n",
    "\n",
    "# Inverse transform the combined list\n",
    "df3 = scaler.inverse_transform(np.array(df3))\n",
    "\n",
    "# Create an array for the x-axis based on the length of df3\n",
    "x_axis = np.arange(len(df3))\n",
    "\n",
    "# Plot the combined data\n",
    "plt.figure(figsize=(12, 6))\n",
    "plt.plot(x_axis, df3)\n",
    "\n",
    "# Add labels and title\n",
    "plt.xlabel('Days')\n",
    "plt.ylabel('Stock Price')\n",
    "plt.title('Historical and Predicted Stock Price')\n",
    "\n",
    "# Show the plot\n",
    "plt.grid(True)\n",
    "plt.show()"
   ]
  },
  {
   "cell_type": "code",
   "execution_count": null,
   "id": "978e27e6-d2d9-462f-a9ff-2e06eafa130f",
   "metadata": {},
   "outputs": [],
   "source": []
  }
 ],
 "metadata": {
  "kernelspec": {
   "display_name": "Python 3 (ipykernel)",
   "language": "python",
   "name": "python3"
  },
  "language_info": {
   "codemirror_mode": {
    "name": "ipython",
    "version": 3
   },
   "file_extension": ".py",
   "mimetype": "text/x-python",
   "name": "python",
   "nbconvert_exporter": "python",
   "pygments_lexer": "ipython3",
   "version": "3.12.3"
  }
 },
 "nbformat": 4,
 "nbformat_minor": 5
}
