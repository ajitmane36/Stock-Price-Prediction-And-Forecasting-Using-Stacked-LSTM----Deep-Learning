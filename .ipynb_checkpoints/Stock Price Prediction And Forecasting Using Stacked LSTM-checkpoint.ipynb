{
 "cells": [
  {
   "cell_type": "markdown",
   "id": "a92f79b1-d9da-4516-9a7b-92b3113972f8",
   "metadata": {},
   "source": [
    "# <u>Stock Price Prediction And Forecasting Using Stacked LSTM- Deep Learning</U>"
   ]
  },
  {
   "cell_type": "code",
   "execution_count": 2,
   "id": "776ad4d4-31d3-493e-90d6-ad2eaa6b719e",
   "metadata": {
    "execution": {
     "iopub.execute_input": "2024-08-15T09:17:00.798105Z",
     "iopub.status.busy": "2024-08-15T09:17:00.797105Z",
     "iopub.status.idle": "2024-08-15T09:17:08.568136Z",
     "shell.execute_reply": "2024-08-15T09:17:08.567622Z",
     "shell.execute_reply.started": "2024-08-15T09:17:00.798105Z"
    }
   },
   "outputs": [],
   "source": [
    "import numpy as np\n",
    "import pandas as pd\n",
    "import matplotlib.pyplot as plt  # Use 'plt' as the alias for matplotlib.pyplot\n",
    "%matplotlib inline\n",
    "import seaborn as sns\n",
    "\n",
    "from warnings import simplefilter  # Use 'simplefilter' for filtering warnings\n",
    "simplefilter('ignore')  # Correct function name to 'simplefilter'"
   ]
  },
  {
   "cell_type": "code",
   "execution_count": 3,
   "id": "4feb15b6-3f54-4d88-a96f-3b910d8a5c09",
   "metadata": {
    "execution": {
     "iopub.execute_input": "2024-08-15T09:17:08.588123Z",
     "iopub.status.busy": "2024-08-15T09:17:08.587124Z",
     "iopub.status.idle": "2024-08-15T09:17:09.762339Z",
     "shell.execute_reply": "2024-08-15T09:17:09.761345Z",
     "shell.execute_reply.started": "2024-08-15T09:17:08.588123Z"
    }
   },
   "outputs": [
    {
     "data": {
      "text/html": [
       "<div>\n",
       "<style scoped>\n",
       "    .dataframe tbody tr th:only-of-type {\n",
       "        vertical-align: middle;\n",
       "    }\n",
       "\n",
       "    .dataframe tbody tr th {\n",
       "        vertical-align: top;\n",
       "    }\n",
       "\n",
       "    .dataframe thead th {\n",
       "        text-align: right;\n",
       "    }\n",
       "</style>\n",
       "<table border=\"1\" class=\"dataframe\">\n",
       "  <thead>\n",
       "    <tr style=\"text-align: right;\">\n",
       "      <th></th>\n",
       "      <th>Unnamed: 0</th>\n",
       "      <th>symbol</th>\n",
       "      <th>date</th>\n",
       "      <th>close</th>\n",
       "      <th>high</th>\n",
       "      <th>low</th>\n",
       "      <th>open</th>\n",
       "      <th>volume</th>\n",
       "      <th>adjClose</th>\n",
       "      <th>adjHigh</th>\n",
       "      <th>adjLow</th>\n",
       "      <th>adjOpen</th>\n",
       "      <th>adjVolume</th>\n",
       "      <th>divCash</th>\n",
       "      <th>splitFactor</th>\n",
       "    </tr>\n",
       "  </thead>\n",
       "  <tbody>\n",
       "    <tr>\n",
       "      <th>0</th>\n",
       "      <td>0</td>\n",
       "      <td>AAPL</td>\n",
       "      <td>2015-05-27 00:00:00+00:00</td>\n",
       "      <td>132.045</td>\n",
       "      <td>132.260</td>\n",
       "      <td>130.05</td>\n",
       "      <td>130.34</td>\n",
       "      <td>45833246</td>\n",
       "      <td>121.682558</td>\n",
       "      <td>121.880685</td>\n",
       "      <td>119.844118</td>\n",
       "      <td>120.111360</td>\n",
       "      <td>45833246</td>\n",
       "      <td>0.0</td>\n",
       "      <td>1.0</td>\n",
       "    </tr>\n",
       "    <tr>\n",
       "      <th>1</th>\n",
       "      <td>1</td>\n",
       "      <td>AAPL</td>\n",
       "      <td>2015-05-28 00:00:00+00:00</td>\n",
       "      <td>131.780</td>\n",
       "      <td>131.950</td>\n",
       "      <td>131.10</td>\n",
       "      <td>131.86</td>\n",
       "      <td>30733309</td>\n",
       "      <td>121.438354</td>\n",
       "      <td>121.595013</td>\n",
       "      <td>120.811718</td>\n",
       "      <td>121.512076</td>\n",
       "      <td>30733309</td>\n",
       "      <td>0.0</td>\n",
       "      <td>1.0</td>\n",
       "    </tr>\n",
       "    <tr>\n",
       "      <th>2</th>\n",
       "      <td>2</td>\n",
       "      <td>AAPL</td>\n",
       "      <td>2015-05-29 00:00:00+00:00</td>\n",
       "      <td>130.280</td>\n",
       "      <td>131.450</td>\n",
       "      <td>129.90</td>\n",
       "      <td>131.23</td>\n",
       "      <td>50884452</td>\n",
       "      <td>120.056069</td>\n",
       "      <td>121.134251</td>\n",
       "      <td>119.705890</td>\n",
       "      <td>120.931516</td>\n",
       "      <td>50884452</td>\n",
       "      <td>0.0</td>\n",
       "      <td>1.0</td>\n",
       "    </tr>\n",
       "    <tr>\n",
       "      <th>3</th>\n",
       "      <td>3</td>\n",
       "      <td>AAPL</td>\n",
       "      <td>2015-06-01 00:00:00+00:00</td>\n",
       "      <td>130.535</td>\n",
       "      <td>131.390</td>\n",
       "      <td>130.05</td>\n",
       "      <td>131.20</td>\n",
       "      <td>32112797</td>\n",
       "      <td>120.291057</td>\n",
       "      <td>121.078960</td>\n",
       "      <td>119.844118</td>\n",
       "      <td>120.903870</td>\n",
       "      <td>32112797</td>\n",
       "      <td>0.0</td>\n",
       "      <td>1.0</td>\n",
       "    </tr>\n",
       "    <tr>\n",
       "      <th>4</th>\n",
       "      <td>4</td>\n",
       "      <td>AAPL</td>\n",
       "      <td>2015-06-02 00:00:00+00:00</td>\n",
       "      <td>129.960</td>\n",
       "      <td>130.655</td>\n",
       "      <td>129.32</td>\n",
       "      <td>129.86</td>\n",
       "      <td>33667627</td>\n",
       "      <td>119.761181</td>\n",
       "      <td>120.401640</td>\n",
       "      <td>119.171406</td>\n",
       "      <td>119.669029</td>\n",
       "      <td>33667627</td>\n",
       "      <td>0.0</td>\n",
       "      <td>1.0</td>\n",
       "    </tr>\n",
       "  </tbody>\n",
       "</table>\n",
       "</div>"
      ],
      "text/plain": [
       "   Unnamed: 0 symbol                       date    close     high     low  \\\n",
       "0           0   AAPL  2015-05-27 00:00:00+00:00  132.045  132.260  130.05   \n",
       "1           1   AAPL  2015-05-28 00:00:00+00:00  131.780  131.950  131.10   \n",
       "2           2   AAPL  2015-05-29 00:00:00+00:00  130.280  131.450  129.90   \n",
       "3           3   AAPL  2015-06-01 00:00:00+00:00  130.535  131.390  130.05   \n",
       "4           4   AAPL  2015-06-02 00:00:00+00:00  129.960  130.655  129.32   \n",
       "\n",
       "     open    volume    adjClose     adjHigh      adjLow     adjOpen  \\\n",
       "0  130.34  45833246  121.682558  121.880685  119.844118  120.111360   \n",
       "1  131.86  30733309  121.438354  121.595013  120.811718  121.512076   \n",
       "2  131.23  50884452  120.056069  121.134251  119.705890  120.931516   \n",
       "3  131.20  32112797  120.291057  121.078960  119.844118  120.903870   \n",
       "4  129.86  33667627  119.761181  120.401640  119.171406  119.669029   \n",
       "\n",
       "   adjVolume  divCash  splitFactor  \n",
       "0   45833246      0.0          1.0  \n",
       "1   30733309      0.0          1.0  \n",
       "2   50884452      0.0          1.0  \n",
       "3   32112797      0.0          1.0  \n",
       "4   33667627      0.0          1.0  "
      ]
     },
     "execution_count": 3,
     "metadata": {},
     "output_type": "execute_result"
    }
   ],
   "source": [
    "## Data Collection\n",
    "df=pd.read_csv(r\"C:\\Users\\ajitm\\Data Science Cources\\Deep Learning Projects\\Stock-Price-Prediction-And-Forecasting-Using-Stacked-LSTM--Deep-Learning\\AAPL.csv\")\n",
    "df.head()"
   ]
  },
  {
   "cell_type": "code",
   "execution_count": 4,
   "id": "6402262a-35ba-427f-a77e-323d3b296f0c",
   "metadata": {
    "execution": {
     "iopub.execute_input": "2024-08-15T09:17:09.772332Z",
     "iopub.status.busy": "2024-08-15T09:17:09.770334Z",
     "iopub.status.idle": "2024-08-15T09:17:09.814332Z",
     "shell.execute_reply": "2024-08-15T09:17:09.813342Z",
     "shell.execute_reply.started": "2024-08-15T09:17:09.772332Z"
    }
   },
   "outputs": [
    {
     "data": {
      "text/html": [
       "<div>\n",
       "<style scoped>\n",
       "    .dataframe tbody tr th:only-of-type {\n",
       "        vertical-align: middle;\n",
       "    }\n",
       "\n",
       "    .dataframe tbody tr th {\n",
       "        vertical-align: top;\n",
       "    }\n",
       "\n",
       "    .dataframe thead th {\n",
       "        text-align: right;\n",
       "    }\n",
       "</style>\n",
       "<table border=\"1\" class=\"dataframe\">\n",
       "  <thead>\n",
       "    <tr style=\"text-align: right;\">\n",
       "      <th></th>\n",
       "      <th>Unnamed: 0</th>\n",
       "      <th>symbol</th>\n",
       "      <th>date</th>\n",
       "      <th>close</th>\n",
       "      <th>high</th>\n",
       "      <th>low</th>\n",
       "      <th>open</th>\n",
       "      <th>volume</th>\n",
       "      <th>adjClose</th>\n",
       "      <th>adjHigh</th>\n",
       "      <th>adjLow</th>\n",
       "      <th>adjOpen</th>\n",
       "      <th>adjVolume</th>\n",
       "      <th>divCash</th>\n",
       "      <th>splitFactor</th>\n",
       "    </tr>\n",
       "  </thead>\n",
       "  <tbody>\n",
       "    <tr>\n",
       "      <th>1253</th>\n",
       "      <td>1253</td>\n",
       "      <td>AAPL</td>\n",
       "      <td>2020-05-18 00:00:00+00:00</td>\n",
       "      <td>314.96</td>\n",
       "      <td>316.50</td>\n",
       "      <td>310.3241</td>\n",
       "      <td>313.17</td>\n",
       "      <td>33843125</td>\n",
       "      <td>314.96</td>\n",
       "      <td>316.50</td>\n",
       "      <td>310.3241</td>\n",
       "      <td>313.17</td>\n",
       "      <td>33843125</td>\n",
       "      <td>0.0</td>\n",
       "      <td>1.0</td>\n",
       "    </tr>\n",
       "    <tr>\n",
       "      <th>1254</th>\n",
       "      <td>1254</td>\n",
       "      <td>AAPL</td>\n",
       "      <td>2020-05-19 00:00:00+00:00</td>\n",
       "      <td>313.14</td>\n",
       "      <td>318.52</td>\n",
       "      <td>313.0100</td>\n",
       "      <td>315.03</td>\n",
       "      <td>25432385</td>\n",
       "      <td>313.14</td>\n",
       "      <td>318.52</td>\n",
       "      <td>313.0100</td>\n",
       "      <td>315.03</td>\n",
       "      <td>25432385</td>\n",
       "      <td>0.0</td>\n",
       "      <td>1.0</td>\n",
       "    </tr>\n",
       "    <tr>\n",
       "      <th>1255</th>\n",
       "      <td>1255</td>\n",
       "      <td>AAPL</td>\n",
       "      <td>2020-05-20 00:00:00+00:00</td>\n",
       "      <td>319.23</td>\n",
       "      <td>319.52</td>\n",
       "      <td>316.2000</td>\n",
       "      <td>316.68</td>\n",
       "      <td>27876215</td>\n",
       "      <td>319.23</td>\n",
       "      <td>319.52</td>\n",
       "      <td>316.2000</td>\n",
       "      <td>316.68</td>\n",
       "      <td>27876215</td>\n",
       "      <td>0.0</td>\n",
       "      <td>1.0</td>\n",
       "    </tr>\n",
       "    <tr>\n",
       "      <th>1256</th>\n",
       "      <td>1256</td>\n",
       "      <td>AAPL</td>\n",
       "      <td>2020-05-21 00:00:00+00:00</td>\n",
       "      <td>316.85</td>\n",
       "      <td>320.89</td>\n",
       "      <td>315.8700</td>\n",
       "      <td>318.66</td>\n",
       "      <td>25672211</td>\n",
       "      <td>316.85</td>\n",
       "      <td>320.89</td>\n",
       "      <td>315.8700</td>\n",
       "      <td>318.66</td>\n",
       "      <td>25672211</td>\n",
       "      <td>0.0</td>\n",
       "      <td>1.0</td>\n",
       "    </tr>\n",
       "    <tr>\n",
       "      <th>1257</th>\n",
       "      <td>1257</td>\n",
       "      <td>AAPL</td>\n",
       "      <td>2020-05-22 00:00:00+00:00</td>\n",
       "      <td>318.89</td>\n",
       "      <td>319.23</td>\n",
       "      <td>315.3500</td>\n",
       "      <td>315.77</td>\n",
       "      <td>20450754</td>\n",
       "      <td>318.89</td>\n",
       "      <td>319.23</td>\n",
       "      <td>315.3500</td>\n",
       "      <td>315.77</td>\n",
       "      <td>20450754</td>\n",
       "      <td>0.0</td>\n",
       "      <td>1.0</td>\n",
       "    </tr>\n",
       "  </tbody>\n",
       "</table>\n",
       "</div>"
      ],
      "text/plain": [
       "      Unnamed: 0 symbol                       date   close    high       low  \\\n",
       "1253        1253   AAPL  2020-05-18 00:00:00+00:00  314.96  316.50  310.3241   \n",
       "1254        1254   AAPL  2020-05-19 00:00:00+00:00  313.14  318.52  313.0100   \n",
       "1255        1255   AAPL  2020-05-20 00:00:00+00:00  319.23  319.52  316.2000   \n",
       "1256        1256   AAPL  2020-05-21 00:00:00+00:00  316.85  320.89  315.8700   \n",
       "1257        1257   AAPL  2020-05-22 00:00:00+00:00  318.89  319.23  315.3500   \n",
       "\n",
       "        open    volume  adjClose  adjHigh    adjLow  adjOpen  adjVolume  \\\n",
       "1253  313.17  33843125    314.96   316.50  310.3241   313.17   33843125   \n",
       "1254  315.03  25432385    313.14   318.52  313.0100   315.03   25432385   \n",
       "1255  316.68  27876215    319.23   319.52  316.2000   316.68   27876215   \n",
       "1256  318.66  25672211    316.85   320.89  315.8700   318.66   25672211   \n",
       "1257  315.77  20450754    318.89   319.23  315.3500   315.77   20450754   \n",
       "\n",
       "      divCash  splitFactor  \n",
       "1253      0.0          1.0  \n",
       "1254      0.0          1.0  \n",
       "1255      0.0          1.0  \n",
       "1256      0.0          1.0  \n",
       "1257      0.0          1.0  "
      ]
     },
     "execution_count": 4,
     "metadata": {},
     "output_type": "execute_result"
    }
   ],
   "source": [
    "df.tail()"
   ]
  },
  {
   "cell_type": "code",
   "execution_count": 5,
   "id": "716b0d91-0645-4d88-afdb-b56d0857a1f3",
   "metadata": {
    "execution": {
     "iopub.execute_input": "2024-08-15T09:17:09.820330Z",
     "iopub.status.busy": "2024-08-15T09:17:09.817331Z",
     "iopub.status.idle": "2024-08-15T09:17:10.031514Z",
     "shell.execute_reply": "2024-08-15T09:17:10.030404Z",
     "shell.execute_reply.started": "2024-08-15T09:17:09.820330Z"
    }
   },
   "outputs": [],
   "source": [
    "## Using 'close' for forecasting stock price\n",
    "df1=df.reset_index()['close']"
   ]
  },
  {
   "cell_type": "code",
   "execution_count": 6,
   "id": "f48ea321-4b74-4f92-a175-6f41420b85bd",
   "metadata": {
    "execution": {
     "iopub.execute_input": "2024-08-15T09:17:10.038512Z",
     "iopub.status.busy": "2024-08-15T09:17:10.035513Z",
     "iopub.status.idle": "2024-08-15T09:17:10.157385Z",
     "shell.execute_reply": "2024-08-15T09:17:10.155387Z",
     "shell.execute_reply.started": "2024-08-15T09:17:10.038512Z"
    }
   },
   "outputs": [
    {
     "data": {
      "text/plain": [
       "0    132.045\n",
       "1    131.780\n",
       "2    130.280\n",
       "3    130.535\n",
       "4    129.960\n",
       "Name: close, dtype: float64"
      ]
     },
     "execution_count": 6,
     "metadata": {},
     "output_type": "execute_result"
    }
   ],
   "source": [
    "df1.head()"
   ]
  },
  {
   "cell_type": "code",
   "execution_count": 7,
   "id": "a46719cf-2049-4877-a5ff-e948e2477c25",
   "metadata": {
    "execution": {
     "iopub.execute_input": "2024-08-15T09:17:10.161380Z",
     "iopub.status.busy": "2024-08-15T09:17:10.159381Z",
     "iopub.status.idle": "2024-08-15T09:17:10.387670Z",
     "shell.execute_reply": "2024-08-15T09:17:10.386675Z",
     "shell.execute_reply.started": "2024-08-15T09:17:10.161380Z"
    }
   },
   "outputs": [
    {
     "data": {
      "text/plain": [
       "1000    190.08\n",
       "1001    189.00\n",
       "1002    183.09\n",
       "1003    186.60\n",
       "1004    182.78\n",
       "         ...  \n",
       "1253    314.96\n",
       "1254    313.14\n",
       "1255    319.23\n",
       "1256    316.85\n",
       "1257    318.89\n",
       "Name: close, Length: 258, dtype: float64"
      ]
     },
     "execution_count": 7,
     "metadata": {},
     "output_type": "execute_result"
    }
   ],
   "source": [
    "df1[1000:]"
   ]
  },
  {
   "cell_type": "code",
   "execution_count": 8,
   "id": "1bbb10e5-e184-4593-ba7f-0aea3881e3c6",
   "metadata": {
    "execution": {
     "iopub.execute_input": "2024-08-15T09:17:10.395665Z",
     "iopub.status.busy": "2024-08-15T09:17:10.390668Z",
     "iopub.status.idle": "2024-08-15T09:17:14.994232Z",
     "shell.execute_reply": "2024-08-15T09:17:14.992237Z",
     "shell.execute_reply.started": "2024-08-15T09:17:10.395665Z"
    }
   },
   "outputs": [
    {
     "data": {
      "text/plain": [
       "<Axes: ylabel='close'>"
      ]
     },
     "execution_count": 8,
     "metadata": {},
     "output_type": "execute_result"
    },
    {
     "data": {
      "image/png": "[encoded data removed]",
      "text/plain": [
       "<Figure size 1000x500 with 1 Axes>"
      ]
     },
     "metadata": {},
     "output_type": "display_data"
    }
   ],
   "source": [
    "# Plooting graph \n",
    "plt.figure(figsize=(10,5))\n",
    "sns.lineplot(df1)"
   ]
  },
  {
   "cell_type": "markdown",
   "id": "1119d1d9-d881-48d2-a07f-73f5da41b034",
   "metadata": {
    "execution": {
     "iopub.execute_input": "2024-08-14T15:27:26.212976Z",
     "iopub.status.busy": "2024-08-14T15:27:26.211976Z",
     "iopub.status.idle": "2024-08-14T15:27:26.943581Z",
     "shell.execute_reply": "2024-08-14T15:27:26.942577Z",
     "shell.execute_reply.started": "2024-08-14T15:27:26.212976Z"
    }
   },
   "source": [
    "- LSTM are sensitive to the scale of the data. so we apply MinMax scaler."
   ]
  },
  {
   "cell_type": "code",
   "execution_count": 10,
   "id": "bec0e43e-d4ef-451d-a277-6ddfc315ac85",
   "metadata": {
    "execution": {
     "iopub.execute_input": "2024-08-15T09:17:15.080284Z",
     "iopub.status.busy": "2024-08-15T09:17:15.078285Z",
     "iopub.status.idle": "2024-08-15T09:17:17.390583Z",
     "shell.execute_reply": "2024-08-15T09:17:17.389583Z",
     "shell.execute_reply.started": "2024-08-15T09:17:15.080284Z"
    }
   },
   "outputs": [],
   "source": [
    "from sklearn.preprocessing import MinMaxScaler\n",
    "scaler=MinMaxScaler(feature_range=(0,1))\n",
    "df1=scaler.fit_transform(np.array(df1).reshape(-1,1))"
   ]
  },
  {
   "cell_type": "code",
   "execution_count": 11,
   "id": "e0a046dd-4e02-4bb9-9f93-c8eb2e807a7e",
   "metadata": {
    "execution": {
     "iopub.execute_input": "2024-08-15T09:17:17.401576Z",
     "iopub.status.busy": "2024-08-15T09:17:17.393580Z",
     "iopub.status.idle": "2024-08-15T09:17:17.418765Z",
     "shell.execute_reply": "2024-08-15T09:17:17.415768Z",
     "shell.execute_reply.started": "2024-08-15T09:17:17.401576Z"
    }
   },
   "outputs": [
    {
     "data": {
      "text/plain": [
       "(1258, 1)"
      ]
     },
     "execution_count": 11,
     "metadata": {},
     "output_type": "execute_result"
    }
   ],
   "source": [
    "df1.shape"
   ]
  },
  {
   "cell_type": "code",
   "execution_count": 24,
   "id": "7e4cfe0e-a3e9-442d-ace8-696f748e2bea",
   "metadata": {
    "execution": {
     "iopub.execute_input": "2024-08-15T10:28:46.014711Z",
     "iopub.status.busy": "2024-08-15T10:28:46.013714Z",
     "iopub.status.idle": "2024-08-15T10:28:46.028169Z",
     "shell.execute_reply": "2024-08-15T10:28:46.027163Z",
     "shell.execute_reply.started": "2024-08-15T10:28:46.014711Z"
    }
   },
   "outputs": [
    {
     "data": {
      "text/plain": [
       "array([[0.17607447],\n",
       "       [0.17495567],\n",
       "       [0.16862282],\n",
       "       ...,\n",
       "       [0.96635143],\n",
       "       [0.9563033 ],\n",
       "       [0.96491598]])"
      ]
     },
     "execution_count": 24,
     "metadata": {},
     "output_type": "execute_result"
    }
   ],
   "source": [
    "df1"
   ]
  },
  {
   "cell_type": "code",
   "execution_count": 26,
   "id": "9d0b3c2c-b76c-4c6e-a204-04f4642ccb7d",
   "metadata": {
    "execution": {
     "iopub.execute_input": "2024-08-15T10:33:17.486984Z",
     "iopub.status.busy": "2024-08-15T10:33:17.485983Z",
     "iopub.status.idle": "2024-08-15T10:33:17.494271Z",
     "shell.execute_reply": "2024-08-15T10:33:17.493273Z",
     "shell.execute_reply.started": "2024-08-15T10:33:17.486984Z"
    }
   },
   "outputs": [],
   "source": [
    "## Splitting dataset into traning and test \n",
    "training_size=int(len(df)*0.65)\n",
    "test_size=len(df1)-training_size\n",
    "train_data, test_data=df1[0:training_size,:], df1[training_size:,:]"
   ]
  },
  {
   "cell_type": "code",
   "execution_count": 28,
   "id": "20b887da-a0da-4ccb-97da-c216f7a34114",
   "metadata": {
    "execution": {
     "iopub.execute_input": "2024-08-15T10:33:39.023522Z",
     "iopub.status.busy": "2024-08-15T10:33:39.022522Z",
     "iopub.status.idle": "2024-08-15T10:33:39.033692Z",
     "shell.execute_reply": "2024-08-15T10:33:39.032684Z",
     "shell.execute_reply.started": "2024-08-15T10:33:39.023522Z"
    }
   },
   "outputs": [
    {
     "data": {
      "text/plain": [
       "(817, 441)"
      ]
     },
     "execution_count": 28,
     "metadata": {},
     "output_type": "execute_result"
    }
   ],
   "source": [
    "training_size, test_size"
   ]
  },
  {
   "cell_type": "code",
   "execution_count": 36,
   "id": "a6fa3bd8-0368-4697-be1c-07d71e780009",
   "metadata": {
    "execution": {
     "iopub.execute_input": "2024-08-15T10:34:30.244069Z",
     "iopub.status.busy": "2024-08-15T10:34:30.243071Z",
     "iopub.status.idle": "2024-08-15T10:34:30.258682Z",
     "shell.execute_reply": "2024-08-15T10:34:30.256676Z",
     "shell.execute_reply.started": "2024-08-15T10:34:30.244069Z"
    }
   },
   "outputs": [
    {
     "data": {
      "text/plain": [
       "array([[0.17607447],\n",
       "       [0.17495567],\n",
       "       [0.16862282],\n",
       "       [0.1696994 ],\n",
       "       [0.16727181],\n",
       "       [0.16794731],\n",
       "       [0.16473866],\n",
       "       [0.16174111],\n",
       "       [0.1581525 ],\n",
       "       [0.15654817]])"
      ]
     },
     "execution_count": 36,
     "metadata": {},
     "output_type": "execute_result"
    }
   ],
   "source": [
    "train_data[:10]"
   ]
  },
  {
   "cell_type": "code",
   "execution_count": 38,
   "id": "4acbe077-84f2-4966-94a1-438ec9d6b2e0",
   "metadata": {
    "execution": {
     "iopub.execute_input": "2024-08-15T10:34:38.328605Z",
     "iopub.status.busy": "2024-08-15T10:34:38.327605Z",
     "iopub.status.idle": "2024-08-15T10:34:38.341989Z",
     "shell.execute_reply": "2024-08-15T10:34:38.339984Z",
     "shell.execute_reply.started": "2024-08-15T10:34:38.328605Z"
    }
   },
   "outputs": [
    {
     "data": {
      "text/plain": [
       "array([[0.52651355],\n",
       "       [0.52837119],\n",
       "       [0.53119986],\n",
       "       [0.53871485],\n",
       "       [0.5461454 ],\n",
       "       [0.55999324],\n",
       "       [0.56864815],\n",
       "       [0.57962509],\n",
       "       [0.58270708],\n",
       "       [0.57641645]])"
      ]
     },
     "execution_count": 38,
     "metadata": {},
     "output_type": "execute_result"
    }
   ],
   "source": [
    "test_data[:10]"
   ]
  },
  {
   "cell_type": "code",
   "execution_count": 40,
   "id": "2b2aee20-a442-4f48-8308-b3d9d7636fa9",
   "metadata": {
    "execution": {
     "iopub.execute_input": "2024-08-15T10:34:50.222042Z",
     "iopub.status.busy": "2024-08-15T10:34:50.222042Z",
     "iopub.status.idle": "2024-08-15T10:34:50.234342Z",
     "shell.execute_reply": "2024-08-15T10:34:50.233335Z",
     "shell.execute_reply.started": "2024-08-15T10:34:50.222042Z"
    }
   },
   "outputs": [
    {
     "data": {
      "text/plain": [
       "441"
      ]
     },
     "execution_count": 40,
     "metadata": {},
     "output_type": "execute_result"
    }
   ],
   "source": [
    "len(test_data)"
   ]
  },
  {
   "cell_type": "code",
   "execution_count": 44,
   "id": "24ca3a49-50eb-417d-b8b1-03a64780362a",
   "metadata": {
    "execution": {
     "iopub.execute_input": "2024-08-15T10:35:13.974691Z",
     "iopub.status.busy": "2024-08-15T10:35:13.973710Z",
     "iopub.status.idle": "2024-08-15T10:35:13.984859Z",
     "shell.execute_reply": "2024-08-15T10:35:13.983852Z",
     "shell.execute_reply.started": "2024-08-15T10:35:13.974691Z"
    }
   },
   "outputs": [
    {
     "data": {
      "text/plain": [
       "817"
      ]
     },
     "execution_count": 44,
     "metadata": {},
     "output_type": "execute_result"
    }
   ],
   "source": [
    "len(train_data)"
   ]
  },
  {
   "cell_type": "code",
   "execution_count": 46,
   "id": "079cef68-b748-47b6-b5e9-432fa6aee144",
   "metadata": {
    "execution": {
     "iopub.execute_input": "2024-08-15T10:54:08.004047Z",
     "iopub.status.busy": "2024-08-15T10:54:08.004047Z",
     "iopub.status.idle": "2024-08-15T10:54:08.015555Z",
     "shell.execute_reply": "2024-08-15T10:54:08.014549Z",
     "shell.execute_reply.started": "2024-08-15T10:54:08.004047Z"
    }
   },
   "outputs": [],
   "source": [
    "## Converting an array of values into a datasetabs\n",
    "def create_dataset(dataset, time_step=1):\n",
    "    '''Function will convert timeseries into input and output'''\n",
    "    dataX, dataY = [], []\n",
    "    for i in range(len(dataset)-time_step-1):\n",
    "        a=dataset[i:(i+time_step),0]\n",
    "        dataX.append(a)\n",
    "        dataY.append(dataset[i+time_step,0])\n",
    "    return np.array(dataX), np.array(dataY)"
   ]
  },
  {
   "cell_type": "code",
   "execution_count": 48,
   "id": "5aaf3d2e-fa18-4e29-a946-2002dd55fd1d",
   "metadata": {
    "execution": {
     "iopub.execute_input": "2024-08-15T10:56:36.984481Z",
     "iopub.status.busy": "2024-08-15T10:56:36.983499Z",
     "iopub.status.idle": "2024-08-15T10:56:36.995145Z",
     "shell.execute_reply": "2024-08-15T10:56:36.994135Z",
     "shell.execute_reply.started": "2024-08-15T10:56:36.983499Z"
    }
   },
   "outputs": [],
   "source": [
    "# Reshaping dataset into X= t, t+1, t+2, t+3 and Y= t+4\n",
    "time_step=100\n",
    "X_train, y_train=create_dataset(train_data, time_step)\n",
    "X_test, y_test=create_dataset(test_data,  time_step)"
   ]
  },
  {
   "cell_type": "code",
   "execution_count": 52,
   "id": "eb9a4dec-044d-4078-abb5-238e4aae4db2",
   "metadata": {
    "execution": {
     "iopub.execute_input": "2024-08-15T10:58:45.427877Z",
     "iopub.status.busy": "2024-08-15T10:58:45.426897Z",
     "iopub.status.idle": "2024-08-15T10:58:45.439981Z",
     "shell.execute_reply": "2024-08-15T10:58:45.438987Z",
     "shell.execute_reply.started": "2024-08-15T10:58:45.427877Z"
    }
   },
   "outputs": [
    {
     "name": "stdout",
     "output_type": "stream",
     "text": [
      "(716, 100)\n",
      "(340, 100)\n"
     ]
    },
    {
     "data": {
      "text/plain": [
       "(None, None)"
      ]
     },
     "execution_count": 52,
     "metadata": {},
     "output_type": "execute_result"
    }
   ],
   "source": [
    "print(X_train.shape), print(X_test.shape)"
   ]
  },
  {
   "cell_type": "code",
   "execution_count": 56,
   "id": "362e1668-4d91-477e-a154-d773936936c1",
   "metadata": {
    "execution": {
     "iopub.execute_input": "2024-08-15T10:59:11.877347Z",
     "iopub.status.busy": "2024-08-15T10:59:11.876367Z",
     "iopub.status.idle": "2024-08-15T10:59:11.889288Z",
     "shell.execute_reply": "2024-08-15T10:59:11.887282Z",
     "shell.execute_reply.started": "2024-08-15T10:59:11.877347Z"
    }
   },
   "outputs": [
    {
     "name": "stdout",
     "output_type": "stream",
     "text": [
      "(716,)\n",
      "(340,)\n"
     ]
    },
    {
     "data": {
      "text/plain": [
       "(None, None)"
      ]
     },
     "execution_count": 56,
     "metadata": {},
     "output_type": "execute_result"
    }
   ],
   "source": [
    "print(y_train.shape), print(y_test.shape)"
   ]
  },
  {
   "cell_type": "code",
   "execution_count": null,
   "id": "2141ba06-24b2-40e0-a8f7-38750d00950a",
   "metadata": {},
   "outputs": [],
   "source": [
    "## Reshape input in 3 dimension for LSTM\n",
    "X_train=X_train.reshape(X_train.shape[0], X_train.shape[1], 1)\n",
    "X_test=X_test.reshape(X_test.shape[0], X_test.shape[1], 1)"
   ]
  },
  {
   "cell_type": "code",
   "execution_count": 68,
   "id": "a0df8c3a-b111-4e5c-a98c-d41b497f6179",
   "metadata": {
    "execution": {
     "iopub.execute_input": "2024-08-15T11:10:13.754694Z",
     "iopub.status.busy": "2024-08-15T11:10:13.753695Z",
     "iopub.status.idle": "2024-08-15T11:10:13.763752Z",
     "shell.execute_reply": "2024-08-15T11:10:13.761746Z",
     "shell.execute_reply.started": "2024-08-15T11:10:13.754694Z"
    }
   },
   "outputs": [],
   "source": [
    "## Create stacked LSTM Model\n",
    "from tensorflow.keras.models import Sequential\n",
    "from tensorflow.keras.layers import LSTM\n",
    "from tensorflow.keras.layers import Dense"
   ]
  },
  {
   "cell_type": "code",
   "execution_count": 74,
   "id": "83c52a67-a9c0-44a2-8349-f63ce9180f33",
   "metadata": {
    "execution": {
     "iopub.execute_input": "2024-08-15T11:12:36.363844Z",
     "iopub.status.busy": "2024-08-15T11:12:36.362850Z",
     "iopub.status.idle": "2024-08-15T11:12:36.725928Z",
     "shell.execute_reply": "2024-08-15T11:12:36.723293Z",
     "shell.execute_reply.started": "2024-08-15T11:12:36.363844Z"
    }
   },
   "outputs": [],
   "source": [
    "model = Sequential()\n",
    "model.add(LSTM(50, return_sequences=True, input_shape=(100, 1)))  # Corrected spelling here\n",
    "model.add(LSTM(50, return_sequences=True))\n",
    "model.add(LSTM(50))\n",
    "model.add(Dense(1))\n",
    "model.compile(loss='mean_squared_error', optimizer='adam')"
   ]
  },
  {
   "cell_type": "code",
   "execution_count": 76,
   "id": "07e182af-7747-46c9-898f-014a282999a1",
   "metadata": {
    "execution": {
     "iopub.execute_input": "2024-08-15T11:13:18.941990Z",
     "iopub.status.busy": "2024-08-15T11:13:18.939991Z",
     "iopub.status.idle": "2024-08-15T11:13:19.068414Z",
     "shell.execute_reply": "2024-08-15T11:13:19.067409Z",
     "shell.execute_reply.started": "2024-08-15T11:13:18.940990Z"
    }
   },
   "outputs": [
    {
     "data": {
      "text/html": [
       "<pre style=\"white-space:pre;overflow-x:auto;line-height:normal;font-family:Menlo,'DejaVu Sans Mono',consolas,'Courier New',monospace\"><span style=\"font-weight: bold\">Model: \"sequential_2\"</span>\n",
       "</pre>\n"
      ],
      "text/plain": [
       "\u001b[1mModel: \"sequential_2\"\u001b[0m\n"
      ]
     },
     "metadata": {},
     "output_type": "display_data"
    },
    {
     "data": {
      "text/html": [
       "<pre style=\"white-space:pre;overflow-x:auto;line-height:normal;font-family:Menlo,'DejaVu Sans Mono',consolas,'Courier New',monospace\">┏━━━━━━━━━━━━━━━━━━━━━━━━━━━━━━━━━┳━━━━━━━━━━━━━━━━━━━━━━━━┳━━━━━━━━━━━━━━━┓\n",
       "┃<span style=\"font-weight: bold\"> Layer (type)                    </span>┃<span style=\"font-weight: bold\"> Output Shape           </span>┃<span style=\"font-weight: bold\">       Param # </span>┃\n",
       "┡━━━━━━━━━━━━━━━━━━━━━━━━━━━━━━━━━╇━━━━━━━━━━━━━━━━━━━━━━━━╇━━━━━━━━━━━━━━━┩\n",
       "│ lstm_2 (<span style=\"color: #0087ff; text-decoration-color: #0087ff\">LSTM</span>)                   │ (<span style=\"color: #00d7ff; text-decoration-color: #00d7ff\">None</span>, <span style=\"color: #00af00; text-decoration-color: #00af00\">100</span>, <span style=\"color: #00af00; text-decoration-color: #00af00\">50</span>)        │        <span style=\"color: #00af00; text-decoration-color: #00af00\">10,400</span> │\n",
       "├─────────────────────────────────┼────────────────────────┼───────────────┤\n",
       "│ lstm_3 (<span style=\"color: #0087ff; text-decoration-color: #0087ff\">LSTM</span>)                   │ (<span style=\"color: #00d7ff; text-decoration-color: #00d7ff\">None</span>, <span style=\"color: #00af00; text-decoration-color: #00af00\">100</span>, <span style=\"color: #00af00; text-decoration-color: #00af00\">50</span>)        │        <span style=\"color: #00af00; text-decoration-color: #00af00\">20,200</span> │\n",
       "├─────────────────────────────────┼────────────────────────┼───────────────┤\n",
       "│ lstm_4 (<span style=\"color: #0087ff; text-decoration-color: #0087ff\">LSTM</span>)                   │ (<span style=\"color: #00d7ff; text-decoration-color: #00d7ff\">None</span>, <span style=\"color: #00af00; text-decoration-color: #00af00\">50</span>)             │        <span style=\"color: #00af00; text-decoration-color: #00af00\">20,200</span> │\n",
       "├─────────────────────────────────┼────────────────────────┼───────────────┤\n",
       "│ dense (<span style=\"color: #0087ff; text-decoration-color: #0087ff\">Dense</span>)                   │ (<span style=\"color: #00d7ff; text-decoration-color: #00d7ff\">None</span>, <span style=\"color: #00af00; text-decoration-color: #00af00\">1</span>)              │            <span style=\"color: #00af00; text-decoration-color: #00af00\">51</span> │\n",
       "└─────────────────────────────────┴────────────────────────┴───────────────┘\n",
       "</pre>\n"
      ],
      "text/plain": [
       "┏━━━━━━━━━━━━━━━━━━━━━━━━━━━━━━━━━┳━━━━━━━━━━━━━━━━━━━━━━━━┳━━━━━━━━━━━━━━━┓\n",
       "┃\u001b[1m \u001b[0m\u001b[1mLayer (type)                   \u001b[0m\u001b[1m \u001b[0m┃\u001b[1m \u001b[0m\u001b[1mOutput Shape          \u001b[0m\u001b[1m \u001b[0m┃\u001b[1m \u001b[0m\u001b[1m      Param #\u001b[0m\u001b[1m \u001b[0m┃\n",
       "┡━━━━━━━━━━━━━━━━━━━━━━━━━━━━━━━━━╇━━━━━━━━━━━━━━━━━━━━━━━━╇━━━━━━━━━━━━━━━┩\n",
       "│ lstm_2 (\u001b[38;5;33mLSTM\u001b[0m)                   │ (\u001b[38;5;45mNone\u001b[0m, \u001b[38;5;34m100\u001b[0m, \u001b[38;5;34m50\u001b[0m)        │        \u001b[38;5;34m10,400\u001b[0m │\n",
       "├─────────────────────────────────┼────────────────────────┼───────────────┤\n",
       "│ lstm_3 (\u001b[38;5;33mLSTM\u001b[0m)                   │ (\u001b[38;5;45mNone\u001b[0m, \u001b[38;5;34m100\u001b[0m, \u001b[38;5;34m50\u001b[0m)        │        \u001b[38;5;34m20,200\u001b[0m │\n",
       "├─────────────────────────────────┼────────────────────────┼───────────────┤\n",
       "│ lstm_4 (\u001b[38;5;33mLSTM\u001b[0m)                   │ (\u001b[38;5;45mNone\u001b[0m, \u001b[38;5;34m50\u001b[0m)             │        \u001b[38;5;34m20,200\u001b[0m │\n",
       "├─────────────────────────────────┼────────────────────────┼───────────────┤\n",
       "│ dense (\u001b[38;5;33mDense\u001b[0m)                   │ (\u001b[38;5;45mNone\u001b[0m, \u001b[38;5;34m1\u001b[0m)              │            \u001b[38;5;34m51\u001b[0m │\n",
       "└─────────────────────────────────┴────────────────────────┴───────────────┘\n"
      ]
     },
     "metadata": {},
     "output_type": "display_data"
    },
    {
     "data": {
      "text/html": [
       "<pre style=\"white-space:pre;overflow-x:auto;line-height:normal;font-family:Menlo,'DejaVu Sans Mono',consolas,'Courier New',monospace\"><span style=\"font-weight: bold\"> Total params: </span><span style=\"color: #00af00; text-decoration-color: #00af00\">50,851</span> (198.64 KB)\n",
       "</pre>\n"
      ],
      "text/plain": [
       "\u001b[1m Total params: \u001b[0m\u001b[38;5;34m50,851\u001b[0m (198.64 KB)\n"
      ]
     },
     "metadata": {},
     "output_type": "display_data"
    },
    {
     "data": {
      "text/html": [
       "<pre style=\"white-space:pre;overflow-x:auto;line-height:normal;font-family:Menlo,'DejaVu Sans Mono',consolas,'Courier New',monospace\"><span style=\"font-weight: bold\"> Trainable params: </span><span style=\"color: #00af00; text-decoration-color: #00af00\">50,851</span> (198.64 KB)\n",
       "</pre>\n"
      ],
      "text/plain": [
       "\u001b[1m Trainable params: \u001b[0m\u001b[38;5;34m50,851\u001b[0m (198.64 KB)\n"
      ]
     },
     "metadata": {},
     "output_type": "display_data"
    },
    {
     "data": {
      "text/html": [
       "<pre style=\"white-space:pre;overflow-x:auto;line-height:normal;font-family:Menlo,'DejaVu Sans Mono',consolas,'Courier New',monospace\"><span style=\"font-weight: bold\"> Non-trainable params: </span><span style=\"color: #00af00; text-decoration-color: #00af00\">0</span> (0.00 B)\n",
       "</pre>\n"
      ],
      "text/plain": [
       "\u001b[1m Non-trainable params: \u001b[0m\u001b[38;5;34m0\u001b[0m (0.00 B)\n"
      ]
     },
     "metadata": {},
     "output_type": "display_data"
    }
   ],
   "source": [
    "model.summary()"
   ]
  },
  {
   "cell_type": "code",
   "execution_count": 78,
   "id": "58ed99d7-4fe8-46b5-9fbb-6052bf37ec85",
   "metadata": {
    "execution": {
     "iopub.execute_input": "2024-08-15T11:15:05.175197Z",
     "iopub.status.busy": "2024-08-15T11:15:05.174197Z",
     "iopub.status.idle": "2024-08-15T11:21:26.341934Z",
     "shell.execute_reply": "2024-08-15T11:21:26.340929Z",
     "shell.execute_reply.started": "2024-08-15T11:15:05.175197Z"
    }
   },
   "outputs": [
    {
     "name": "stdout",
     "output_type": "stream",
     "text": [
      "Epoch 1/100\n",
      "\u001b[1m12/12\u001b[0m \u001b[32m━━━━━━━━━━━━━━━━━━━━\u001b[0m\u001b[37m\u001b[0m \u001b[1m17s\u001b[0m 347ms/step - loss: 0.0336 - val_loss: 0.0502\n",
      "Epoch 2/100\n",
      "\u001b[1m12/12\u001b[0m \u001b[32m━━━━━━━━━━━━━━━━━━━━\u001b[0m\u001b[37m\u001b[0m \u001b[1m3s\u001b[0m 229ms/step - loss: 0.0057 - val_loss: 0.0055\n",
      "Epoch 3/100\n",
      "\u001b[1m12/12\u001b[0m \u001b[32m━━━━━━━━━━━━━━━━━━━━\u001b[0m\u001b[37m\u001b[0m \u001b[1m2s\u001b[0m 197ms/step - loss: 0.0023 - val_loss: 0.0039\n",
      "Epoch 4/100\n",
      "\u001b[1m12/12\u001b[0m \u001b[32m━━━━━━━━━━━━━━━━━━━━\u001b[0m\u001b[37m\u001b[0m \u001b[1m2s\u001b[0m 198ms/step - loss: 8.4122e-04 - val_loss: 0.0051\n",
      "Epoch 5/100\n",
      "\u001b[1m12/12\u001b[0m \u001b[32m━━━━━━━━━━━━━━━━━━━━\u001b[0m\u001b[37m\u001b[0m \u001b[1m3s\u001b[0m 220ms/step - loss: 7.4528e-04 - val_loss: 0.0047\n",
      "Epoch 6/100\n",
      "\u001b[1m12/12\u001b[0m \u001b[32m━━━━━━━━━━━━━━━━━━━━\u001b[0m\u001b[37m\u001b[0m \u001b[1m3s\u001b[0m 292ms/step - loss: 7.3754e-04 - val_loss: 0.0036\n",
      "Epoch 7/100\n",
      "\u001b[1m12/12\u001b[0m \u001b[32m━━━━━━━━━━━━━━━━━━━━\u001b[0m\u001b[37m\u001b[0m \u001b[1m4s\u001b[0m 309ms/step - loss: 6.4849e-04 - val_loss: 0.0035\n",
      "Epoch 8/100\n",
      "\u001b[1m12/12\u001b[0m \u001b[32m━━━━━━━━━━━━━━━━━━━━\u001b[0m\u001b[37m\u001b[0m \u001b[1m3s\u001b[0m 231ms/step - loss: 5.6315e-04 - val_loss: 0.0038\n",
      "Epoch 9/100\n",
      "\u001b[1m12/12\u001b[0m \u001b[32m━━━━━━━━━━━━━━━━━━━━\u001b[0m\u001b[37m\u001b[0m \u001b[1m3s\u001b[0m 258ms/step - loss: 5.9698e-04 - val_loss: 0.0034\n",
      "Epoch 10/100\n",
      "\u001b[1m12/12\u001b[0m \u001b[32m━━━━━━━━━━━━━━━━━━━━\u001b[0m\u001b[37m\u001b[0m \u001b[1m5s\u001b[0m 228ms/step - loss: 6.3049e-04 - val_loss: 0.0034\n",
      "Epoch 11/100\n",
      "\u001b[1m12/12\u001b[0m \u001b[32m━━━━━━━━━━━━━━━━━━━━\u001b[0m\u001b[37m\u001b[0m \u001b[1m4s\u001b[0m 305ms/step - loss: 5.6565e-04 - val_loss: 0.0034\n",
      "Epoch 12/100\n",
      "\u001b[1m12/12\u001b[0m \u001b[32m━━━━━━━━━━━━━━━━━━━━\u001b[0m\u001b[37m\u001b[0m \u001b[1m5s\u001b[0m 269ms/step - loss: 6.4397e-04 - val_loss: 0.0034\n",
      "Epoch 13/100\n",
      "\u001b[1m12/12\u001b[0m \u001b[32m━━━━━━━━━━━━━━━━━━━━\u001b[0m\u001b[37m\u001b[0m \u001b[1m5s\u001b[0m 290ms/step - loss: 6.0256e-04 - val_loss: 0.0038\n",
      "Epoch 14/100\n",
      "\u001b[1m12/12\u001b[0m \u001b[32m━━━━━━━━━━━━━━━━━━━━\u001b[0m\u001b[37m\u001b[0m \u001b[1m5s\u001b[0m 284ms/step - loss: 6.0318e-04 - val_loss: 0.0035\n",
      "Epoch 15/100\n",
      "\u001b[1m12/12\u001b[0m \u001b[32m━━━━━━━━━━━━━━━━━━━━\u001b[0m\u001b[37m\u001b[0m \u001b[1m5s\u001b[0m 294ms/step - loss: 5.7980e-04 - val_loss: 0.0034\n",
      "Epoch 16/100\n",
      "\u001b[1m12/12\u001b[0m \u001b[32m━━━━━━━━━━━━━━━━━━━━\u001b[0m\u001b[37m\u001b[0m \u001b[1m3s\u001b[0m 239ms/step - loss: 5.7010e-04 - val_loss: 0.0030\n",
      "Epoch 17/100\n",
      "\u001b[1m12/12\u001b[0m \u001b[32m━━━━━━━━━━━━━━━━━━━━\u001b[0m\u001b[37m\u001b[0m \u001b[1m3s\u001b[0m 250ms/step - loss: 5.1489e-04 - val_loss: 0.0030\n",
      "Epoch 18/100\n",
      "\u001b[1m12/12\u001b[0m \u001b[32m━━━━━━━━━━━━━━━━━━━━\u001b[0m\u001b[37m\u001b[0m \u001b[1m5s\u001b[0m 239ms/step - loss: 5.4633e-04 - val_loss: 0.0029\n",
      "Epoch 19/100\n",
      "\u001b[1m12/12\u001b[0m \u001b[32m━━━━━━━━━━━━━━━━━━━━\u001b[0m\u001b[37m\u001b[0m \u001b[1m3s\u001b[0m 241ms/step - loss: 4.9254e-04 - val_loss: 0.0029\n",
      "Epoch 20/100\n",
      "\u001b[1m12/12\u001b[0m \u001b[32m━━━━━━━━━━━━━━━━━━━━\u001b[0m\u001b[37m\u001b[0m \u001b[1m3s\u001b[0m 242ms/step - loss: 5.1099e-04 - val_loss: 0.0032\n",
      "Epoch 21/100\n",
      "\u001b[1m12/12\u001b[0m \u001b[32m━━━━━━━━━━━━━━━━━━━━\u001b[0m\u001b[37m\u001b[0m \u001b[1m5s\u001b[0m 257ms/step - loss: 4.8489e-04 - val_loss: 0.0027\n",
      "Epoch 22/100\n",
      "\u001b[1m12/12\u001b[0m \u001b[32m━━━━━━━━━━━━━━━━━━━━\u001b[0m\u001b[37m\u001b[0m \u001b[1m3s\u001b[0m 252ms/step - loss: 5.1498e-04 - val_loss: 0.0026\n",
      "Epoch 23/100\n",
      "\u001b[1m12/12\u001b[0m \u001b[32m━━━━━━━━━━━━━━━━━━━━\u001b[0m\u001b[37m\u001b[0m \u001b[1m4s\u001b[0m 382ms/step - loss: 4.6724e-04 - val_loss: 0.0027\n",
      "Epoch 24/100\n",
      "\u001b[1m12/12\u001b[0m \u001b[32m━━━━━━━━━━━━━━━━━━━━\u001b[0m\u001b[37m\u001b[0m \u001b[1m6s\u001b[0m 419ms/step - loss: 5.4757e-04 - val_loss: 0.0025\n",
      "Epoch 25/100\n",
      "\u001b[1m12/12\u001b[0m \u001b[32m━━━━━━━━━━━━━━━━━━━━\u001b[0m\u001b[37m\u001b[0m \u001b[1m4s\u001b[0m 300ms/step - loss: 5.1896e-04 - val_loss: 0.0025\n",
      "Epoch 26/100\n",
      "\u001b[1m12/12\u001b[0m \u001b[32m━━━━━━━━━━━━━━━━━━━━\u001b[0m\u001b[37m\u001b[0m \u001b[1m5s\u001b[0m 291ms/step - loss: 4.3389e-04 - val_loss: 0.0024\n",
      "Epoch 27/100\n",
      "\u001b[1m12/12\u001b[0m \u001b[32m━━━━━━━━━━━━━━━━━━━━\u001b[0m\u001b[37m\u001b[0m \u001b[1m5s\u001b[0m 288ms/step - loss: 4.7687e-04 - val_loss: 0.0024\n",
      "Epoch 28/100\n",
      "\u001b[1m12/12\u001b[0m \u001b[32m━━━━━━━━━━━━━━━━━━━━\u001b[0m\u001b[37m\u001b[0m \u001b[1m3s\u001b[0m 237ms/step - loss: 4.7224e-04 - val_loss: 0.0023\n",
      "Epoch 29/100\n",
      "\u001b[1m12/12\u001b[0m \u001b[32m━━━━━━━━━━━━━━━━━━━━\u001b[0m\u001b[37m\u001b[0m \u001b[1m5s\u001b[0m 209ms/step - loss: 4.3263e-04 - val_loss: 0.0022\n",
      "Epoch 30/100\n",
      "\u001b[1m12/12\u001b[0m \u001b[32m━━━━━━━━━━━━━━━━━━━━\u001b[0m\u001b[37m\u001b[0m \u001b[1m4s\u001b[0m 303ms/step - loss: 4.6459e-04 - val_loss: 0.0022\n",
      "Epoch 31/100\n",
      "\u001b[1m12/12\u001b[0m \u001b[32m━━━━━━━━━━━━━━━━━━━━\u001b[0m\u001b[37m\u001b[0m \u001b[1m4s\u001b[0m 227ms/step - loss: 4.6529e-04 - val_loss: 0.0023\n",
      "Epoch 32/100\n",
      "\u001b[1m12/12\u001b[0m \u001b[32m━━━━━━━━━━━━━━━━━━━━\u001b[0m\u001b[37m\u001b[0m \u001b[1m2s\u001b[0m 204ms/step - loss: 4.2171e-04 - val_loss: 0.0022\n",
      "Epoch 33/100\n",
      "\u001b[1m12/12\u001b[0m \u001b[32m━━━━━━━━━━━━━━━━━━━━\u001b[0m\u001b[37m\u001b[0m \u001b[1m3s\u001b[0m 231ms/step - loss: 4.6998e-04 - val_loss: 0.0022\n",
      "Epoch 34/100\n",
      "\u001b[1m12/12\u001b[0m \u001b[32m━━━━━━━━━━━━━━━━━━━━\u001b[0m\u001b[37m\u001b[0m \u001b[1m6s\u001b[0m 258ms/step - loss: 4.0110e-04 - val_loss: 0.0020\n",
      "Epoch 35/100\n",
      "\u001b[1m12/12\u001b[0m \u001b[32m━━━━━━━━━━━━━━━━━━━━\u001b[0m\u001b[37m\u001b[0m \u001b[1m5s\u001b[0m 205ms/step - loss: 4.3634e-04 - val_loss: 0.0023\n",
      "Epoch 36/100\n",
      "\u001b[1m12/12\u001b[0m \u001b[32m━━━━━━━━━━━━━━━━━━━━\u001b[0m\u001b[37m\u001b[0m \u001b[1m3s\u001b[0m 235ms/step - loss: 4.0908e-04 - val_loss: 0.0019\n",
      "Epoch 37/100\n",
      "\u001b[1m12/12\u001b[0m \u001b[32m━━━━━━━━━━━━━━━━━━━━\u001b[0m\u001b[37m\u001b[0m \u001b[1m3s\u001b[0m 241ms/step - loss: 4.5463e-04 - val_loss: 0.0019\n",
      "Epoch 38/100\n",
      "\u001b[1m12/12\u001b[0m \u001b[32m━━━━━━━━━━━━━━━━━━━━\u001b[0m\u001b[37m\u001b[0m \u001b[1m3s\u001b[0m 237ms/step - loss: 3.9314e-04 - val_loss: 0.0021\n",
      "Epoch 39/100\n",
      "\u001b[1m12/12\u001b[0m \u001b[32m━━━━━━━━━━━━━━━━━━━━\u001b[0m\u001b[37m\u001b[0m \u001b[1m3s\u001b[0m 225ms/step - loss: 3.8304e-04 - val_loss: 0.0025\n",
      "Epoch 40/100\n",
      "\u001b[1m12/12\u001b[0m \u001b[32m━━━━━━━━━━━━━━━━━━━━\u001b[0m\u001b[37m\u001b[0m \u001b[1m6s\u001b[0m 309ms/step - loss: 5.6629e-04 - val_loss: 0.0018\n",
      "Epoch 41/100\n",
      "\u001b[1m12/12\u001b[0m \u001b[32m━━━━━━━━━━━━━━━━━━━━\u001b[0m\u001b[37m\u001b[0m \u001b[1m5s\u001b[0m 261ms/step - loss: 4.6201e-04 - val_loss: 0.0021\n",
      "Epoch 42/100\n",
      "\u001b[1m12/12\u001b[0m \u001b[32m━━━━━━━━━━━━━━━━━━━━\u001b[0m\u001b[37m\u001b[0m \u001b[1m3s\u001b[0m 236ms/step - loss: 3.9148e-04 - val_loss: 0.0021\n",
      "Epoch 43/100\n",
      "\u001b[1m12/12\u001b[0m \u001b[32m━━━━━━━━━━━━━━━━━━━━\u001b[0m\u001b[37m\u001b[0m \u001b[1m2s\u001b[0m 205ms/step - loss: 3.8526e-04 - val_loss: 0.0019\n",
      "Epoch 44/100\n",
      "\u001b[1m12/12\u001b[0m \u001b[32m━━━━━━━━━━━━━━━━━━━━\u001b[0m\u001b[37m\u001b[0m \u001b[1m3s\u001b[0m 209ms/step - loss: 4.5952e-04 - val_loss: 0.0016\n",
      "Epoch 45/100\n",
      "\u001b[1m12/12\u001b[0m \u001b[32m━━━━━━━━━━━━━━━━━━━━\u001b[0m\u001b[37m\u001b[0m \u001b[1m3s\u001b[0m 213ms/step - loss: 3.9783e-04 - val_loss: 0.0042\n",
      "Epoch 46/100\n",
      "\u001b[1m12/12\u001b[0m \u001b[32m━━━━━━━━━━━━━━━━━━━━\u001b[0m\u001b[37m\u001b[0m \u001b[1m3s\u001b[0m 219ms/step - loss: 5.3438e-04 - val_loss: 0.0016\n",
      "Epoch 47/100\n",
      "\u001b[1m12/12\u001b[0m \u001b[32m━━━━━━━━━━━━━━━━━━━━\u001b[0m\u001b[37m\u001b[0m \u001b[1m2s\u001b[0m 195ms/step - loss: 3.9494e-04 - val_loss: 0.0016\n",
      "Epoch 48/100\n",
      "\u001b[1m12/12\u001b[0m \u001b[32m━━━━━━━━━━━━━━━━━━━━\u001b[0m\u001b[37m\u001b[0m \u001b[1m2s\u001b[0m 197ms/step - loss: 3.8262e-04 - val_loss: 0.0030\n",
      "Epoch 49/100\n",
      "\u001b[1m12/12\u001b[0m \u001b[32m━━━━━━━━━━━━━━━━━━━━\u001b[0m\u001b[37m\u001b[0m \u001b[1m3s\u001b[0m 269ms/step - loss: 4.1846e-04 - val_loss: 0.0015\n",
      "Epoch 50/100\n",
      "\u001b[1m12/12\u001b[0m \u001b[32m━━━━━━━━━━━━━━━━━━━━\u001b[0m\u001b[37m\u001b[0m \u001b[1m2s\u001b[0m 197ms/step - loss: 3.9646e-04 - val_loss: 0.0015\n",
      "Epoch 51/100\n",
      "\u001b[1m12/12\u001b[0m \u001b[32m━━━━━━━━━━━━━━━━━━━━\u001b[0m\u001b[37m\u001b[0m \u001b[1m3s\u001b[0m 289ms/step - loss: 3.4266e-04 - val_loss: 0.0023\n",
      "Epoch 52/100\n",
      "\u001b[1m12/12\u001b[0m \u001b[32m━━━━━━━━━━━━━━━━━━━━\u001b[0m\u001b[37m\u001b[0m \u001b[1m2s\u001b[0m 198ms/step - loss: 3.4785e-04 - val_loss: 0.0019\n",
      "Epoch 53/100\n",
      "\u001b[1m12/12\u001b[0m \u001b[32m━━━━━━━━━━━━━━━━━━━━\u001b[0m\u001b[37m\u001b[0m \u001b[1m4s\u001b[0m 319ms/step - loss: 3.0057e-04 - val_loss: 0.0015\n",
      "Epoch 54/100\n",
      "\u001b[1m12/12\u001b[0m \u001b[32m━━━━━━━━━━━━━━━━━━━━\u001b[0m\u001b[37m\u001b[0m \u001b[1m4s\u001b[0m 346ms/step - loss: 3.1800e-04 - val_loss: 0.0016\n",
      "Epoch 55/100\n",
      "\u001b[1m12/12\u001b[0m \u001b[32m━━━━━━━━━━━━━━━━━━━━\u001b[0m\u001b[37m\u001b[0m \u001b[1m3s\u001b[0m 272ms/step - loss: 3.0536e-04 - val_loss: 0.0017\n",
      "Epoch 56/100\n",
      "\u001b[1m12/12\u001b[0m \u001b[32m━━━━━━━━━━━━━━━━━━━━\u001b[0m\u001b[37m\u001b[0m \u001b[1m2s\u001b[0m 200ms/step - loss: 3.4798e-04 - val_loss: 0.0015\n",
      "Epoch 57/100\n",
      "\u001b[1m12/12\u001b[0m \u001b[32m━━━━━━━━━━━━━━━━━━━━\u001b[0m\u001b[37m\u001b[0m \u001b[1m3s\u001b[0m 285ms/step - loss: 3.3700e-04 - val_loss: 0.0016\n",
      "Epoch 58/100\n",
      "\u001b[1m12/12\u001b[0m \u001b[32m━━━━━━━━━━━━━━━━━━━━\u001b[0m\u001b[37m\u001b[0m \u001b[1m4s\u001b[0m 205ms/step - loss: 2.8738e-04 - val_loss: 0.0014\n",
      "Epoch 59/100\n",
      "\u001b[1m12/12\u001b[0m \u001b[32m━━━━━━━━━━━━━━━━━━━━\u001b[0m\u001b[37m\u001b[0m \u001b[1m3s\u001b[0m 206ms/step - loss: 3.1334e-04 - val_loss: 0.0015\n",
      "Epoch 60/100\n",
      "\u001b[1m12/12\u001b[0m \u001b[32m━━━━━━━━━━━━━━━━━━━━\u001b[0m\u001b[37m\u001b[0m \u001b[1m3s\u001b[0m 237ms/step - loss: 3.2285e-04 - val_loss: 0.0014\n",
      "Epoch 61/100\n",
      "\u001b[1m12/12\u001b[0m \u001b[32m━━━━━━━━━━━━━━━━━━━━\u001b[0m\u001b[37m\u001b[0m \u001b[1m5s\u001b[0m 242ms/step - loss: 3.0662e-04 - val_loss: 0.0015\n",
      "Epoch 62/100\n",
      "\u001b[1m12/12\u001b[0m \u001b[32m━━━━━━━━━━━━━━━━━━━━\u001b[0m\u001b[37m\u001b[0m \u001b[1m7s\u001b[0m 382ms/step - loss: 3.0320e-04 - val_loss: 0.0015\n",
      "Epoch 63/100\n",
      "\u001b[1m12/12\u001b[0m \u001b[32m━━━━━━━━━━━━━━━━━━━━\u001b[0m\u001b[37m\u001b[0m \u001b[1m3s\u001b[0m 234ms/step - loss: 3.0175e-04 - val_loss: 0.0013\n",
      "Epoch 64/100\n",
      "\u001b[1m12/12\u001b[0m \u001b[32m━━━━━━━━━━━━━━━━━━━━\u001b[0m\u001b[37m\u001b[0m \u001b[1m5s\u001b[0m 234ms/step - loss: 2.8385e-04 - val_loss: 0.0018\n",
      "Epoch 65/100\n",
      "\u001b[1m12/12\u001b[0m \u001b[32m━━━━━━━━━━━━━━━━━━━━\u001b[0m\u001b[37m\u001b[0m \u001b[1m4s\u001b[0m 316ms/step - loss: 2.6923e-04 - val_loss: 0.0014\n",
      "Epoch 66/100\n",
      "\u001b[1m12/12\u001b[0m \u001b[32m━━━━━━━━━━━━━━━━━━━━\u001b[0m\u001b[37m\u001b[0m \u001b[1m4s\u001b[0m 310ms/step - loss: 3.5838e-04 - val_loss: 0.0014\n",
      "Epoch 67/100\n",
      "\u001b[1m12/12\u001b[0m \u001b[32m━━━━━━━━━━━━━━━━━━━━\u001b[0m\u001b[37m\u001b[0m \u001b[1m4s\u001b[0m 349ms/step - loss: 2.6171e-04 - val_loss: 0.0014\n",
      "Epoch 68/100\n",
      "\u001b[1m12/12\u001b[0m \u001b[32m━━━━━━━━━━━━━━━━━━━━\u001b[0m\u001b[37m\u001b[0m \u001b[1m3s\u001b[0m 243ms/step - loss: 2.5326e-04 - val_loss: 0.0016\n",
      "Epoch 69/100\n",
      "\u001b[1m12/12\u001b[0m \u001b[32m━━━━━━━━━━━━━━━━━━━━\u001b[0m\u001b[37m\u001b[0m \u001b[1m3s\u001b[0m 256ms/step - loss: 2.6869e-04 - val_loss: 0.0014\n",
      "Epoch 70/100\n",
      "\u001b[1m12/12\u001b[0m \u001b[32m━━━━━━━━━━━━━━━━━━━━\u001b[0m\u001b[37m\u001b[0m \u001b[1m3s\u001b[0m 267ms/step - loss: 2.5025e-04 - val_loss: 0.0016\n",
      "Epoch 71/100\n",
      "\u001b[1m12/12\u001b[0m \u001b[32m━━━━━━━━━━━━━━━━━━━━\u001b[0m\u001b[37m\u001b[0m \u001b[1m3s\u001b[0m 271ms/step - loss: 2.2316e-04 - val_loss: 0.0012\n",
      "Epoch 72/100\n",
      "\u001b[1m12/12\u001b[0m \u001b[32m━━━━━━━━━━━━━━━━━━━━\u001b[0m\u001b[37m\u001b[0m \u001b[1m2s\u001b[0m 196ms/step - loss: 2.5853e-04 - val_loss: 0.0021\n",
      "Epoch 73/100\n",
      "\u001b[1m12/12\u001b[0m \u001b[32m━━━━━━━━━━━━━━━━━━━━\u001b[0m\u001b[37m\u001b[0m \u001b[1m3s\u001b[0m 266ms/step - loss: 3.3461e-04 - val_loss: 0.0013\n",
      "Epoch 74/100\n",
      "\u001b[1m12/12\u001b[0m \u001b[32m━━━━━━━━━━━━━━━━━━━━\u001b[0m\u001b[37m\u001b[0m \u001b[1m3s\u001b[0m 267ms/step - loss: 2.8440e-04 - val_loss: 0.0013\n",
      "Epoch 75/100\n",
      "\u001b[1m12/12\u001b[0m \u001b[32m━━━━━━━━━━━━━━━━━━━━\u001b[0m\u001b[37m\u001b[0m \u001b[1m3s\u001b[0m 249ms/step - loss: 2.5656e-04 - val_loss: 0.0014\n",
      "Epoch 76/100\n",
      "\u001b[1m12/12\u001b[0m \u001b[32m━━━━━━━━━━━━━━━━━━━━\u001b[0m\u001b[37m\u001b[0m \u001b[1m5s\u001b[0m 202ms/step - loss: 2.4027e-04 - val_loss: 0.0018\n",
      "Epoch 77/100\n",
      "\u001b[1m12/12\u001b[0m \u001b[32m━━━━━━━━━━━━━━━━━━━━\u001b[0m\u001b[37m\u001b[0m \u001b[1m3s\u001b[0m 209ms/step - loss: 2.7482e-04 - val_loss: 0.0012\n",
      "Epoch 78/100\n",
      "\u001b[1m12/12\u001b[0m \u001b[32m━━━━━━━━━━━━━━━━━━━━\u001b[0m\u001b[37m\u001b[0m \u001b[1m3s\u001b[0m 201ms/step - loss: 2.7155e-04 - val_loss: 0.0012\n",
      "Epoch 79/100\n",
      "\u001b[1m12/12\u001b[0m \u001b[32m━━━━━━━━━━━━━━━━━━━━\u001b[0m\u001b[37m\u001b[0m \u001b[1m4s\u001b[0m 366ms/step - loss: 2.4371e-04 - val_loss: 0.0017\n",
      "Epoch 80/100\n",
      "\u001b[1m12/12\u001b[0m \u001b[32m━━━━━━━━━━━━━━━━━━━━\u001b[0m\u001b[37m\u001b[0m \u001b[1m5s\u001b[0m 309ms/step - loss: 2.0967e-04 - val_loss: 0.0011\n",
      "Epoch 81/100\n",
      "\u001b[1m12/12\u001b[0m \u001b[32m━━━━━━━━━━━━━━━━━━━━\u001b[0m\u001b[37m\u001b[0m \u001b[1m3s\u001b[0m 249ms/step - loss: 2.2229e-04 - val_loss: 0.0015\n",
      "Epoch 82/100\n",
      "\u001b[1m12/12\u001b[0m \u001b[32m━━━━━━━━━━━━━━━━━━━━\u001b[0m\u001b[37m\u001b[0m \u001b[1m4s\u001b[0m 326ms/step - loss: 2.0275e-04 - val_loss: 0.0012\n",
      "Epoch 83/100\n",
      "\u001b[1m12/12\u001b[0m \u001b[32m━━━━━━━━━━━━━━━━━━━━\u001b[0m\u001b[37m\u001b[0m \u001b[1m4s\u001b[0m 316ms/step - loss: 2.4083e-04 - val_loss: 0.0016\n",
      "Epoch 84/100\n",
      "\u001b[1m12/12\u001b[0m \u001b[32m━━━━━━━━━━━━━━━━━━━━\u001b[0m\u001b[37m\u001b[0m \u001b[1m4s\u001b[0m 307ms/step - loss: 2.1304e-04 - val_loss: 0.0011\n",
      "Epoch 85/100\n",
      "\u001b[1m12/12\u001b[0m \u001b[32m━━━━━━━━━━━━━━━━━━━━\u001b[0m\u001b[37m\u001b[0m \u001b[1m3s\u001b[0m 226ms/step - loss: 2.0532e-04 - val_loss: 0.0011\n",
      "Epoch 86/100\n",
      "\u001b[1m12/12\u001b[0m \u001b[32m━━━━━━━━━━━━━━━━━━━━\u001b[0m\u001b[37m\u001b[0m \u001b[1m4s\u001b[0m 297ms/step - loss: 2.1553e-04 - val_loss: 0.0011\n",
      "Epoch 87/100\n",
      "\u001b[1m12/12\u001b[0m \u001b[32m━━━━━━━━━━━━━━━━━━━━\u001b[0m\u001b[37m\u001b[0m \u001b[1m4s\u001b[0m 335ms/step - loss: 2.1005e-04 - val_loss: 0.0018\n",
      "Epoch 88/100\n",
      "\u001b[1m12/12\u001b[0m \u001b[32m━━━━━━━━━━━━━━━━━━━━\u001b[0m\u001b[37m\u001b[0m \u001b[1m4s\u001b[0m 336ms/step - loss: 2.2220e-04 - val_loss: 0.0010\n",
      "Epoch 89/100\n",
      "\u001b[1m12/12\u001b[0m \u001b[32m━━━━━━━━━━━━━━━━━━━━\u001b[0m\u001b[37m\u001b[0m \u001b[1m4s\u001b[0m 337ms/step - loss: 1.7718e-04 - val_loss: 9.9443e-04\n",
      "Epoch 90/100\n",
      "\u001b[1m12/12\u001b[0m \u001b[32m━━━━━━━━━━━━━━━━━━━━\u001b[0m\u001b[37m\u001b[0m \u001b[1m4s\u001b[0m 311ms/step - loss: 1.8537e-04 - val_loss: 9.7902e-04\n",
      "Epoch 91/100\n",
      "\u001b[1m12/12\u001b[0m \u001b[32m━━━━━━━━━━━━━━━━━━━━\u001b[0m\u001b[37m\u001b[0m \u001b[1m4s\u001b[0m 334ms/step - loss: 2.1179e-04 - val_loss: 0.0012\n",
      "Epoch 92/100\n",
      "\u001b[1m12/12\u001b[0m \u001b[32m━━━━━━━━━━━━━━━━━━━━\u001b[0m\u001b[37m\u001b[0m \u001b[1m3s\u001b[0m 231ms/step - loss: 1.6465e-04 - val_loss: 0.0010\n",
      "Epoch 93/100\n",
      "\u001b[1m12/12\u001b[0m \u001b[32m━━━━━━━━━━━━━━━━━━━━\u001b[0m\u001b[37m\u001b[0m \u001b[1m4s\u001b[0m 350ms/step - loss: 2.2944e-04 - val_loss: 0.0017\n",
      "Epoch 94/100\n",
      "\u001b[1m12/12\u001b[0m \u001b[32m━━━━━━━━━━━━━━━━━━━━\u001b[0m\u001b[37m\u001b[0m \u001b[1m5s\u001b[0m 323ms/step - loss: 1.9428e-04 - val_loss: 0.0012\n",
      "Epoch 95/100\n",
      "\u001b[1m12/12\u001b[0m \u001b[32m━━━━━━━━━━━━━━━━━━━━\u001b[0m\u001b[37m\u001b[0m \u001b[1m5s\u001b[0m 393ms/step - loss: 1.8678e-04 - val_loss: 0.0011\n",
      "Epoch 96/100\n",
      "\u001b[1m12/12\u001b[0m \u001b[32m━━━━━━━━━━━━━━━━━━━━\u001b[0m\u001b[37m\u001b[0m \u001b[1m4s\u001b[0m 331ms/step - loss: 1.6475e-04 - val_loss: 0.0014\n",
      "Epoch 97/100\n",
      "\u001b[1m12/12\u001b[0m \u001b[32m━━━━━━━━━━━━━━━━━━━━\u001b[0m\u001b[37m\u001b[0m \u001b[1m3s\u001b[0m 222ms/step - loss: 1.8489e-04 - val_loss: 9.2591e-04\n",
      "Epoch 98/100\n",
      "\u001b[1m12/12\u001b[0m \u001b[32m━━━━━━━━━━━━━━━━━━━━\u001b[0m\u001b[37m\u001b[0m \u001b[1m3s\u001b[0m 216ms/step - loss: 1.7273e-04 - val_loss: 0.0010\n",
      "Epoch 99/100\n",
      "\u001b[1m12/12\u001b[0m \u001b[32m━━━━━━━━━━━━━━━━━━━━\u001b[0m\u001b[37m\u001b[0m \u001b[1m4s\u001b[0m 313ms/step - loss: 1.4511e-04 - val_loss: 9.1447e-04\n",
      "Epoch 100/100\n",
      "\u001b[1m12/12\u001b[0m \u001b[32m━━━━━━━━━━━━━━━━━━━━\u001b[0m\u001b[37m\u001b[0m \u001b[1m3s\u001b[0m 294ms/step - loss: 1.6908e-04 - val_loss: 8.8730e-04\n"
     ]
    },
    {
     "data": {
      "text/plain": [
       "<keras.src.callbacks.history.History at 0x218a1fb22a0>"
      ]
     },
     "execution_count": 78,
     "metadata": {},
     "output_type": "execute_result"
    }
   ],
   "source": [
    "# Fit the model\n",
    "model.fit(X_train, y_train, validation_data=(X_test, y_test), epochs=100, batch_size=64, verbose=1)"
   ]
  },
  {
   "cell_type": "code",
   "execution_count": 88,
   "id": "d47c9935-eaf3-4101-8bfe-451c55837a69",
   "metadata": {
    "execution": {
     "iopub.execute_input": "2024-08-15T11:25:09.415010Z",
     "iopub.status.busy": "2024-08-15T11:25:09.414012Z",
     "iopub.status.idle": "2024-08-15T11:25:11.713165Z",
     "shell.execute_reply": "2024-08-15T11:25:11.712159Z",
     "shell.execute_reply.started": "2024-08-15T11:25:09.415010Z"
    }
   },
   "outputs": [
    {
     "name": "stdout",
     "output_type": "stream",
     "text": [
      "\u001b[1m23/23\u001b[0m \u001b[32m━━━━━━━━━━━━━━━━━━━━\u001b[0m\u001b[37m\u001b[0m \u001b[1m1s\u001b[0m 57ms/step\n",
      "\u001b[1m11/11\u001b[0m \u001b[32m━━━━━━━━━━━━━━━━━━━━\u001b[0m\u001b[37m\u001b[0m \u001b[1m1s\u001b[0m 53ms/step\n"
     ]
    }
   ],
   "source": [
    "## Prediction\n",
    "train_predict=model.predict(X_train)\n",
    "test_predict=model.predict(X_test)"
   ]
  },
  {
   "cell_type": "code",
   "execution_count": 90,
   "id": "1f544727-6c0f-49a8-95b8-b22ac89e0bc7",
   "metadata": {
    "execution": {
     "iopub.execute_input": "2024-08-15T11:25:14.301750Z",
     "iopub.status.busy": "2024-08-15T11:25:14.300751Z",
     "iopub.status.idle": "2024-08-15T11:25:14.313782Z",
     "shell.execute_reply": "2024-08-15T11:25:14.311778Z",
     "shell.execute_reply.started": "2024-08-15T11:25:14.301750Z"
    }
   },
   "outputs": [
    {
     "data": {
      "text/plain": [
       "array([[0.08734183],\n",
       "       [0.08737821],\n",
       "       [0.08729546],\n",
       "       [0.08821844],\n",
       "       [0.09010618],\n",
       "       [0.09327219],\n",
       "       [0.09882399],\n",
       "       [0.10396754],\n",
       "       [0.10694841],\n",
       "       [0.10980991]], dtype=float32)"
      ]
     },
     "execution_count": 90,
     "metadata": {},
     "output_type": "execute_result"
    }
   ],
   "source": [
    "train_predict[:10]"
   ]
  },
  {
   "cell_type": "code",
   "execution_count": 92,
   "id": "186d4b3b-53ac-4553-af5f-3f99fbcdc0ea",
   "metadata": {
    "execution": {
     "iopub.execute_input": "2024-08-15T11:25:29.442564Z",
     "iopub.status.busy": "2024-08-15T11:25:29.441562Z",
     "iopub.status.idle": "2024-08-15T11:25:29.455742Z",
     "shell.execute_reply": "2024-08-15T11:25:29.453736Z",
     "shell.execute_reply.started": "2024-08-15T11:25:29.442564Z"
    }
   },
   "outputs": [
    {
     "data": {
      "text/plain": [
       "array([[0.26646388],\n",
       "       [0.26895136],\n",
       "       [0.27227345],\n",
       "       [0.27631077],\n",
       "       [0.27751964],\n",
       "       [0.27609405],\n",
       "       [0.27231959],\n",
       "       [0.2712314 ],\n",
       "       [0.27228522],\n",
       "       [0.273238  ]], dtype=float32)"
      ]
     },
     "execution_count": 92,
     "metadata": {},
     "output_type": "execute_result"
    }
   ],
   "source": [
    "test_predict[:10]"
   ]
  },
  {
   "cell_type": "code",
   "execution_count": 94,
   "id": "8c9d2ff0-2a86-42fd-9c52-e4b2acf53bda",
   "metadata": {
    "execution": {
     "iopub.execute_input": "2024-08-15T11:26:01.780588Z",
     "iopub.status.busy": "2024-08-15T11:26:01.780588Z",
     "iopub.status.idle": "2024-08-15T11:26:01.790056Z",
     "shell.execute_reply": "2024-08-15T11:26:01.788047Z",
     "shell.execute_reply.started": "2024-08-15T11:26:01.780588Z"
    }
   },
   "outputs": [],
   "source": [
    "## Transform back to original form by inverse scalling\n",
    "train_predict=scaler.inverse_transform(train_predict)\n",
    "test_predict=scaler.inverse_transform(test_predict)"
   ]
  },
  {
   "cell_type": "code",
   "execution_count": 96,
   "id": "e11058a0-3d6b-4559-b59a-95f34605e411",
   "metadata": {
    "execution": {
     "iopub.execute_input": "2024-08-15T11:28:14.201951Z",
     "iopub.status.busy": "2024-08-15T11:28:14.201951Z",
     "iopub.status.idle": "2024-08-15T11:28:14.328439Z",
     "shell.execute_reply": "2024-08-15T11:28:14.326435Z",
     "shell.execute_reply.started": "2024-08-15T11:28:14.201951Z"
    }
   },
   "outputs": [
    {
     "data": {
      "text/plain": [
       "141.16509687317628"
      ]
     },
     "execution_count": 96,
     "metadata": {},
     "output_type": "execute_result"
    }
   ],
   "source": [
    "## calculate RMSE\n",
    "import math\n",
    "from sklearn.metrics import mean_squared_error\n",
    "\n",
    "math.sqrt(mean_squared_error(y_train, train_predict))"
   ]
  },
  {
   "cell_type": "code",
   "execution_count": 98,
   "id": "0c24ef2d-7d09-49e6-9655-1bbcc97e2211",
   "metadata": {
    "execution": {
     "iopub.execute_input": "2024-08-15T11:29:03.304900Z",
     "iopub.status.busy": "2024-08-15T11:29:03.303901Z",
     "iopub.status.idle": "2024-08-15T11:29:03.319013Z",
     "shell.execute_reply": "2024-08-15T11:29:03.318006Z",
     "shell.execute_reply.started": "2024-08-15T11:29:03.304900Z"
    }
   },
   "outputs": [
    {
     "data": {
      "text/plain": [
       "236.60737390203653"
      ]
     },
     "execution_count": 98,
     "metadata": {},
     "output_type": "execute_result"
    }
   ],
   "source": [
    "## Test Dataset RMSE\n",
    "math.sqrt(mean_squared_error(y_test, test_predict))"
   ]
  },
  {
   "cell_type": "code",
   "execution_count": 110,
   "id": "c2413280-eaef-4cf0-b624-ddbb9b041007",
   "metadata": {
    "execution": {
     "iopub.execute_input": "2024-08-15T11:39:09.254196Z",
     "iopub.status.busy": "2024-08-15T11:39:09.253200Z",
     "iopub.status.idle": "2024-08-15T11:39:09.987187Z",
     "shell.execute_reply": "2024-08-15T11:39:09.987187Z",
     "shell.execute_reply.started": "2024-08-15T11:39:09.254196Z"
    }
   },
   "outputs": [
    {
     "data": {
      "image/png": "[encoded data removed]",
      "text/plain": [
       "<Figure size 1000x500 with 1 Axes>"
      ]
     },
     "metadata": {},
     "output_type": "display_data"
    }
   ],
   "source": [
    "# Plotting \n",
    "look_back = 100\n",
    "\n",
    "# Shift train predictions for plotting\n",
    "trainPredictPlot = np.empty_like(df1)\n",
    "trainPredictPlot[:, :] = np.nan\n",
    "trainPredictPlot[look_back:len(train_predict)+look_back, :] = train_predict\n",
    "\n",
    "# Shift test predictions for plotting\n",
    "testPredictPlot = np.empty_like(df1)\n",
    "testPredictPlot[:, :] = np.nan\n",
    "testPredictPlot[len(train_predict)+(look_back*2)+1:len(df1)-1, :] = test_predict\n",
    "\n",
    "# Plot baseline and predictions\n",
    "plt.figure(figsize=(10, 5))\n",
    "plt.plot(scaler.inverse_transform(df1), label='Actual Data')\n",
    "plt.plot(trainPredictPlot, label='Train Predictions')\n",
    "plt.plot(testPredictPlot, label='Test Predictions')\n",
    "\n",
    "# Add legend\n",
    "plt.legend()\n",
    "\n",
    "# Show plot\n",
    "plt.show()"
   ]
  },
  {
   "cell_type": "code",
   "execution_count": null,
   "id": "8e63a909-a8a6-4292-9384-a5a738b3f932",
   "metadata": {},
   "outputs": [],
   "source": []
  }
 ],
 "metadata": {
  "kernelspec": {
   "display_name": "Python 3 (ipykernel)",
   "language": "python",
   "name": "python3"
  },
  "language_info": {
   "codemirror_mode": {
    "name": "ipython",
    "version": 3
   },
   "file_extension": ".py",
   "mimetype": "text/x-python",
   "name": "python",
   "nbconvert_exporter": "python",
   "pygments_lexer": "ipython3",
   "version": "3.12.3"
  }
 },
 "nbformat": 4,
 "nbformat_minor": 5
}
