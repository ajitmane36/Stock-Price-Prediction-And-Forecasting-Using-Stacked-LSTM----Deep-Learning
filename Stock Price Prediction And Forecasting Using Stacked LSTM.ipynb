{
 "cells": [
  {
   "cell_type": "markdown",
   "id": "a92f79b1-d9da-4516-9a7b-92b3113972f8",
   "metadata": {},
   "source": [
    "# <u>Stock Price Prediction And Forecasting Using Stacked LSTM- Deep Learning</U>"
   ]
  },
  {
   "cell_type": "code",
   "execution_count": 31,
   "id": "776ad4d4-31d3-493e-90d6-ad2eaa6b719e",
   "metadata": {
    "execution": {
     "iopub.execute_input": "2024-08-14T15:17:43.197134Z",
     "iopub.status.busy": "2024-08-14T15:17:43.196154Z",
     "iopub.status.idle": "2024-08-14T15:17:43.208126Z",
     "shell.execute_reply": "2024-08-14T15:17:43.207127Z",
     "shell.execute_reply.started": "2024-08-14T15:17:43.196154Z"
    }
   },
   "outputs": [],
   "source": [
    "import numpy as np\n",
    "import pandas as pd\n",
    "import matplotlib.pyplot as plt  # Use 'plt' as the alias for matplotlib.pyplot\n",
    "%matplotlib inline\n",
    "import seaborn as sns\n",
    "\n",
    "from warnings import simplefilter  # Use 'simplefilter' for filtering warnings\n",
    "simplefilter('ignore')  # Correct function name to 'simplefilter'"
   ]
  },
  {
   "cell_type": "code",
   "execution_count": 37,
   "id": "4feb15b6-3f54-4d88-a96f-3b910d8a5c09",
   "metadata": {
    "execution": {
     "iopub.execute_input": "2024-08-14T15:20:36.053225Z",
     "iopub.status.busy": "2024-08-14T15:20:36.052230Z",
     "iopub.status.idle": "2024-08-14T15:20:36.347753Z",
     "shell.execute_reply": "2024-08-14T15:20:36.344759Z",
     "shell.execute_reply.started": "2024-08-14T15:20:36.053225Z"
    }
   },
   "outputs": [
    {
     "data": {
      "text/html": [
       "<div>\n",
       "<style scoped>\n",
       "    .dataframe tbody tr th:only-of-type {\n",
       "        vertical-align: middle;\n",
       "    }\n",
       "\n",
       "    .dataframe tbody tr th {\n",
       "        vertical-align: top;\n",
       "    }\n",
       "\n",
       "    .dataframe thead th {\n",
       "        text-align: right;\n",
       "    }\n",
       "</style>\n",
       "<table border=\"1\" class=\"dataframe\">\n",
       "  <thead>\n",
       "    <tr style=\"text-align: right;\">\n",
       "      <th></th>\n",
       "      <th>Unnamed: 0</th>\n",
       "      <th>symbol</th>\n",
       "      <th>date</th>\n",
       "      <th>close</th>\n",
       "      <th>high</th>\n",
       "      <th>low</th>\n",
       "      <th>open</th>\n",
       "      <th>volume</th>\n",
       "      <th>adjClose</th>\n",
       "      <th>adjHigh</th>\n",
       "      <th>adjLow</th>\n",
       "      <th>adjOpen</th>\n",
       "      <th>adjVolume</th>\n",
       "      <th>divCash</th>\n",
       "      <th>splitFactor</th>\n",
       "    </tr>\n",
       "  </thead>\n",
       "  <tbody>\n",
       "    <tr>\n",
       "      <th>0</th>\n",
       "      <td>0</td>\n",
       "      <td>AAPL</td>\n",
       "      <td>2015-05-27 00:00:00+00:00</td>\n",
       "      <td>132.045</td>\n",
       "      <td>132.260</td>\n",
       "      <td>130.05</td>\n",
       "      <td>130.34</td>\n",
       "      <td>45833246</td>\n",
       "      <td>121.682558</td>\n",
       "      <td>121.880685</td>\n",
       "      <td>119.844118</td>\n",
       "      <td>120.111360</td>\n",
       "      <td>45833246</td>\n",
       "      <td>0.0</td>\n",
       "      <td>1.0</td>\n",
       "    </tr>\n",
       "    <tr>\n",
       "      <th>1</th>\n",
       "      <td>1</td>\n",
       "      <td>AAPL</td>\n",
       "      <td>2015-05-28 00:00:00+00:00</td>\n",
       "      <td>131.780</td>\n",
       "      <td>131.950</td>\n",
       "      <td>131.10</td>\n",
       "      <td>131.86</td>\n",
       "      <td>30733309</td>\n",
       "      <td>121.438354</td>\n",
       "      <td>121.595013</td>\n",
       "      <td>120.811718</td>\n",
       "      <td>121.512076</td>\n",
       "      <td>30733309</td>\n",
       "      <td>0.0</td>\n",
       "      <td>1.0</td>\n",
       "    </tr>\n",
       "    <tr>\n",
       "      <th>2</th>\n",
       "      <td>2</td>\n",
       "      <td>AAPL</td>\n",
       "      <td>2015-05-29 00:00:00+00:00</td>\n",
       "      <td>130.280</td>\n",
       "      <td>131.450</td>\n",
       "      <td>129.90</td>\n",
       "      <td>131.23</td>\n",
       "      <td>50884452</td>\n",
       "      <td>120.056069</td>\n",
       "      <td>121.134251</td>\n",
       "      <td>119.705890</td>\n",
       "      <td>120.931516</td>\n",
       "      <td>50884452</td>\n",
       "      <td>0.0</td>\n",
       "      <td>1.0</td>\n",
       "    </tr>\n",
       "    <tr>\n",
       "      <th>3</th>\n",
       "      <td>3</td>\n",
       "      <td>AAPL</td>\n",
       "      <td>2015-06-01 00:00:00+00:00</td>\n",
       "      <td>130.535</td>\n",
       "      <td>131.390</td>\n",
       "      <td>130.05</td>\n",
       "      <td>131.20</td>\n",
       "      <td>32112797</td>\n",
       "      <td>120.291057</td>\n",
       "      <td>121.078960</td>\n",
       "      <td>119.844118</td>\n",
       "      <td>120.903870</td>\n",
       "      <td>32112797</td>\n",
       "      <td>0.0</td>\n",
       "      <td>1.0</td>\n",
       "    </tr>\n",
       "    <tr>\n",
       "      <th>4</th>\n",
       "      <td>4</td>\n",
       "      <td>AAPL</td>\n",
       "      <td>2015-06-02 00:00:00+00:00</td>\n",
       "      <td>129.960</td>\n",
       "      <td>130.655</td>\n",
       "      <td>129.32</td>\n",
       "      <td>129.86</td>\n",
       "      <td>33667627</td>\n",
       "      <td>119.761181</td>\n",
       "      <td>120.401640</td>\n",
       "      <td>119.171406</td>\n",
       "      <td>119.669029</td>\n",
       "      <td>33667627</td>\n",
       "      <td>0.0</td>\n",
       "      <td>1.0</td>\n",
       "    </tr>\n",
       "  </tbody>\n",
       "</table>\n",
       "</div>"
      ],
      "text/plain": [
       "   Unnamed: 0 symbol                       date    close     high     low  \\\n",
       "0           0   AAPL  2015-05-27 00:00:00+00:00  132.045  132.260  130.05   \n",
       "1           1   AAPL  2015-05-28 00:00:00+00:00  131.780  131.950  131.10   \n",
       "2           2   AAPL  2015-05-29 00:00:00+00:00  130.280  131.450  129.90   \n",
       "3           3   AAPL  2015-06-01 00:00:00+00:00  130.535  131.390  130.05   \n",
       "4           4   AAPL  2015-06-02 00:00:00+00:00  129.960  130.655  129.32   \n",
       "\n",
       "     open    volume    adjClose     adjHigh      adjLow     adjOpen  \\\n",
       "0  130.34  45833246  121.682558  121.880685  119.844118  120.111360   \n",
       "1  131.86  30733309  121.438354  121.595013  120.811718  121.512076   \n",
       "2  131.23  50884452  120.056069  121.134251  119.705890  120.931516   \n",
       "3  131.20  32112797  120.291057  121.078960  119.844118  120.903870   \n",
       "4  129.86  33667627  119.761181  120.401640  119.171406  119.669029   \n",
       "\n",
       "   adjVolume  divCash  splitFactor  \n",
       "0   45833246      0.0          1.0  \n",
       "1   30733309      0.0          1.0  \n",
       "2   50884452      0.0          1.0  \n",
       "3   32112797      0.0          1.0  \n",
       "4   33667627      0.0          1.0  "
      ]
     },
     "execution_count": 37,
     "metadata": {},
     "output_type": "execute_result"
    }
   ],
   "source": [
    "## Data Collection\n",
    "df=pd.read_csv(r\"C:\\Users\\ajitm\\Data Science Cources\\Deep Learning Projects\\Stock-Price-Prediction-And-Forecasting-Using-Stacked-LSTM--Deep-Learning\\AAPL.csv\")\n",
    "df.head()"
   ]
  },
  {
   "cell_type": "code",
   "execution_count": 39,
   "id": "6402262a-35ba-427f-a77e-323d3b296f0c",
   "metadata": {
    "execution": {
     "iopub.execute_input": "2024-08-14T15:21:31.832681Z",
     "iopub.status.busy": "2024-08-14T15:21:31.831698Z",
     "iopub.status.idle": "2024-08-14T15:21:31.867938Z",
     "shell.execute_reply": "2024-08-14T15:21:31.864941Z",
     "shell.execute_reply.started": "2024-08-14T15:21:31.832681Z"
    }
   },
   "outputs": [
    {
     "data": {
      "text/html": [
       "<div>\n",
       "<style scoped>\n",
       "    .dataframe tbody tr th:only-of-type {\n",
       "        vertical-align: middle;\n",
       "    }\n",
       "\n",
       "    .dataframe tbody tr th {\n",
       "        vertical-align: top;\n",
       "    }\n",
       "\n",
       "    .dataframe thead th {\n",
       "        text-align: right;\n",
       "    }\n",
       "</style>\n",
       "<table border=\"1\" class=\"dataframe\">\n",
       "  <thead>\n",
       "    <tr style=\"text-align: right;\">\n",
       "      <th></th>\n",
       "      <th>Unnamed: 0</th>\n",
       "      <th>symbol</th>\n",
       "      <th>date</th>\n",
       "      <th>close</th>\n",
       "      <th>high</th>\n",
       "      <th>low</th>\n",
       "      <th>open</th>\n",
       "      <th>volume</th>\n",
       "      <th>adjClose</th>\n",
       "      <th>adjHigh</th>\n",
       "      <th>adjLow</th>\n",
       "      <th>adjOpen</th>\n",
       "      <th>adjVolume</th>\n",
       "      <th>divCash</th>\n",
       "      <th>splitFactor</th>\n",
       "    </tr>\n",
       "  </thead>\n",
       "  <tbody>\n",
       "    <tr>\n",
       "      <th>1253</th>\n",
       "      <td>1253</td>\n",
       "      <td>AAPL</td>\n",
       "      <td>2020-05-18 00:00:00+00:00</td>\n",
       "      <td>314.96</td>\n",
       "      <td>316.50</td>\n",
       "      <td>310.3241</td>\n",
       "      <td>313.17</td>\n",
       "      <td>33843125</td>\n",
       "      <td>314.96</td>\n",
       "      <td>316.50</td>\n",
       "      <td>310.3241</td>\n",
       "      <td>313.17</td>\n",
       "      <td>33843125</td>\n",
       "      <td>0.0</td>\n",
       "      <td>1.0</td>\n",
       "    </tr>\n",
       "    <tr>\n",
       "      <th>1254</th>\n",
       "      <td>1254</td>\n",
       "      <td>AAPL</td>\n",
       "      <td>2020-05-19 00:00:00+00:00</td>\n",
       "      <td>313.14</td>\n",
       "      <td>318.52</td>\n",
       "      <td>313.0100</td>\n",
       "      <td>315.03</td>\n",
       "      <td>25432385</td>\n",
       "      <td>313.14</td>\n",
       "      <td>318.52</td>\n",
       "      <td>313.0100</td>\n",
       "      <td>315.03</td>\n",
       "      <td>25432385</td>\n",
       "      <td>0.0</td>\n",
       "      <td>1.0</td>\n",
       "    </tr>\n",
       "    <tr>\n",
       "      <th>1255</th>\n",
       "      <td>1255</td>\n",
       "      <td>AAPL</td>\n",
       "      <td>2020-05-20 00:00:00+00:00</td>\n",
       "      <td>319.23</td>\n",
       "      <td>319.52</td>\n",
       "      <td>316.2000</td>\n",
       "      <td>316.68</td>\n",
       "      <td>27876215</td>\n",
       "      <td>319.23</td>\n",
       "      <td>319.52</td>\n",
       "      <td>316.2000</td>\n",
       "      <td>316.68</td>\n",
       "      <td>27876215</td>\n",
       "      <td>0.0</td>\n",
       "      <td>1.0</td>\n",
       "    </tr>\n",
       "    <tr>\n",
       "      <th>1256</th>\n",
       "      <td>1256</td>\n",
       "      <td>AAPL</td>\n",
       "      <td>2020-05-21 00:00:00+00:00</td>\n",
       "      <td>316.85</td>\n",
       "      <td>320.89</td>\n",
       "      <td>315.8700</td>\n",
       "      <td>318.66</td>\n",
       "      <td>25672211</td>\n",
       "      <td>316.85</td>\n",
       "      <td>320.89</td>\n",
       "      <td>315.8700</td>\n",
       "      <td>318.66</td>\n",
       "      <td>25672211</td>\n",
       "      <td>0.0</td>\n",
       "      <td>1.0</td>\n",
       "    </tr>\n",
       "    <tr>\n",
       "      <th>1257</th>\n",
       "      <td>1257</td>\n",
       "      <td>AAPL</td>\n",
       "      <td>2020-05-22 00:00:00+00:00</td>\n",
       "      <td>318.89</td>\n",
       "      <td>319.23</td>\n",
       "      <td>315.3500</td>\n",
       "      <td>315.77</td>\n",
       "      <td>20450754</td>\n",
       "      <td>318.89</td>\n",
       "      <td>319.23</td>\n",
       "      <td>315.3500</td>\n",
       "      <td>315.77</td>\n",
       "      <td>20450754</td>\n",
       "      <td>0.0</td>\n",
       "      <td>1.0</td>\n",
       "    </tr>\n",
       "  </tbody>\n",
       "</table>\n",
       "</div>"
      ],
      "text/plain": [
       "      Unnamed: 0 symbol                       date   close    high       low  \\\n",
       "1253        1253   AAPL  2020-05-18 00:00:00+00:00  314.96  316.50  310.3241   \n",
       "1254        1254   AAPL  2020-05-19 00:00:00+00:00  313.14  318.52  313.0100   \n",
       "1255        1255   AAPL  2020-05-20 00:00:00+00:00  319.23  319.52  316.2000   \n",
       "1256        1256   AAPL  2020-05-21 00:00:00+00:00  316.85  320.89  315.8700   \n",
       "1257        1257   AAPL  2020-05-22 00:00:00+00:00  318.89  319.23  315.3500   \n",
       "\n",
       "        open    volume  adjClose  adjHigh    adjLow  adjOpen  adjVolume  \\\n",
       "1253  313.17  33843125    314.96   316.50  310.3241   313.17   33843125   \n",
       "1254  315.03  25432385    313.14   318.52  313.0100   315.03   25432385   \n",
       "1255  316.68  27876215    319.23   319.52  316.2000   316.68   27876215   \n",
       "1256  318.66  25672211    316.85   320.89  315.8700   318.66   25672211   \n",
       "1257  315.77  20450754    318.89   319.23  315.3500   315.77   20450754   \n",
       "\n",
       "      divCash  splitFactor  \n",
       "1253      0.0          1.0  \n",
       "1254      0.0          1.0  \n",
       "1255      0.0          1.0  \n",
       "1256      0.0          1.0  \n",
       "1257      0.0          1.0  "
      ]
     },
     "execution_count": 39,
     "metadata": {},
     "output_type": "execute_result"
    }
   ],
   "source": [
    "df.tail()"
   ]
  },
  {
   "cell_type": "code",
   "execution_count": 49,
   "id": "716b0d91-0645-4d88-afdb-b56d0857a1f3",
   "metadata": {
    "execution": {
     "iopub.execute_input": "2024-08-14T15:25:55.763014Z",
     "iopub.status.busy": "2024-08-14T15:25:55.762014Z",
     "iopub.status.idle": "2024-08-14T15:25:55.774102Z",
     "shell.execute_reply": "2024-08-14T15:25:55.772106Z",
     "shell.execute_reply.started": "2024-08-14T15:25:55.763014Z"
    }
   },
   "outputs": [],
   "source": [
    "## Using 'close' for forecasting stock price\n",
    "df1=df.reset_index()['close']"
   ]
  },
  {
   "cell_type": "code",
   "execution_count": 52,
   "id": "f48ea321-4b74-4f92-a175-6f41420b85bd",
   "metadata": {
    "execution": {
     "iopub.execute_input": "2024-08-14T15:26:17.754842Z",
     "iopub.status.busy": "2024-08-14T15:26:17.753843Z",
     "iopub.status.idle": "2024-08-14T15:26:17.768465Z",
     "shell.execute_reply": "2024-08-14T15:26:17.767459Z",
     "shell.execute_reply.started": "2024-08-14T15:26:17.754842Z"
    }
   },
   "outputs": [
    {
     "data": {
      "text/plain": [
       "0    132.045\n",
       "1    131.780\n",
       "2    130.280\n",
       "3    130.535\n",
       "4    129.960\n",
       "Name: close, dtype: float64"
      ]
     },
     "execution_count": 52,
     "metadata": {},
     "output_type": "execute_result"
    }
   ],
   "source": [
    "df1.head()"
   ]
  },
  {
   "cell_type": "code",
   "execution_count": 56,
   "id": "a46719cf-2049-4877-a5ff-e948e2477c25",
   "metadata": {
    "execution": {
     "iopub.execute_input": "2024-08-14T15:26:36.292672Z",
     "iopub.status.busy": "2024-08-14T15:26:36.291672Z",
     "iopub.status.idle": "2024-08-14T15:26:36.306018Z",
     "shell.execute_reply": "2024-08-14T15:26:36.303993Z",
     "shell.execute_reply.started": "2024-08-14T15:26:36.292672Z"
    }
   },
   "outputs": [
    {
     "data": {
      "text/plain": [
       "1000    190.08\n",
       "1001    189.00\n",
       "1002    183.09\n",
       "1003    186.60\n",
       "1004    182.78\n",
       "         ...  \n",
       "1253    314.96\n",
       "1254    313.14\n",
       "1255    319.23\n",
       "1256    316.85\n",
       "1257    318.89\n",
       "Name: close, Length: 258, dtype: float64"
      ]
     },
     "execution_count": 56,
     "metadata": {},
     "output_type": "execute_result"
    }
   ],
   "source": [
    "df1[1000:]"
   ]
  },
  {
   "cell_type": "code",
   "execution_count": 62,
   "id": "1bbb10e5-e184-4593-ba7f-0aea3881e3c6",
   "metadata": {
    "execution": {
     "iopub.execute_input": "2024-08-14T15:27:43.750426Z",
     "iopub.status.busy": "2024-08-14T15:27:43.749426Z",
     "iopub.status.idle": "2024-08-14T15:27:44.715310Z",
     "shell.execute_reply": "2024-08-14T15:27:44.713305Z",
     "shell.execute_reply.started": "2024-08-14T15:27:43.750426Z"
    }
   },
   "outputs": [
    {
     "data": {
      "text/plain": [
       "<Axes: ylabel='close'>"
      ]
     },
     "execution_count": 62,
     "metadata": {},
     "output_type": "execute_result"
    },
    {
     "data": {
      "image/png": "[encoded data removed]",
      "text/plain": [
       "<Figure size 640x480 with 1 Axes>"
      ]
     },
     "metadata": {},
     "output_type": "display_data"
    }
   ],
   "source": [
    "# Plooting graph \n",
    "sns.lineplot(df1)"
   ]
  },
  {
   "cell_type": "markdown",
   "id": "1119d1d9-d881-48d2-a07f-73f5da41b034",
   "metadata": {
    "execution": {
     "iopub.execute_input": "2024-08-14T15:27:26.212976Z",
     "iopub.status.busy": "2024-08-14T15:27:26.211976Z",
     "iopub.status.idle": "2024-08-14T15:27:26.943581Z",
     "shell.execute_reply": "2024-08-14T15:27:26.942577Z",
     "shell.execute_reply.started": "2024-08-14T15:27:26.212976Z"
    }
   },
   "source": [
    "- LSTM are sensitive to the scale of the data. so we apply MinMax scaler."
   ]
  },
  {
   "cell_type": "code",
   "execution_count": 67,
   "id": "bec0e43e-d4ef-451d-a277-6ddfc315ac85",
   "metadata": {
    "execution": {
     "iopub.execute_input": "2024-08-14T15:31:43.119897Z",
     "iopub.status.busy": "2024-08-14T15:31:43.118901Z",
     "iopub.status.idle": "2024-08-14T15:31:43.133584Z",
     "shell.execute_reply": "2024-08-14T15:31:43.131578Z",
     "shell.execute_reply.started": "2024-08-14T15:31:43.119897Z"
    }
   },
   "outputs": [],
   "source": [
    "from sklearn.preprocessing import MinMaxScaler\n",
    "scaler=MinMaxScaler(feature_range=(0,1))\n",
    "df1=scaler.fit_transform(np.array(df1).reshape(-1,1))"
   ]
  },
  {
   "cell_type": "code",
   "execution_count": 69,
   "id": "e0a046dd-4e02-4bb9-9f93-c8eb2e807a7e",
   "metadata": {
    "execution": {
     "iopub.execute_input": "2024-08-14T15:31:50.762432Z",
     "iopub.status.busy": "2024-08-14T15:31:50.761430Z",
     "iopub.status.idle": "2024-08-14T15:31:50.776802Z",
     "shell.execute_reply": "2024-08-14T15:31:50.775822Z",
     "shell.execute_reply.started": "2024-08-14T15:31:50.762432Z"
    }
   },
   "outputs": [
    {
     "data": {
      "text/plain": [
       "(1258, 1)"
      ]
     },
     "execution_count": 69,
     "metadata": {},
     "output_type": "execute_result"
    }
   ],
   "source": [
    "df1.shape"
   ]
  },
  {
   "cell_type": "code",
   "execution_count": 71,
   "id": "7e4cfe0e-a3e9-442d-ace8-696f748e2bea",
   "metadata": {
    "execution": {
     "iopub.execute_input": "2024-08-14T15:32:11.131634Z",
     "iopub.status.busy": "2024-08-14T15:32:11.129636Z",
     "iopub.status.idle": "2024-08-14T15:32:11.140602Z",
     "shell.execute_reply": "2024-08-14T15:32:11.139609Z",
     "shell.execute_reply.started": "2024-08-14T15:32:11.130633Z"
    }
   },
   "outputs": [
    {
     "data": {
      "text/plain": [
       "array([[0.17607447],\n",
       "       [0.17495567],\n",
       "       [0.16862282],\n",
       "       ...,\n",
       "       [0.96635143],\n",
       "       [0.9563033 ],\n",
       "       [0.96491598]])"
      ]
     },
     "execution_count": 71,
     "metadata": {},
     "output_type": "execute_result"
    }
   ],
   "source": [
    "df1"
   ]
  },
  {
   "cell_type": "code",
   "execution_count": null,
   "id": "9d0b3c2c-b76c-4c6e-a204-04f4642ccb7d",
   "metadata": {},
   "outputs": [],
   "source": []
  }
 ],
 "metadata": {
  "kernelspec": {
   "display_name": "Python 3 (ipykernel)",
   "language": "python",
   "name": "python3"
  },
  "language_info": {
   "codemirror_mode": {
    "name": "ipython",
    "version": 3
   },
   "file_extension": ".py",
   "mimetype": "text/x-python",
   "name": "python",
   "nbconvert_exporter": "python",
   "pygments_lexer": "ipython3",
   "version": "3.12.3"
  }
 },
 "nbformat": 4,
 "nbformat_minor": 5
}
